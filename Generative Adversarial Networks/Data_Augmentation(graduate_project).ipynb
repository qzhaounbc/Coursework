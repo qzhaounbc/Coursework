{
  "cells": [
    {
      "cell_type": "markdown",
      "metadata": {
        "id": "wWaK01qpGZxo"
      },
      "source": [
        "## Credit Card Fraud Dataset"
      ]
    },
    {
      "cell_type": "markdown",
      "metadata": {
        "id": "2yaqoyh7Z_-E"
      },
      "source": [
        "# define global variable"
      ]
    },
    {
      "cell_type": "code",
      "execution_count": null,
      "metadata": {
        "id": "QX0NxzHWNkOH"
      },
      "outputs": [],
      "source": [
        "random_state=1980\n",
        "sampling_strategy=1.0"
      ]
    },
    {
      "cell_type": "markdown",
      "metadata": {
        "id": "0cEaZisacJjj"
      },
      "source": [
        "# Import dataset"
      ]
    },
    {
      "cell_type": "code",
      "execution_count": null,
      "metadata": {
        "id": "eeFHaIkNHgJy"
      },
      "outputs": [],
      "source": [
        "import pandas as pd\n",
        "import numpy as np\n",
        "import seaborn as sns\n",
        "import matplotlib.pyplot as plt\n",
        "%matplotlib inline\n",
        "import warnings\n",
        "warnings.filterwarnings(\"ignore\")\n",
        "from sklearn.model_selection import train_test_split\n",
        "from sklearn.preprocessing import StandardScaler\n",
        "from sklearn.pipeline import Pipeline\n",
        "from tensorflow.keras.models import Sequential\n",
        "from tensorflow.keras.layers import Dense,Reshape, Dropout,BatchNormalization,Conv1DTranspose,Conv1D,Flatten\n",
        "import tensorflow as tf\n",
        "from tensorflow.keras.layers import LeakyReLU"
      ]
    },
    {
      "cell_type": "code",
      "execution_count": null,
      "metadata": {
        "colab": {
          "base_uri": "https://localhost:8080/"
        },
        "id": "XukbA6ZtHkb1",
        "outputId": "d279adc9-5233-4786-c9db-9c697b0fd92e"
      },
      "outputs": [
        {
          "output_type": "execute_result",
          "data": {
            "text/plain": [
              "   Time        V1        V2        V3        V4        V5        V6        V7  \\\n",
              "0   0.0 -1.359807 -0.072781  2.536347  1.378155 -0.338321  0.462388  0.239599   \n",
              "1   0.0  1.191857  0.266151  0.166480  0.448154  0.060018 -0.082361 -0.078803   \n",
              "2   1.0 -1.358354 -1.340163  1.773209  0.379780 -0.503198  1.800499  0.791461   \n",
              "3   1.0 -0.966272 -0.185226  1.792993 -0.863291 -0.010309  1.247203  0.237609   \n",
              "4   2.0 -1.158233  0.877737  1.548718  0.403034 -0.407193  0.095921  0.592941   \n",
              "\n",
              "         V8        V9  ...       V21       V22       V23       V24       V25  \\\n",
              "0  0.098698  0.363787  ... -0.018307  0.277838 -0.110474  0.066928  0.128539   \n",
              "1  0.085102 -0.255425  ... -0.225775 -0.638672  0.101288 -0.339846  0.167170   \n",
              "2  0.247676 -1.514654  ...  0.247998  0.771679  0.909412 -0.689281 -0.327642   \n",
              "3  0.377436 -1.387024  ... -0.108300  0.005274 -0.190321 -1.175575  0.647376   \n",
              "4 -0.270533  0.817739  ... -0.009431  0.798278 -0.137458  0.141267 -0.206010   \n",
              "\n",
              "        V26       V27       V28  Amount  Class  \n",
              "0 -0.189115  0.133558 -0.021053  149.62      0  \n",
              "1  0.125895 -0.008983  0.014724    2.69      0  \n",
              "2 -0.139097 -0.055353 -0.059752  378.66      0  \n",
              "3 -0.221929  0.062723  0.061458  123.50      0  \n",
              "4  0.502292  0.219422  0.215153   69.99      0  \n",
              "\n",
              "[5 rows x 31 columns]"
            ],
            "text/html": [
              "\n",
              "  <div id=\"df-4ba14998-6957-4eb3-b2e5-382d6a875f33\" class=\"colab-df-container\">\n",
              "    <div>\n",
              "<style scoped>\n",
              "    .dataframe tbody tr th:only-of-type {\n",
              "        vertical-align: middle;\n",
              "    }\n",
              "\n",
              "    .dataframe tbody tr th {\n",
              "        vertical-align: top;\n",
              "    }\n",
              "\n",
              "    .dataframe thead th {\n",
              "        text-align: right;\n",
              "    }\n",
              "</style>\n",
              "<table border=\"1\" class=\"dataframe\">\n",
              "  <thead>\n",
              "    <tr style=\"text-align: right;\">\n",
              "      <th></th>\n",
              "      <th>Time</th>\n",
              "      <th>V1</th>\n",
              "      <th>V2</th>\n",
              "      <th>V3</th>\n",
              "      <th>V4</th>\n",
              "      <th>V5</th>\n",
              "      <th>V6</th>\n",
              "      <th>V7</th>\n",
              "      <th>V8</th>\n",
              "      <th>V9</th>\n",
              "      <th>...</th>\n",
              "      <th>V21</th>\n",
              "      <th>V22</th>\n",
              "      <th>V23</th>\n",
              "      <th>V24</th>\n",
              "      <th>V25</th>\n",
              "      <th>V26</th>\n",
              "      <th>V27</th>\n",
              "      <th>V28</th>\n",
              "      <th>Amount</th>\n",
              "      <th>Class</th>\n",
              "    </tr>\n",
              "  </thead>\n",
              "  <tbody>\n",
              "    <tr>\n",
              "      <th>0</th>\n",
              "      <td>0.0</td>\n",
              "      <td>-1.359807</td>\n",
              "      <td>-0.072781</td>\n",
              "      <td>2.536347</td>\n",
              "      <td>1.378155</td>\n",
              "      <td>-0.338321</td>\n",
              "      <td>0.462388</td>\n",
              "      <td>0.239599</td>\n",
              "      <td>0.098698</td>\n",
              "      <td>0.363787</td>\n",
              "      <td>...</td>\n",
              "      <td>-0.018307</td>\n",
              "      <td>0.277838</td>\n",
              "      <td>-0.110474</td>\n",
              "      <td>0.066928</td>\n",
              "      <td>0.128539</td>\n",
              "      <td>-0.189115</td>\n",
              "      <td>0.133558</td>\n",
              "      <td>-0.021053</td>\n",
              "      <td>149.62</td>\n",
              "      <td>0</td>\n",
              "    </tr>\n",
              "    <tr>\n",
              "      <th>1</th>\n",
              "      <td>0.0</td>\n",
              "      <td>1.191857</td>\n",
              "      <td>0.266151</td>\n",
              "      <td>0.166480</td>\n",
              "      <td>0.448154</td>\n",
              "      <td>0.060018</td>\n",
              "      <td>-0.082361</td>\n",
              "      <td>-0.078803</td>\n",
              "      <td>0.085102</td>\n",
              "      <td>-0.255425</td>\n",
              "      <td>...</td>\n",
              "      <td>-0.225775</td>\n",
              "      <td>-0.638672</td>\n",
              "      <td>0.101288</td>\n",
              "      <td>-0.339846</td>\n",
              "      <td>0.167170</td>\n",
              "      <td>0.125895</td>\n",
              "      <td>-0.008983</td>\n",
              "      <td>0.014724</td>\n",
              "      <td>2.69</td>\n",
              "      <td>0</td>\n",
              "    </tr>\n",
              "    <tr>\n",
              "      <th>2</th>\n",
              "      <td>1.0</td>\n",
              "      <td>-1.358354</td>\n",
              "      <td>-1.340163</td>\n",
              "      <td>1.773209</td>\n",
              "      <td>0.379780</td>\n",
              "      <td>-0.503198</td>\n",
              "      <td>1.800499</td>\n",
              "      <td>0.791461</td>\n",
              "      <td>0.247676</td>\n",
              "      <td>-1.514654</td>\n",
              "      <td>...</td>\n",
              "      <td>0.247998</td>\n",
              "      <td>0.771679</td>\n",
              "      <td>0.909412</td>\n",
              "      <td>-0.689281</td>\n",
              "      <td>-0.327642</td>\n",
              "      <td>-0.139097</td>\n",
              "      <td>-0.055353</td>\n",
              "      <td>-0.059752</td>\n",
              "      <td>378.66</td>\n",
              "      <td>0</td>\n",
              "    </tr>\n",
              "    <tr>\n",
              "      <th>3</th>\n",
              "      <td>1.0</td>\n",
              "      <td>-0.966272</td>\n",
              "      <td>-0.185226</td>\n",
              "      <td>1.792993</td>\n",
              "      <td>-0.863291</td>\n",
              "      <td>-0.010309</td>\n",
              "      <td>1.247203</td>\n",
              "      <td>0.237609</td>\n",
              "      <td>0.377436</td>\n",
              "      <td>-1.387024</td>\n",
              "      <td>...</td>\n",
              "      <td>-0.108300</td>\n",
              "      <td>0.005274</td>\n",
              "      <td>-0.190321</td>\n",
              "      <td>-1.175575</td>\n",
              "      <td>0.647376</td>\n",
              "      <td>-0.221929</td>\n",
              "      <td>0.062723</td>\n",
              "      <td>0.061458</td>\n",
              "      <td>123.50</td>\n",
              "      <td>0</td>\n",
              "    </tr>\n",
              "    <tr>\n",
              "      <th>4</th>\n",
              "      <td>2.0</td>\n",
              "      <td>-1.158233</td>\n",
              "      <td>0.877737</td>\n",
              "      <td>1.548718</td>\n",
              "      <td>0.403034</td>\n",
              "      <td>-0.407193</td>\n",
              "      <td>0.095921</td>\n",
              "      <td>0.592941</td>\n",
              "      <td>-0.270533</td>\n",
              "      <td>0.817739</td>\n",
              "      <td>...</td>\n",
              "      <td>-0.009431</td>\n",
              "      <td>0.798278</td>\n",
              "      <td>-0.137458</td>\n",
              "      <td>0.141267</td>\n",
              "      <td>-0.206010</td>\n",
              "      <td>0.502292</td>\n",
              "      <td>0.219422</td>\n",
              "      <td>0.215153</td>\n",
              "      <td>69.99</td>\n",
              "      <td>0</td>\n",
              "    </tr>\n",
              "  </tbody>\n",
              "</table>\n",
              "<p>5 rows × 31 columns</p>\n",
              "</div>\n",
              "    <div class=\"colab-df-buttons\">\n",
              "\n",
              "  <div class=\"colab-df-container\">\n",
              "    <button class=\"colab-df-convert\" onclick=\"convertToInteractive('df-4ba14998-6957-4eb3-b2e5-382d6a875f33')\"\n",
              "            title=\"Convert this dataframe to an interactive table.\"\n",
              "            style=\"display:none;\">\n",
              "\n",
              "  <svg xmlns=\"http://www.w3.org/2000/svg\" height=\"24px\" viewBox=\"0 -960 960 960\">\n",
              "    <path d=\"M120-120v-720h720v720H120Zm60-500h600v-160H180v160Zm220 220h160v-160H400v160Zm0 220h160v-160H400v160ZM180-400h160v-160H180v160Zm440 0h160v-160H620v160ZM180-180h160v-160H180v160Zm440 0h160v-160H620v160Z\"/>\n",
              "  </svg>\n",
              "    </button>\n",
              "\n",
              "  <style>\n",
              "    .colab-df-container {\n",
              "      display:flex;\n",
              "      gap: 12px;\n",
              "    }\n",
              "\n",
              "    .colab-df-convert {\n",
              "      background-color: #E8F0FE;\n",
              "      border: none;\n",
              "      border-radius: 50%;\n",
              "      cursor: pointer;\n",
              "      display: none;\n",
              "      fill: #1967D2;\n",
              "      height: 32px;\n",
              "      padding: 0 0 0 0;\n",
              "      width: 32px;\n",
              "    }\n",
              "\n",
              "    .colab-df-convert:hover {\n",
              "      background-color: #E2EBFA;\n",
              "      box-shadow: 0px 1px 2px rgba(60, 64, 67, 0.3), 0px 1px 3px 1px rgba(60, 64, 67, 0.15);\n",
              "      fill: #174EA6;\n",
              "    }\n",
              "\n",
              "    .colab-df-buttons div {\n",
              "      margin-bottom: 4px;\n",
              "    }\n",
              "\n",
              "    [theme=dark] .colab-df-convert {\n",
              "      background-color: #3B4455;\n",
              "      fill: #D2E3FC;\n",
              "    }\n",
              "\n",
              "    [theme=dark] .colab-df-convert:hover {\n",
              "      background-color: #434B5C;\n",
              "      box-shadow: 0px 1px 3px 1px rgba(0, 0, 0, 0.15);\n",
              "      filter: drop-shadow(0px 1px 2px rgba(0, 0, 0, 0.3));\n",
              "      fill: #FFFFFF;\n",
              "    }\n",
              "  </style>\n",
              "\n",
              "    <script>\n",
              "      const buttonEl =\n",
              "        document.querySelector('#df-4ba14998-6957-4eb3-b2e5-382d6a875f33 button.colab-df-convert');\n",
              "      buttonEl.style.display =\n",
              "        google.colab.kernel.accessAllowed ? 'block' : 'none';\n",
              "\n",
              "      async function convertToInteractive(key) {\n",
              "        const element = document.querySelector('#df-4ba14998-6957-4eb3-b2e5-382d6a875f33');\n",
              "        const dataTable =\n",
              "          await google.colab.kernel.invokeFunction('convertToInteractive',\n",
              "                                                    [key], {});\n",
              "        if (!dataTable) return;\n",
              "\n",
              "        const docLinkHtml = 'Like what you see? Visit the ' +\n",
              "          '<a target=\"_blank\" href=https://colab.research.google.com/notebooks/data_table.ipynb>data table notebook</a>'\n",
              "          + ' to learn more about interactive tables.';\n",
              "        element.innerHTML = '';\n",
              "        dataTable['output_type'] = 'display_data';\n",
              "        await google.colab.output.renderOutput(dataTable, element);\n",
              "        const docLink = document.createElement('div');\n",
              "        docLink.innerHTML = docLinkHtml;\n",
              "        element.appendChild(docLink);\n",
              "      }\n",
              "    </script>\n",
              "  </div>\n",
              "\n",
              "\n",
              "<div id=\"df-0ba8a109-19d5-4a76-a2e6-d9c1cb1921f9\">\n",
              "  <button class=\"colab-df-quickchart\" onclick=\"quickchart('df-0ba8a109-19d5-4a76-a2e6-d9c1cb1921f9')\"\n",
              "            title=\"Suggest charts\"\n",
              "            style=\"display:none;\">\n",
              "\n",
              "<svg xmlns=\"http://www.w3.org/2000/svg\" height=\"24px\"viewBox=\"0 0 24 24\"\n",
              "     width=\"24px\">\n",
              "    <g>\n",
              "        <path d=\"M19 3H5c-1.1 0-2 .9-2 2v14c0 1.1.9 2 2 2h14c1.1 0 2-.9 2-2V5c0-1.1-.9-2-2-2zM9 17H7v-7h2v7zm4 0h-2V7h2v10zm4 0h-2v-4h2v4z\"/>\n",
              "    </g>\n",
              "</svg>\n",
              "  </button>\n",
              "\n",
              "<style>\n",
              "  .colab-df-quickchart {\n",
              "      --bg-color: #E8F0FE;\n",
              "      --fill-color: #1967D2;\n",
              "      --hover-bg-color: #E2EBFA;\n",
              "      --hover-fill-color: #174EA6;\n",
              "      --disabled-fill-color: #AAA;\n",
              "      --disabled-bg-color: #DDD;\n",
              "  }\n",
              "\n",
              "  [theme=dark] .colab-df-quickchart {\n",
              "      --bg-color: #3B4455;\n",
              "      --fill-color: #D2E3FC;\n",
              "      --hover-bg-color: #434B5C;\n",
              "      --hover-fill-color: #FFFFFF;\n",
              "      --disabled-bg-color: #3B4455;\n",
              "      --disabled-fill-color: #666;\n",
              "  }\n",
              "\n",
              "  .colab-df-quickchart {\n",
              "    background-color: var(--bg-color);\n",
              "    border: none;\n",
              "    border-radius: 50%;\n",
              "    cursor: pointer;\n",
              "    display: none;\n",
              "    fill: var(--fill-color);\n",
              "    height: 32px;\n",
              "    padding: 0;\n",
              "    width: 32px;\n",
              "  }\n",
              "\n",
              "  .colab-df-quickchart:hover {\n",
              "    background-color: var(--hover-bg-color);\n",
              "    box-shadow: 0 1px 2px rgba(60, 64, 67, 0.3), 0 1px 3px 1px rgba(60, 64, 67, 0.15);\n",
              "    fill: var(--button-hover-fill-color);\n",
              "  }\n",
              "\n",
              "  .colab-df-quickchart-complete:disabled,\n",
              "  .colab-df-quickchart-complete:disabled:hover {\n",
              "    background-color: var(--disabled-bg-color);\n",
              "    fill: var(--disabled-fill-color);\n",
              "    box-shadow: none;\n",
              "  }\n",
              "\n",
              "  .colab-df-spinner {\n",
              "    border: 2px solid var(--fill-color);\n",
              "    border-color: transparent;\n",
              "    border-bottom-color: var(--fill-color);\n",
              "    animation:\n",
              "      spin 1s steps(1) infinite;\n",
              "  }\n",
              "\n",
              "  @keyframes spin {\n",
              "    0% {\n",
              "      border-color: transparent;\n",
              "      border-bottom-color: var(--fill-color);\n",
              "      border-left-color: var(--fill-color);\n",
              "    }\n",
              "    20% {\n",
              "      border-color: transparent;\n",
              "      border-left-color: var(--fill-color);\n",
              "      border-top-color: var(--fill-color);\n",
              "    }\n",
              "    30% {\n",
              "      border-color: transparent;\n",
              "      border-left-color: var(--fill-color);\n",
              "      border-top-color: var(--fill-color);\n",
              "      border-right-color: var(--fill-color);\n",
              "    }\n",
              "    40% {\n",
              "      border-color: transparent;\n",
              "      border-right-color: var(--fill-color);\n",
              "      border-top-color: var(--fill-color);\n",
              "    }\n",
              "    60% {\n",
              "      border-color: transparent;\n",
              "      border-right-color: var(--fill-color);\n",
              "    }\n",
              "    80% {\n",
              "      border-color: transparent;\n",
              "      border-right-color: var(--fill-color);\n",
              "      border-bottom-color: var(--fill-color);\n",
              "    }\n",
              "    90% {\n",
              "      border-color: transparent;\n",
              "      border-bottom-color: var(--fill-color);\n",
              "    }\n",
              "  }\n",
              "</style>\n",
              "\n",
              "  <script>\n",
              "    async function quickchart(key) {\n",
              "      const quickchartButtonEl =\n",
              "        document.querySelector('#' + key + ' button');\n",
              "      quickchartButtonEl.disabled = true;  // To prevent multiple clicks.\n",
              "      quickchartButtonEl.classList.add('colab-df-spinner');\n",
              "      try {\n",
              "        const charts = await google.colab.kernel.invokeFunction(\n",
              "            'suggestCharts', [key], {});\n",
              "      } catch (error) {\n",
              "        console.error('Error during call to suggestCharts:', error);\n",
              "      }\n",
              "      quickchartButtonEl.classList.remove('colab-df-spinner');\n",
              "      quickchartButtonEl.classList.add('colab-df-quickchart-complete');\n",
              "    }\n",
              "    (() => {\n",
              "      let quickchartButtonEl =\n",
              "        document.querySelector('#df-0ba8a109-19d5-4a76-a2e6-d9c1cb1921f9 button');\n",
              "      quickchartButtonEl.style.display =\n",
              "        google.colab.kernel.accessAllowed ? 'block' : 'none';\n",
              "    })();\n",
              "  </script>\n",
              "</div>\n",
              "\n",
              "    </div>\n",
              "  </div>\n"
            ],
            "application/vnd.google.colaboratory.intrinsic+json": {
              "type": "dataframe",
              "variable_name": "data"
            }
          },
          "metadata": {},
          "execution_count": 3
        }
      ],
      "source": [
        "data = pd.read_csv(\"/content/creditcard.csv\")\n",
        "data.head()"
      ]
    },
    {
      "cell_type": "code",
      "execution_count": null,
      "metadata": {
        "colab": {
          "base_uri": "https://localhost:8080/"
        },
        "id": "RIrTbdrA95eb",
        "outputId": "0443b7b6-9d33-495c-97c5-f404ffbdd0e7"
      },
      "outputs": [
        {
          "output_type": "stream",
          "name": "stdout",
          "text": [
            "<class 'pandas.core.frame.DataFrame'>\n",
            "RangeIndex: 284807 entries, 0 to 284806\n",
            "Data columns (total 31 columns):\n",
            " #   Column  Non-Null Count   Dtype  \n",
            "---  ------  --------------   -----  \n",
            " 0   Time    284807 non-null  float64\n",
            " 1   V1      284807 non-null  float64\n",
            " 2   V2      284807 non-null  float64\n",
            " 3   V3      284807 non-null  float64\n",
            " 4   V4      284807 non-null  float64\n",
            " 5   V5      284807 non-null  float64\n",
            " 6   V6      284807 non-null  float64\n",
            " 7   V7      284807 non-null  float64\n",
            " 8   V8      284807 non-null  float64\n",
            " 9   V9      284807 non-null  float64\n",
            " 10  V10     284807 non-null  float64\n",
            " 11  V11     284807 non-null  float64\n",
            " 12  V12     284807 non-null  float64\n",
            " 13  V13     284807 non-null  float64\n",
            " 14  V14     284807 non-null  float64\n",
            " 15  V15     284807 non-null  float64\n",
            " 16  V16     284807 non-null  float64\n",
            " 17  V17     284807 non-null  float64\n",
            " 18  V18     284807 non-null  float64\n",
            " 19  V19     284807 non-null  float64\n",
            " 20  V20     284807 non-null  float64\n",
            " 21  V21     284807 non-null  float64\n",
            " 22  V22     284807 non-null  float64\n",
            " 23  V23     284807 non-null  float64\n",
            " 24  V24     284807 non-null  float64\n",
            " 25  V25     284807 non-null  float64\n",
            " 26  V26     284807 non-null  float64\n",
            " 27  V27     284807 non-null  float64\n",
            " 28  V28     284807 non-null  float64\n",
            " 29  Amount  284807 non-null  float64\n",
            " 30  Class   284807 non-null  int64  \n",
            "dtypes: float64(30), int64(1)\n",
            "memory usage: 67.4 MB\n"
          ]
        }
      ],
      "source": [
        "data.info()"
      ]
    },
    {
      "cell_type": "code",
      "execution_count": null,
      "metadata": {
        "colab": {
          "base_uri": "https://localhost:8080/"
        },
        "id": "EFgJtNizFtxd",
        "outputId": "27422ea0-76df-487c-d2bf-05142284c9dc"
      },
      "outputs": [
        {
          "output_type": "execute_result",
          "data": {
            "text/plain": [
              "Class\n",
              "0    284315\n",
              "1       492\n",
              "Name: count, dtype: int64"
            ],
            "text/html": [
              "<div>\n",
              "<style scoped>\n",
              "    .dataframe tbody tr th:only-of-type {\n",
              "        vertical-align: middle;\n",
              "    }\n",
              "\n",
              "    .dataframe tbody tr th {\n",
              "        vertical-align: top;\n",
              "    }\n",
              "\n",
              "    .dataframe thead th {\n",
              "        text-align: right;\n",
              "    }\n",
              "</style>\n",
              "<table border=\"1\" class=\"dataframe\">\n",
              "  <thead>\n",
              "    <tr style=\"text-align: right;\">\n",
              "      <th></th>\n",
              "      <th>count</th>\n",
              "    </tr>\n",
              "    <tr>\n",
              "      <th>Class</th>\n",
              "      <th></th>\n",
              "    </tr>\n",
              "  </thead>\n",
              "  <tbody>\n",
              "    <tr>\n",
              "      <th>0</th>\n",
              "      <td>284315</td>\n",
              "    </tr>\n",
              "    <tr>\n",
              "      <th>1</th>\n",
              "      <td>492</td>\n",
              "    </tr>\n",
              "  </tbody>\n",
              "</table>\n",
              "</div><br><label><b>dtype:</b> int64</label>"
            ]
          },
          "metadata": {},
          "execution_count": 5
        }
      ],
      "source": [
        "data.Class.value_counts()"
      ]
    },
    {
      "cell_type": "code",
      "execution_count": null,
      "metadata": {
        "id": "LPXcsrppF1AS"
      },
      "outputs": [],
      "source": [
        "var_list=data.columns[:-1]"
      ]
    },
    {
      "cell_type": "code",
      "execution_count": null,
      "metadata": {
        "colab": {
          "base_uri": "https://localhost:8080/"
        },
        "id": "zBuJiMXSs6cr",
        "outputId": "0c0dc1b8-d4ca-4c4e-e25e-d5bc9402b618"
      },
      "outputs": [
        {
          "output_type": "stream",
          "name": "stdout",
          "text": [
            "Index(['Time', 'V1', 'V2', 'V3', 'V4', 'V5', 'V6', 'V7', 'V8', 'V9', 'V10',\n",
            "       'V11', 'V12', 'V13', 'V14', 'V15', 'V16', 'V17', 'V18', 'V19', 'V20',\n",
            "       'V21', 'V22', 'V23', 'V24', 'V25', 'V26', 'V27', 'V28', 'Amount'],\n",
            "      dtype='object')\n"
          ]
        }
      ],
      "source": [
        "print(var_list)"
      ]
    },
    {
      "cell_type": "markdown",
      "metadata": {
        "id": "h6rRkGdQzQrh"
      },
      "source": [
        "# data preparation"
      ]
    },
    {
      "cell_type": "code",
      "execution_count": null,
      "metadata": {
        "id": "pd336zopRz75"
      },
      "outputs": [],
      "source": [
        "from sklearn.model_selection import train_test_split\n",
        "train,test=train_test_split(data,test_size=0.2,random_state=random_state)"
      ]
    },
    {
      "cell_type": "code",
      "execution_count": null,
      "metadata": {
        "colab": {
          "base_uri": "https://localhost:8080/"
        },
        "id": "GatxKc7iSGpQ",
        "outputId": "9fe97bad-812a-4331-a1f2-596d6e1e6195"
      },
      "outputs": [
        {
          "output_type": "stream",
          "name": "stdout",
          "text": [
            "the shape of training dataset is (227845, 31)\n",
            "the shape of testing dataset is (56962, 31)\n"
          ]
        }
      ],
      "source": [
        "print(f\"the shape of training dataset is {train.shape}\")\n",
        "print(f\"the shape of testing dataset is {test.shape}\")"
      ]
    },
    {
      "cell_type": "code",
      "execution_count": null,
      "metadata": {
        "id": "qvrTKe6Q4-k8"
      },
      "outputs": [],
      "source": [
        "X_train,y_train=train.iloc[:,:-1],train.iloc[:,-1]\n",
        "X_test,y_test=test.iloc[:,:-1],test.iloc[:,-1]"
      ]
    },
    {
      "cell_type": "code",
      "execution_count": null,
      "metadata": {
        "colab": {
          "base_uri": "https://localhost:8080/"
        },
        "id": "dMQjMUtZ8qV-",
        "outputId": "dde0f87e-04ee-4ef9-ac09-edb7e166dfe5"
      },
      "outputs": [
        {
          "output_type": "stream",
          "name": "stdout",
          "text": [
            "the amount of majority class:227457\n",
            "the amount of minority class:388\n"
          ]
        }
      ],
      "source": [
        "majority_class=train.Class.value_counts()[0]\n",
        "minority_class=train.Class.value_counts()[1]\n",
        "print(f\"the amount of majority class:{majority_class}\")\n",
        "print(f\"the amount of minority class:{minority_class}\")"
      ]
    },
    {
      "cell_type": "markdown",
      "metadata": {
        "id": "TQyBl3g62OgW"
      },
      "source": [
        "# data normalization"
      ]
    },
    {
      "cell_type": "code",
      "execution_count": null,
      "metadata": {
        "id": "ctS4EI_ZJDtS"
      },
      "outputs": [],
      "source": [
        "from sklearn.preprocessing import MinMaxScaler\n",
        "\n",
        "scaler=MinMaxScaler()\n",
        "X_train_sc= scaler.fit_transform(X_train)\n",
        "X_test_sc=scaler.transform(X_test)"
      ]
    },
    {
      "cell_type": "code",
      "execution_count": null,
      "metadata": {
        "colab": {
          "base_uri": "https://localhost:8080/"
        },
        "id": "VONL0EPDHF6z",
        "outputId": "765f5f4a-5b59-4769-9836-3adeeb87ca11"
      },
      "outputs": [
        {
          "output_type": "stream",
          "name": "stdout",
          "text": [
            "train dataset:\n",
            "max:1.0\n",
            "min:0.0\n",
            "mean:0.5172471291571057\n",
            "std:0.21914915033922755\n",
            "\n",
            "test dataset:\n",
            "max:1.1632934326709123\n",
            "min:-0.21670863808324825\n",
            "mean:0.5172103984074053\n",
            "std:0.21913448081838327\n"
          ]
        }
      ],
      "source": [
        "print(f\"train dataset:\\nmax:{X_train_sc.max()}\\nmin:{X_train_sc.min()}\\nmean:{X_train_sc.mean()}\\nstd:{X_train_sc.std()}\")\n",
        "print(f\"\\ntest dataset:\\nmax:{X_test_sc.max()}\\nmin:{X_test_sc.min()}\\nmean:{X_test_sc.mean()}\\nstd:{X_test_sc.std()}\")"
      ]
    },
    {
      "cell_type": "code",
      "execution_count": null,
      "metadata": {
        "colab": {
          "base_uri": "https://localhost:8080/"
        },
        "id": "viSucoLYuH09",
        "outputId": "6ef5c316-d798-4857-85e8-1da7bbc730f7"
      },
      "outputs": [
        {
          "output_type": "stream",
          "name": "stdout",
          "text": [
            "the shape of tx_vgan is (182276, 30)\n",
            "the shape of ty_vgan is (45569, 30)\n",
            "the shape of vx_vgan is (182276,)\n",
            "the shape of vy_vgan is (45569,)\n"
          ]
        }
      ],
      "source": [
        "tx_ori,vx_ori,ty_ori,vy_ori=train_test_split(X_train_sc,y_train,test_size=0.2,random_state=random_state)\n",
        "print(f\"the shape of tx_vgan is {tx_ori.shape}\")\n",
        "print(f\"the shape of ty_vgan is {vx_ori.shape}\")\n",
        "print(f\"the shape of vx_vgan is {ty_ori.shape}\")\n",
        "print(f\"the shape of vy_vgan is {vy_ori.shape}\")"
      ]
    },
    {
      "cell_type": "markdown",
      "metadata": {
        "id": "lBxwVwDBuE1m"
      },
      "source": [
        "# GANs"
      ]
    },
    {
      "cell_type": "code",
      "execution_count": null,
      "metadata": {
        "id": "ARjrgY-danOG"
      },
      "outputs": [],
      "source": [
        "original_data = pd.concat([pd.DataFrame(X_train_sc, columns=X_train.columns, index=X_train.index),\n",
        "                           pd.DataFrame(y_train, columns=[\"Class\"], index=y_train.index)], axis=1)"
      ]
    },
    {
      "cell_type": "code",
      "execution_count": null,
      "metadata": {
        "colab": {
          "base_uri": "https://localhost:8080/"
        },
        "id": "knfqbGJ7tR9N",
        "outputId": "73a28da4-f1a5-417d-c663-528790842985"
      },
      "outputs": [
        {
          "output_type": "stream",
          "name": "stderr",
          "text": [
            "WARNING:absl:No training configuration found in the save file, so the model was *not* compiled. Compile it manually.\n"
          ]
        }
      ],
      "source": [
        "vanilla_generator=tf.keras.models.load_model('vanilla_generator_'+str(random_state)+'.h5')"
      ]
    },
    {
      "cell_type": "code",
      "execution_count": null,
      "metadata": {
        "id": "4l1e1sag-tCd"
      },
      "outputs": [],
      "source": [
        "# generate a batch of noisy input\n",
        "def sythetic_data(generator,num_dt,random_normal_dimensinos):\n",
        "  noise=tf.random.normal(shape=(num_dt,random_normal_dimensinos))\n",
        "  sythetic_data=generator(noise)\n",
        "  return sythetic_data"
      ]
    },
    {
      "cell_type": "code",
      "execution_count": null,
      "metadata": {
        "id": "DK6frhb180ud"
      },
      "outputs": [],
      "source": [
        "generator_num=int(sampling_strategy*majority_class)-minority_class\n",
        "random_normal_dimensinos=100\n",
        "\n",
        "vanilla_gan_data=sythetic_data(vanilla_generator,generator_num,random_normal_dimensinos)\n",
        "vgan_dt=pd.DataFrame(vanilla_gan_data.numpy(),columns=var_list)\n",
        "vgan_dt[\"Class\"]=np.ones(generator_num)"
      ]
    },
    {
      "cell_type": "code",
      "execution_count": null,
      "metadata": {
        "id": "oK7n2fx_A9_l"
      },
      "outputs": [],
      "source": [
        "vgan_train=pd.concat([original_data,vgan_dt],axis=0)\n",
        "vgan_train.to_csv(\"vgan_sampling_\"+str(sampling_strategy)+\".csv\")"
      ]
    },
    {
      "cell_type": "code",
      "execution_count": null,
      "metadata": {
        "id": "x3t9QAPi1aH6"
      },
      "outputs": [],
      "source": [
        "X_vgan,y_vgan=np.array(vgan_train.iloc[:,:-1]),np.array(vgan_train.iloc[:,-1])"
      ]
    },
    {
      "cell_type": "code",
      "execution_count": null,
      "metadata": {
        "colab": {
          "base_uri": "https://localhost:8080/"
        },
        "id": "kPYDaYBk8WDo",
        "outputId": "c69bc243-ec60-4677-ba10-31df23b22a6c"
      },
      "outputs": [
        {
          "output_type": "stream",
          "name": "stdout",
          "text": [
            "the shape of X_vgan is (454914, 30)\n",
            "the shape of y_vgan is (454914,)\n",
            "the number of minority class is 227457\n",
            "the number of majority class is 227457\n"
          ]
        }
      ],
      "source": [
        "print(f\"the shape of X_vgan is {X_vgan.shape}\")\n",
        "print(f\"the shape of y_vgan is {y_vgan.shape}\")\n",
        "print(f\"the number of minority class is {np.sum(y_vgan==1)}\")\n",
        "print(f\"the number of majority class is {np.sum(y_vgan==0)}\")"
      ]
    },
    {
      "cell_type": "code",
      "execution_count": null,
      "metadata": {
        "colab": {
          "base_uri": "https://localhost:8080/"
        },
        "id": "ds1FICEeYRs1",
        "outputId": "b39430bc-b32b-40d7-d729-644b554f332d"
      },
      "outputs": [
        {
          "output_type": "stream",
          "name": "stdout",
          "text": [
            "the shape of tx_vgan is (409422, 30)\n",
            "the shape of ty_vgan is (409422,)\n",
            "the shape of vx_vgan is (45492, 30)\n",
            "the shape of vy_vgan is (45492,)\n"
          ]
        }
      ],
      "source": [
        "tx_vgan,vx_vgan,ty_vgan,vy_vgan=train_test_split(X_vgan,y_vgan,test_size=0.1,random_state=random_state)\n",
        "print(f\"the shape of tx_vgan is {tx_vgan.shape}\")\n",
        "print(f\"the shape of ty_vgan is {ty_vgan.shape}\")\n",
        "print(f\"the shape of vx_vgan is {vx_vgan.shape}\")\n",
        "print(f\"the shape of vy_vgan is {vy_vgan.shape}\")"
      ]
    },
    {
      "cell_type": "markdown",
      "metadata": {
        "id": "FdgRWw1V3Jri"
      },
      "source": [
        "# SMOTE"
      ]
    },
    {
      "cell_type": "code",
      "execution_count": null,
      "metadata": {
        "id": "a0tNLyvy3HEL"
      },
      "outputs": [],
      "source": [
        "from imblearn.over_sampling import SMOTE\n",
        "smote = SMOTE(sampling_strategy=sampling_strategy,random_state=random_state)\n",
        "X_smote,y_smote= smote.fit_resample(X_train_sc,y_train)\n",
        "X_smote,y_smote=np.array(X_smote),np.array(y_smote)"
      ]
    },
    {
      "cell_type": "code",
      "execution_count": null,
      "metadata": {
        "colab": {
          "base_uri": "https://localhost:8080/"
        },
        "id": "tT4JiE7JBv6Y",
        "outputId": "5c6f4d11-083d-4f46-9163-3ab6350489f9"
      },
      "outputs": [
        {
          "output_type": "stream",
          "name": "stdout",
          "text": [
            "the shape of X_smote is (454914, 30)\n",
            "the shape of y_smote is (454914,)\n",
            "the number of minority class is 227457\n",
            "the number of majority class is 227457\n"
          ]
        }
      ],
      "source": [
        "print(f\"the shape of X_smote is {X_smote.shape}\")\n",
        "print(f\"the shape of y_smote is {y_smote.shape}\")\n",
        "print(f\"the number of minority class is {np.sum(y_smote==1)}\")\n",
        "print(f\"the number of majority class is {np.sum(y_smote==0)}\")"
      ]
    },
    {
      "cell_type": "code",
      "execution_count": null,
      "metadata": {
        "colab": {
          "base_uri": "https://localhost:8080/"
        },
        "id": "EfxAJa0KQ3w1",
        "outputId": "85f5e6ea-0a2b-44de-80ee-dd8144dda46c"
      },
      "outputs": [
        {
          "output_type": "stream",
          "name": "stdout",
          "text": [
            "the shape of tx_sm is (409422, 30)\n",
            "the shape of ty_sm is (409422,)\n",
            "the shape of vx_sm is (45492, 30)\n",
            "the shape of vy_sm is (45492,)\n"
          ]
        }
      ],
      "source": [
        "tx_sm,vx_sm,ty_sm,vy_sm=train_test_split(X_smote,y_smote,test_size=0.1,random_state=random_state)\n",
        "print(f\"the shape of tx_sm is {tx_sm.shape}\")\n",
        "print(f\"the shape of ty_sm is {ty_sm.shape}\")\n",
        "print(f\"the shape of vx_sm is {vx_sm.shape}\")\n",
        "print(f\"the shape of vy_sm is {vy_sm.shape}\")\n"
      ]
    },
    {
      "cell_type": "markdown",
      "metadata": {
        "id": "tRmVacDaDwCP"
      },
      "source": [
        "# ADASYN"
      ]
    },
    {
      "cell_type": "code",
      "execution_count": null,
      "metadata": {
        "id": "0QNFAZs3D0wJ"
      },
      "outputs": [],
      "source": [
        "from imblearn.over_sampling import ADASYN\n",
        "adasyn = ADASYN(sampling_strategy=sampling_strategy,random_state=random_state)\n",
        "X_adasyn,y_adasyn= adasyn.fit_resample(X_train_sc,y_train)\n",
        "X_adasyn,y_adasyn=np.array(X_adasyn),np.array(y_adasyn)"
      ]
    },
    {
      "cell_type": "code",
      "execution_count": null,
      "metadata": {
        "colab": {
          "base_uri": "https://localhost:8080/"
        },
        "id": "ODwIhwSFD4n_",
        "outputId": "f06ebc6b-4602-4df9-efaa-a64bb08e08f3"
      },
      "outputs": [
        {
          "output_type": "stream",
          "name": "stdout",
          "text": [
            "the shape of X_adasyn is (454972, 30)\n",
            "the shape of y_adasyn is (454972,)\n",
            "the number of minority class is 227515\n",
            "the number of majority class is 227457\n"
          ]
        }
      ],
      "source": [
        "print(f\"the shape of X_adasyn is {X_adasyn.shape}\")\n",
        "print(f\"the shape of y_adasyn is {y_adasyn.shape}\")\n",
        "print(f\"the number of minority class is {np.sum(y_adasyn==1)}\")\n",
        "print(f\"the number of majority class is {np.sum(y_adasyn==0)}\")"
      ]
    },
    {
      "cell_type": "code",
      "execution_count": null,
      "metadata": {
        "colab": {
          "base_uri": "https://localhost:8080/"
        },
        "id": "VOMCxf2JR15c",
        "outputId": "3c904c2d-4571-46b8-fd53-054c5c8e4d8c"
      },
      "outputs": [
        {
          "output_type": "stream",
          "name": "stdout",
          "text": [
            "the shape of tx_sm is (409474, 30)\n",
            "the shape of ty_sm is (409474,)\n",
            "the shape of vx_sm is (45498, 30)\n",
            "the shape of vy_sm is (45498,)\n"
          ]
        }
      ],
      "source": [
        "tx_ad,vx_ad,ty_ad,vy_ad=train_test_split(X_adasyn,y_adasyn,test_size=0.1,random_state=random_state)\n",
        "print(f\"the shape of tx_sm is {tx_ad.shape}\")\n",
        "print(f\"the shape of ty_sm is {ty_ad.shape}\")\n",
        "print(f\"the shape of vx_sm is {vx_ad.shape}\")\n",
        "print(f\"the shape of vy_sm is {vy_ad.shape}\")"
      ]
    },
    {
      "cell_type": "markdown",
      "metadata": {
        "id": "oov57CHrU-kp"
      },
      "source": [
        "# Build a model"
      ]
    },
    {
      "cell_type": "markdown",
      "metadata": {
        "id": "uHSgigYUkWaz"
      },
      "source": [
        "## define functions"
      ]
    },
    {
      "cell_type": "code",
      "execution_count": null,
      "metadata": {
        "id": "LhGr7jNCU99A"
      },
      "outputs": [],
      "source": [
        "# define a function to evaluate models by accuracy, precision, recall and f1\n",
        "from sklearn.metrics import recall_score,accuracy_score,precision_score,f1_score\n",
        "def display_metrics(Y,Y_predictions):\n",
        "\n",
        "    precision = precision_score(Y,Y_predictions)\n",
        "    recall= recall_score(Y,Y_predictions)\n",
        "    accuracy = accuracy_score(Y,Y_predictions)\n",
        "    f1 = f1_score(Y,Y_predictions)\n",
        "    print(f\"Accuracy：{accuracy:.5f}\")\n",
        "    print(f\"Precision：{precision:.5f}\")\n",
        "    print(f\"Recall：{recall:.5f}\")\n",
        "    print(f\"F1：{f1:.5f}\")\n",
        "    print(\"\\n\")\n",
        "\n",
        "    results={}\n",
        "    results[\"accuracy\"]=accuracy\n",
        "    results[\"precision\"]=precision\n",
        "    results[\"recall\"]=recall\n",
        "    results[\"f1\"]=f1\n",
        "\n",
        "    return results"
      ]
    },
    {
      "cell_type": "code",
      "execution_count": null,
      "metadata": {
        "id": "Gq_qeYcJVcMs"
      },
      "outputs": [],
      "source": [
        "#define a function to finetune models using GridSearchCV\n",
        "from sklearn.model_selection import GridSearchCV\n",
        "\n",
        "def Finetune_CV(clf,param_grid,metric,cv_num,X_train,y_train):\n",
        "    grid_search = GridSearchCV(clf, param_grid, cv=cv_num,\n",
        "                           scoring=metric, return_train_score=True)\n",
        "    grid_search.fit(X_train,y_train)\n",
        "    print(f\"{metric}_best_params:{grid_search.best_params_}\")\n",
        "    cvres = grid_search.cv_results_\n",
        "    print(f\"mean_{metric} and params:\")\n",
        "    for score, params in zip(cvres[\"mean_test_score\"], cvres[\"params\"]):\n",
        "        print(f\"{score:.4f},{params}\")\n",
        "    print(\"\\n\")"
      ]
    },
    {
      "cell_type": "code",
      "execution_count": null,
      "metadata": {
        "id": "JjvSZqKuVenm"
      },
      "outputs": [],
      "source": [
        "#define a function to display_confusion_matrix\n",
        "from sklearn.metrics import confusion_matrix\n",
        "\n",
        "def display_confusion_matrix(y_test,y_prediction):\n",
        "    cm = confusion_matrix(y_test,y_prediction)\n",
        "    cm_df = pd.DataFrame(cm, index=['ActNeg', 'ActPos'], columns=['PredNeg', 'PredPos'])\n",
        "    # draw heatmap\n",
        "    plt.figure(figsize=(3, 2))\n",
        "    sns.set(font_scale=1)\n",
        "    sns.heatmap(cm_df, annot=True, cmap='Blues', fmt='g', annot_kws={\"size\": 12})\n",
        "    plt.title('Confusion Matrix')\n",
        "    plt.xlabel('PredLabel')\n",
        "    plt.ylabel('TrueLabel')\n",
        "    plt.show()"
      ]
    },
    {
      "cell_type": "code",
      "execution_count": null,
      "metadata": {
        "id": "N3l4aHThVhcu"
      },
      "outputs": [],
      "source": [
        "# define a function to build initial models together\n",
        "\n",
        "from sklearn.tree import DecisionTreeClassifier\n",
        "from sklearn.linear_model import LogisticRegression\n",
        "from sklearn.svm import SVC\n",
        "from sklearn.neural_network import MLPClassifier\n",
        "from sklearn.model_selection import cross_val_score\n",
        "from sklearn.metrics import f1_score,classification_report,confusion_matrix\n",
        "\n",
        "def add_prefix_to_keys(original_dict, prefix):\n",
        "    updated_dict = {}\n",
        "    for key, value in original_dict.items():\n",
        "        new_key = prefix + key  # Add the prefix to the original key\n",
        "        updated_dict[new_key] = value  # Update the dictionary with the new key-value pair\n",
        "    return updated_dict\n",
        "\n",
        "def initial_model(model,X_train,y_train,X_test,y_test,datasettyp=['train','val']):\n",
        "\n",
        "    m=model.fit(X_train,y_train)\n",
        "    pred_train=m.predict(X_train)\n",
        "    pred_test=m.predict(X_test)\n",
        "\n",
        "    print(datasettyp[0]+\"_metrics\")\n",
        "    train_results=display_metrics(y_train,pred_train)\n",
        "\n",
        "\n",
        "    print(datasettyp[1]+\"_metrics\")\n",
        "    test_results=display_metrics(y_test,pred_test)\n",
        "\n",
        "    #print(confusion_matrix(y_test,pred_test))\n",
        "\n",
        "    results=dict(add_prefix_to_keys(train_results, datasettyp[0]+\"_\"),**add_prefix_to_keys(test_results, datasettyp[1]+\"_\"))\n",
        "\n",
        "    return m,results\n",
        "\n",
        "def eval_model(model,X_test,y_test):\n",
        "    pred_test=model.predict(X_test)\n",
        "    print(\"test_metrics\")\n",
        "    test_results=display_metrics(y_test,pred_test)\n",
        "    results=add_prefix_to_keys(test_results, \"test_\")\n",
        "    print(confusion_matrix(y_test,pred_test))\n",
        "    print(\"\\n\")\n",
        "    return results\n"
      ]
    },
    {
      "cell_type": "code",
      "execution_count": null,
      "metadata": {
        "id": "lLMtmlISuFmC"
      },
      "outputs": [],
      "source": [
        "def write_to_csv(model_name, metrics_dict,classifier):\n",
        "# Write metrics to CSV file\n",
        "  model_names = model_name\n",
        "  model_metrics_lists = metrics_dict\n",
        "\n",
        "# Prepare data for DataFrame in the right format\n",
        "  data = []\n",
        "  for model_name, metrics in zip(model_names, model_metrics_lists):\n",
        "      for metric, value in metrics.items():\n",
        "          data.append({'Model': model_name, 'Metric': metric, 'Value': value})\n",
        "\n",
        "# Create Pandas DataFrame\n",
        "  metrics_df = pd.DataFrame(data)\n",
        "  metrics_df.set_index(['Model', 'Metric'], inplace=True)\n",
        "\n",
        "# Write DataFrame to CSV with multiple sheets\n",
        "  writer = pd.ExcelWriter(classifier_name+'_metrics.xlsx')\n",
        "  for model_name, model_metrics_df in metrics_df.groupby('Model'):\n",
        "      model_metrics_df.to_excel(writer, sheet_name=model_name)\n",
        "  writer.close() # Use .close() to save and close the Excel file"
      ]
    },
    {
      "cell_type": "markdown",
      "metadata": {
        "id": "9nt1wAOyEDaO"
      },
      "source": [
        "## Logistic Regression"
      ]
    },
    {
      "cell_type": "code",
      "execution_count": null,
      "metadata": {
        "colab": {
          "base_uri": "https://localhost:8080/"
        },
        "id": "ehmPhFEaEJch",
        "outputId": "d430adf0-1770-4ec9-a693-309047394d29"
      },
      "outputs": [
        {
          "output_type": "stream",
          "name": "stdout",
          "text": [
            "the experiment results of original dataset:\n",
            "\n",
            "train_metrics\n",
            "Accuracy：0.99896\n",
            "Precision：0.84444\n",
            "Recall：0.48562\n",
            "F1：0.61663\n",
            "\n",
            "\n",
            "val_metrics\n",
            "Accuracy：0.99921\n",
            "Precision：0.89796\n",
            "Recall：0.58667\n",
            "F1：0.70968\n",
            "\n",
            "\n",
            "test_metrics\n",
            "Accuracy：0.99914\n",
            "Precision：0.88732\n",
            "Recall：0.60577\n",
            "F1：0.72000\n",
            "\n",
            "\n",
            "[[56850     8]\n",
            " [   41    63]]\n",
            "\n",
            "\n",
            "the experiment results of vgan:\n",
            "\n",
            "train_metrics\n",
            "Accuracy：0.99954\n",
            "Precision：0.99985\n",
            "Recall：0.99923\n",
            "F1：0.99954\n",
            "\n",
            "\n",
            "val_metrics\n",
            "Accuracy：0.99963\n",
            "Precision：0.99982\n",
            "Recall：0.99943\n",
            "F1：0.99963\n",
            "\n",
            "\n",
            "test_metrics\n",
            "Accuracy：0.99926\n",
            "Precision：0.89744\n",
            "Recall：0.67308\n",
            "F1：0.76923\n",
            "\n",
            "\n",
            "[[56850     8]\n",
            " [   34    70]]\n",
            "\n",
            "\n",
            "the experiment results of smote:\n",
            "\n",
            "train_metrics\n",
            "Accuracy：0.94711\n",
            "Precision：0.97599\n",
            "Recall：0.91675\n",
            "F1：0.94544\n",
            "\n",
            "\n",
            "val_metrics\n",
            "Accuracy：0.94687\n",
            "Precision：0.97525\n",
            "Recall：0.91712\n",
            "F1：0.94529\n",
            "\n",
            "\n",
            "test_metrics\n",
            "Accuracy：0.97646\n",
            "Precision：0.06657\n",
            "Recall：0.91346\n",
            "F1：0.12410\n",
            "\n",
            "\n",
            "[[55526  1332]\n",
            " [    9    95]]\n",
            "\n",
            "\n",
            "the experiment results of adasyn:\n",
            "\n",
            "train_metrics\n",
            "Accuracy：0.89195\n",
            "Precision：0.91855\n",
            "Recall：0.86035\n",
            "F1：0.88850\n",
            "\n",
            "\n",
            "val_metrics\n",
            "Accuracy：0.88854\n",
            "Precision：0.91532\n",
            "Recall：0.85491\n",
            "F1：0.88408\n",
            "\n",
            "\n",
            "test_metrics\n",
            "Accuracy：0.92298\n",
            "Precision：0.02188\n",
            "Recall：0.94231\n",
            "F1：0.04277\n",
            "\n",
            "\n",
            "[[52477  4381]\n",
            " [    6    98]]\n",
            "\n",
            "\n"
          ]
        }
      ],
      "source": [
        "from sklearn.linear_model import LogisticRegression\n",
        "model=LogisticRegression(random_state=random_state)\n",
        "\n",
        "print(\"the experiment results of original dataset:\\n\")\n",
        "m1,m1_val=initial_model(model,tx_ori,ty_ori,vx_ori,vy_ori)\n",
        "m1_test=eval_model(m1,X_test_sc,y_test)\n",
        "\n",
        "print(\"the experiment results of vgan:\\n\")\n",
        "m3,m3_val=initial_model(model,tx_vgan,ty_vgan,vx_vgan,vy_vgan)\n",
        "m3_test=eval_model(m3,X_test_sc,y_test)\n",
        "\n",
        "print(\"the experiment results of smote:\\n\")\n",
        "m4,m4_val=initial_model(model,tx_sm,ty_sm,vx_sm,vy_sm)\n",
        "m4_test=eval_model(m4,X_test_sc,y_test)\n",
        "\n",
        "print(\"the experiment results of adasyn:\\n\")\n",
        "m5,m5_val=initial_model(model,tx_ad,ty_ad,vx_ad,vy_ad)\n",
        "m5_test=eval_model(m5,X_test_sc,y_test)\n",
        "\n",
        "m1_results=dict(m1_val,**m1_test)\n",
        "m3_results=dict(m3_val,**m3_test)\n",
        "m4_results=dict(m4_val,**m4_test)\n",
        "m5_results=dict(m5_val,**m5_test)\n",
        "\n",
        "model_metrics_lists = [m1_results, m3_results, m4_results, m5_results]\n",
        "model_names = ['original', 'vgan', 'smote', 'adasyn']\n",
        "\n",
        "classifier_name=\"LogisticRegression\"\n",
        "write_to_csv(model_names, model_metrics_lists,classifier_name)"
      ]
    },
    {
      "cell_type": "markdown",
      "metadata": {
        "id": "6qxilKoT8DpI"
      },
      "source": [
        "## RandomForest"
      ]
    },
    {
      "cell_type": "code",
      "execution_count": null,
      "metadata": {
        "colab": {
          "base_uri": "https://localhost:8080/"
        },
        "id": "9lrgRLXN8LcC",
        "outputId": "98aa3744-6208-42bd-8e84-7002775e4a95"
      },
      "outputs": [
        {
          "output_type": "stream",
          "name": "stdout",
          "text": [
            "the experiment results of original dataset:\n",
            "\n",
            "train_metrics\n",
            "Accuracy：0.99945\n",
            "Precision：0.91732\n",
            "Recall：0.74441\n",
            "F1：0.82187\n",
            "\n",
            "\n",
            "val_metrics\n",
            "Accuracy：0.99954\n",
            "Precision：0.93548\n",
            "Recall：0.77333\n",
            "F1：0.84672\n",
            "\n",
            "\n",
            "test_metrics\n",
            "Accuracy：0.99942\n",
            "Precision：0.89888\n",
            "Recall：0.76923\n",
            "F1：0.82902\n",
            "\n",
            "\n",
            "[[56849     9]\n",
            " [   24    80]]\n",
            "\n",
            "\n",
            "the experiment results of vgan:\n",
            "\n",
            "train_metrics\n",
            "Accuracy：0.99957\n",
            "Precision：0.99984\n",
            "Recall：0.99931\n",
            "F1：0.99957\n",
            "\n",
            "\n",
            "val_metrics\n",
            "Accuracy：0.99958\n",
            "Precision：0.99974\n",
            "Recall：0.99943\n",
            "F1：0.99958\n",
            "\n",
            "\n",
            "test_metrics\n",
            "Accuracy：0.99916\n",
            "Precision：0.86842\n",
            "Recall：0.63462\n",
            "F1：0.73333\n",
            "\n",
            "\n",
            "[[56848    10]\n",
            " [   38    66]]\n",
            "\n",
            "\n",
            "the experiment results of smote:\n",
            "\n",
            "train_metrics\n",
            "Accuracy：0.93333\n",
            "Precision：0.99619\n",
            "Recall：0.86997\n",
            "F1：0.92881\n",
            "\n",
            "\n",
            "val_metrics\n",
            "Accuracy：0.93337\n",
            "Precision：0.99673\n",
            "Recall：0.86974\n",
            "F1：0.92891\n",
            "\n",
            "\n",
            "test_metrics\n",
            "Accuracy：0.99626\n",
            "Precision：0.31399\n",
            "Recall：0.88462\n",
            "F1：0.46348\n",
            "\n",
            "\n",
            "[[56657   201]\n",
            " [   12    92]]\n",
            "\n",
            "\n",
            "the experiment results of adasyn:\n",
            "\n",
            "train_metrics\n",
            "Accuracy：0.88757\n",
            "Precision：0.95204\n",
            "Recall：0.81644\n",
            "F1：0.87904\n",
            "\n",
            "\n",
            "val_metrics\n",
            "Accuracy：0.88452\n",
            "Precision：0.95036\n",
            "Recall：0.81004\n",
            "F1：0.87461\n",
            "\n",
            "\n",
            "test_metrics\n",
            "Accuracy：0.95846\n",
            "Precision：0.03912\n",
            "Recall：0.92308\n",
            "F1：0.07506\n",
            "\n",
            "\n",
            "[[54500  2358]\n",
            " [    8    96]]\n",
            "\n",
            "\n"
          ]
        }
      ],
      "source": [
        "from sklearn.ensemble import RandomForestClassifier\n",
        "model=RandomForestClassifier(random_state=random_state,criterion='entropy',max_depth=4,min_samples_leaf=10,n_estimators=100)\n",
        "\n",
        "print(\"the experiment results of original dataset:\\n\")\n",
        "m1,m1_val=initial_model(model,tx_ori,ty_ori,vx_ori,vy_ori)\n",
        "m1_test=eval_model(m1,X_test_sc,y_test)\n",
        "\n",
        "print(\"the experiment results of vgan:\\n\")\n",
        "m3,m3_val=initial_model(model,tx_vgan,ty_vgan,vx_vgan,vy_vgan)\n",
        "m3_test=eval_model(m3,X_test_sc,y_test)\n",
        "\n",
        "print(\"the experiment results of smote:\\n\")\n",
        "m4,m4_val=initial_model(model,tx_sm,ty_sm,vx_sm,vy_sm)\n",
        "m4_test=eval_model(m4,X_test_sc,y_test)\n",
        "\n",
        "print(\"the experiment results of adasyn:\\n\")\n",
        "m5,m5_val=initial_model(model,tx_ad,ty_ad,vx_ad,vy_ad)\n",
        "m5_test=eval_model(m5,X_test_sc,y_test)\n",
        "\n",
        "m1_results=dict(m1_val,**m1_test)\n",
        "m3_results=dict(m3_val,**m3_test)\n",
        "m4_results=dict(m4_val,**m4_test)\n",
        "m5_results=dict(m5_val,**m5_test)\n",
        "\n",
        "model_metrics_lists = [m1_results, m3_results, m4_results, m5_results]\n",
        "model_names = ['original', 'vgan', 'smote', 'adasyn']\n",
        "\n",
        "classifier_name=\"RandomForestClassifier\"\n",
        "write_to_csv(model_names, model_metrics_lists,classifier_name)"
      ]
    },
    {
      "cell_type": "markdown",
      "metadata": {
        "id": "NF7dtjhuCFCG"
      },
      "source": [
        "## xgboost"
      ]
    },
    {
      "cell_type": "code",
      "execution_count": null,
      "metadata": {
        "colab": {
          "base_uri": "https://localhost:8080/"
        },
        "id": "_4Z2jw3xCIY-",
        "outputId": "735ba4f0-ef85-4677-d917-53085ce5ea9e"
      },
      "outputs": [
        {
          "output_type": "stream",
          "name": "stdout",
          "text": [
            "the experiment results of original dataset:\n",
            "\n",
            "train_metrics\n",
            "Accuracy：0.99990\n",
            "Precision：1.00000\n",
            "Recall：0.94249\n",
            "F1：0.97039\n",
            "\n",
            "\n",
            "val_metrics\n",
            "Accuracy：0.99967\n",
            "Precision：0.96875\n",
            "Recall：0.82667\n",
            "F1：0.89209\n",
            "\n",
            "\n",
            "test_metrics\n",
            "Accuracy：0.99961\n",
            "Precision：0.94565\n",
            "Recall：0.83654\n",
            "F1：0.88776\n",
            "\n",
            "\n",
            "[[56853     5]\n",
            " [   17    87]]\n",
            "\n",
            "\n",
            "the experiment results of vgan:\n",
            "\n",
            "train_metrics\n",
            "Accuracy：0.99990\n",
            "Precision：1.00000\n",
            "Recall：0.99981\n",
            "F1：0.99990\n",
            "\n",
            "\n",
            "val_metrics\n",
            "Accuracy：0.99976\n",
            "Precision：0.99978\n",
            "Recall：0.99974\n",
            "F1：0.99976\n",
            "\n",
            "\n",
            "test_metrics\n",
            "Accuracy：0.99960\n",
            "Precision：0.94505\n",
            "Recall：0.82692\n",
            "F1：0.88205\n",
            "\n",
            "\n",
            "[[56853     5]\n",
            " [   18    86]]\n",
            "\n",
            "\n",
            "the experiment results of smote:\n",
            "\n",
            "train_metrics\n",
            "Accuracy：0.99874\n",
            "Precision：0.99777\n",
            "Recall：0.99971\n",
            "F1：0.99874\n",
            "\n",
            "\n",
            "val_metrics\n",
            "Accuracy：0.99864\n",
            "Precision：0.99763\n",
            "Recall：0.99965\n",
            "F1：0.99864\n",
            "\n",
            "\n",
            "test_metrics\n",
            "Accuracy：0.99680\n",
            "Precision：0.35115\n",
            "Recall：0.88462\n",
            "F1：0.50273\n",
            "\n",
            "\n",
            "[[56688   170]\n",
            " [   12    92]]\n",
            "\n",
            "\n",
            "the experiment results of adasyn:\n",
            "\n",
            "train_metrics\n",
            "Accuracy：0.99788\n",
            "Precision：0.99582\n",
            "Recall：0.99996\n",
            "F1：0.99788\n",
            "\n",
            "\n",
            "val_metrics\n",
            "Accuracy：0.99749\n",
            "Precision：0.99507\n",
            "Recall：0.99991\n",
            "F1：0.99749\n",
            "\n",
            "\n",
            "test_metrics\n",
            "Accuracy：0.99445\n",
            "Precision：0.23367\n",
            "Recall：0.89423\n",
            "F1：0.37052\n",
            "\n",
            "\n",
            "[[56553   305]\n",
            " [   11    93]]\n",
            "\n",
            "\n"
          ]
        }
      ],
      "source": [
        "from xgboost import XGBClassifier\n",
        "\n",
        "model=XGBClassifier(random_state=random_state,n_estimators=100,learning_rate=0.1)\n",
        "\n",
        "print(\"the experiment results of original dataset:\\n\")\n",
        "m1,m1_val=initial_model(model,tx_ori,ty_ori,vx_ori,vy_ori)\n",
        "m1_test=eval_model(m1,X_test_sc,y_test)\n",
        "\n",
        "print(\"the experiment results of vgan:\\n\")\n",
        "m3,m3_val=initial_model(model,tx_vgan,ty_vgan,vx_vgan,vy_vgan)\n",
        "m3_test=eval_model(m3,X_test_sc,y_test)\n",
        "\n",
        "print(\"the experiment results of smote:\\n\")\n",
        "m4,m4_val=initial_model(model,tx_sm,ty_sm,vx_sm,vy_sm)\n",
        "m4_test=eval_model(m4,X_test_sc,y_test)\n",
        "\n",
        "print(\"the experiment results of adasyn:\\n\")\n",
        "m5,m5_val=initial_model(model,tx_ad,ty_ad,vx_ad,vy_ad)\n",
        "m5_test=eval_model(m5,X_test_sc,y_test)\n",
        "\n",
        "m1_results=dict(m1_val,**m1_test)\n",
        "m3_results=dict(m3_val,**m3_test)\n",
        "m4_results=dict(m4_val,**m4_test)\n",
        "m5_results=dict(m5_val,**m5_test)\n",
        "\n",
        "model_metrics_lists = [m1_results, m3_results, m4_results, m5_results]\n",
        "model_names = ['original', 'vgan', 'smote', 'adasyn']\n",
        "\n",
        "classifier_name=\"XGBClassifier\"\n",
        "write_to_csv(model_names, model_metrics_lists,classifier_name)"
      ]
    }
  ],
  "metadata": {
    "colab": {
      "collapsed_sections": [
        "2yaqoyh7Z_-E",
        "0cEaZisacJjj",
        "h6rRkGdQzQrh",
        "TQyBl3g62OgW",
        "lBxwVwDBuE1m",
        "FdgRWw1V3Jri",
        "tRmVacDaDwCP",
        "uHSgigYUkWaz",
        "9nt1wAOyEDaO",
        "6qxilKoT8DpI"
      ],
      "provenance": []
    },
    "kernelspec": {
      "display_name": "Python 3 (ipykernel)",
      "language": "python",
      "name": "python3"
    },
    "language_info": {
      "codemirror_mode": {
        "name": "ipython",
        "version": 3
      },
      "file_extension": ".py",
      "mimetype": "text/x-python",
      "name": "python",
      "nbconvert_exporter": "python",
      "pygments_lexer": "ipython3",
      "version": "3.10.9"
    }
  },
  "nbformat": 4,
  "nbformat_minor": 0
}