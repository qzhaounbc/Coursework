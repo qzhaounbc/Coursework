{
  "cells": [
    {
      "cell_type": "markdown",
      "metadata": {
        "id": "wWaK01qpGZxo"
      },
      "source": [
        "## Credit Card Fraud Dataset"
      ]
    },
    {
      "cell_type": "markdown",
      "source": [
        "# define global variable"
      ],
      "metadata": {
        "id": "2yaqoyh7Z_-E"
      }
    },
    {
      "cell_type": "code",
      "source": [
        "random_state=2024\n",
        "test_size=0.2\n",
        "sampling_strategy=1.0"
      ],
      "metadata": {
        "id": "QX0NxzHWNkOH"
      },
      "execution_count": null,
      "outputs": []
    },
    {
      "cell_type": "markdown",
      "metadata": {
        "id": "0cEaZisacJjj"
      },
      "source": [
        "# Import dataset"
      ]
    },
    {
      "cell_type": "code",
      "execution_count": null,
      "metadata": {
        "id": "eeFHaIkNHgJy"
      },
      "outputs": [],
      "source": [
        "import pandas as pd\n",
        "import numpy as np\n",
        "import seaborn as sns\n",
        "import matplotlib.pyplot as plt\n",
        "%matplotlib inline\n",
        "import warnings\n",
        "warnings.filterwarnings(\"ignore\")\n",
        "from sklearn.model_selection import train_test_split\n",
        "from sklearn.preprocessing import StandardScaler\n",
        "from sklearn.pipeline import Pipeline\n",
        "from tensorflow.keras.models import Sequential\n",
        "from tensorflow.keras.layers import Dense,Reshape, Dropout,BatchNormalization,Conv1DTranspose,Conv1D,Flatten\n",
        "import tensorflow as tf\n",
        "from tensorflow.keras.layers import LeakyReLU"
      ]
    },
    {
      "cell_type": "code",
      "execution_count": null,
      "metadata": {
        "colab": {
          "base_uri": "https://localhost:8080/",
          "height": 255
        },
        "id": "XukbA6ZtHkb1",
        "outputId": "0c1c44d7-5876-4e0b-a9aa-456087cd05ce"
      },
      "outputs": [
        {
          "output_type": "execute_result",
          "data": {
            "text/plain": [
              "   Time        V1        V2        V3        V4        V5        V6        V7  \\\n",
              "0   0.0 -1.359807 -0.072781  2.536347  1.378155 -0.338321  0.462388  0.239599   \n",
              "1   0.0  1.191857  0.266151  0.166480  0.448154  0.060018 -0.082361 -0.078803   \n",
              "2   1.0 -1.358354 -1.340163  1.773209  0.379780 -0.503198  1.800499  0.791461   \n",
              "3   1.0 -0.966272 -0.185226  1.792993 -0.863291 -0.010309  1.247203  0.237609   \n",
              "4   2.0 -1.158233  0.877737  1.548718  0.403034 -0.407193  0.095921  0.592941   \n",
              "\n",
              "         V8        V9  ...       V21       V22       V23       V24       V25  \\\n",
              "0  0.098698  0.363787  ... -0.018307  0.277838 -0.110474  0.066928  0.128539   \n",
              "1  0.085102 -0.255425  ... -0.225775 -0.638672  0.101288 -0.339846  0.167170   \n",
              "2  0.247676 -1.514654  ...  0.247998  0.771679  0.909412 -0.689281 -0.327642   \n",
              "3  0.377436 -1.387024  ... -0.108300  0.005274 -0.190321 -1.175575  0.647376   \n",
              "4 -0.270533  0.817739  ... -0.009431  0.798278 -0.137458  0.141267 -0.206010   \n",
              "\n",
              "        V26       V27       V28  Amount  Class  \n",
              "0 -0.189115  0.133558 -0.021053  149.62      0  \n",
              "1  0.125895 -0.008983  0.014724    2.69      0  \n",
              "2 -0.139097 -0.055353 -0.059752  378.66      0  \n",
              "3 -0.221929  0.062723  0.061458  123.50      0  \n",
              "4  0.502292  0.219422  0.215153   69.99      0  \n",
              "\n",
              "[5 rows x 31 columns]"
            ],
            "text/html": [
              "\n",
              "  <div id=\"df-bd73ce1f-4bde-4783-8beb-b41339b4cecd\" class=\"colab-df-container\">\n",
              "    <div>\n",
              "<style scoped>\n",
              "    .dataframe tbody tr th:only-of-type {\n",
              "        vertical-align: middle;\n",
              "    }\n",
              "\n",
              "    .dataframe tbody tr th {\n",
              "        vertical-align: top;\n",
              "    }\n",
              "\n",
              "    .dataframe thead th {\n",
              "        text-align: right;\n",
              "    }\n",
              "</style>\n",
              "<table border=\"1\" class=\"dataframe\">\n",
              "  <thead>\n",
              "    <tr style=\"text-align: right;\">\n",
              "      <th></th>\n",
              "      <th>Time</th>\n",
              "      <th>V1</th>\n",
              "      <th>V2</th>\n",
              "      <th>V3</th>\n",
              "      <th>V4</th>\n",
              "      <th>V5</th>\n",
              "      <th>V6</th>\n",
              "      <th>V7</th>\n",
              "      <th>V8</th>\n",
              "      <th>V9</th>\n",
              "      <th>...</th>\n",
              "      <th>V21</th>\n",
              "      <th>V22</th>\n",
              "      <th>V23</th>\n",
              "      <th>V24</th>\n",
              "      <th>V25</th>\n",
              "      <th>V26</th>\n",
              "      <th>V27</th>\n",
              "      <th>V28</th>\n",
              "      <th>Amount</th>\n",
              "      <th>Class</th>\n",
              "    </tr>\n",
              "  </thead>\n",
              "  <tbody>\n",
              "    <tr>\n",
              "      <th>0</th>\n",
              "      <td>0.0</td>\n",
              "      <td>-1.359807</td>\n",
              "      <td>-0.072781</td>\n",
              "      <td>2.536347</td>\n",
              "      <td>1.378155</td>\n",
              "      <td>-0.338321</td>\n",
              "      <td>0.462388</td>\n",
              "      <td>0.239599</td>\n",
              "      <td>0.098698</td>\n",
              "      <td>0.363787</td>\n",
              "      <td>...</td>\n",
              "      <td>-0.018307</td>\n",
              "      <td>0.277838</td>\n",
              "      <td>-0.110474</td>\n",
              "      <td>0.066928</td>\n",
              "      <td>0.128539</td>\n",
              "      <td>-0.189115</td>\n",
              "      <td>0.133558</td>\n",
              "      <td>-0.021053</td>\n",
              "      <td>149.62</td>\n",
              "      <td>0</td>\n",
              "    </tr>\n",
              "    <tr>\n",
              "      <th>1</th>\n",
              "      <td>0.0</td>\n",
              "      <td>1.191857</td>\n",
              "      <td>0.266151</td>\n",
              "      <td>0.166480</td>\n",
              "      <td>0.448154</td>\n",
              "      <td>0.060018</td>\n",
              "      <td>-0.082361</td>\n",
              "      <td>-0.078803</td>\n",
              "      <td>0.085102</td>\n",
              "      <td>-0.255425</td>\n",
              "      <td>...</td>\n",
              "      <td>-0.225775</td>\n",
              "      <td>-0.638672</td>\n",
              "      <td>0.101288</td>\n",
              "      <td>-0.339846</td>\n",
              "      <td>0.167170</td>\n",
              "      <td>0.125895</td>\n",
              "      <td>-0.008983</td>\n",
              "      <td>0.014724</td>\n",
              "      <td>2.69</td>\n",
              "      <td>0</td>\n",
              "    </tr>\n",
              "    <tr>\n",
              "      <th>2</th>\n",
              "      <td>1.0</td>\n",
              "      <td>-1.358354</td>\n",
              "      <td>-1.340163</td>\n",
              "      <td>1.773209</td>\n",
              "      <td>0.379780</td>\n",
              "      <td>-0.503198</td>\n",
              "      <td>1.800499</td>\n",
              "      <td>0.791461</td>\n",
              "      <td>0.247676</td>\n",
              "      <td>-1.514654</td>\n",
              "      <td>...</td>\n",
              "      <td>0.247998</td>\n",
              "      <td>0.771679</td>\n",
              "      <td>0.909412</td>\n",
              "      <td>-0.689281</td>\n",
              "      <td>-0.327642</td>\n",
              "      <td>-0.139097</td>\n",
              "      <td>-0.055353</td>\n",
              "      <td>-0.059752</td>\n",
              "      <td>378.66</td>\n",
              "      <td>0</td>\n",
              "    </tr>\n",
              "    <tr>\n",
              "      <th>3</th>\n",
              "      <td>1.0</td>\n",
              "      <td>-0.966272</td>\n",
              "      <td>-0.185226</td>\n",
              "      <td>1.792993</td>\n",
              "      <td>-0.863291</td>\n",
              "      <td>-0.010309</td>\n",
              "      <td>1.247203</td>\n",
              "      <td>0.237609</td>\n",
              "      <td>0.377436</td>\n",
              "      <td>-1.387024</td>\n",
              "      <td>...</td>\n",
              "      <td>-0.108300</td>\n",
              "      <td>0.005274</td>\n",
              "      <td>-0.190321</td>\n",
              "      <td>-1.175575</td>\n",
              "      <td>0.647376</td>\n",
              "      <td>-0.221929</td>\n",
              "      <td>0.062723</td>\n",
              "      <td>0.061458</td>\n",
              "      <td>123.50</td>\n",
              "      <td>0</td>\n",
              "    </tr>\n",
              "    <tr>\n",
              "      <th>4</th>\n",
              "      <td>2.0</td>\n",
              "      <td>-1.158233</td>\n",
              "      <td>0.877737</td>\n",
              "      <td>1.548718</td>\n",
              "      <td>0.403034</td>\n",
              "      <td>-0.407193</td>\n",
              "      <td>0.095921</td>\n",
              "      <td>0.592941</td>\n",
              "      <td>-0.270533</td>\n",
              "      <td>0.817739</td>\n",
              "      <td>...</td>\n",
              "      <td>-0.009431</td>\n",
              "      <td>0.798278</td>\n",
              "      <td>-0.137458</td>\n",
              "      <td>0.141267</td>\n",
              "      <td>-0.206010</td>\n",
              "      <td>0.502292</td>\n",
              "      <td>0.219422</td>\n",
              "      <td>0.215153</td>\n",
              "      <td>69.99</td>\n",
              "      <td>0</td>\n",
              "    </tr>\n",
              "  </tbody>\n",
              "</table>\n",
              "<p>5 rows × 31 columns</p>\n",
              "</div>\n",
              "    <div class=\"colab-df-buttons\">\n",
              "\n",
              "  <div class=\"colab-df-container\">\n",
              "    <button class=\"colab-df-convert\" onclick=\"convertToInteractive('df-bd73ce1f-4bde-4783-8beb-b41339b4cecd')\"\n",
              "            title=\"Convert this dataframe to an interactive table.\"\n",
              "            style=\"display:none;\">\n",
              "\n",
              "  <svg xmlns=\"http://www.w3.org/2000/svg\" height=\"24px\" viewBox=\"0 -960 960 960\">\n",
              "    <path d=\"M120-120v-720h720v720H120Zm60-500h600v-160H180v160Zm220 220h160v-160H400v160Zm0 220h160v-160H400v160ZM180-400h160v-160H180v160Zm440 0h160v-160H620v160ZM180-180h160v-160H180v160Zm440 0h160v-160H620v160Z\"/>\n",
              "  </svg>\n",
              "    </button>\n",
              "\n",
              "  <style>\n",
              "    .colab-df-container {\n",
              "      display:flex;\n",
              "      gap: 12px;\n",
              "    }\n",
              "\n",
              "    .colab-df-convert {\n",
              "      background-color: #E8F0FE;\n",
              "      border: none;\n",
              "      border-radius: 50%;\n",
              "      cursor: pointer;\n",
              "      display: none;\n",
              "      fill: #1967D2;\n",
              "      height: 32px;\n",
              "      padding: 0 0 0 0;\n",
              "      width: 32px;\n",
              "    }\n",
              "\n",
              "    .colab-df-convert:hover {\n",
              "      background-color: #E2EBFA;\n",
              "      box-shadow: 0px 1px 2px rgba(60, 64, 67, 0.3), 0px 1px 3px 1px rgba(60, 64, 67, 0.15);\n",
              "      fill: #174EA6;\n",
              "    }\n",
              "\n",
              "    .colab-df-buttons div {\n",
              "      margin-bottom: 4px;\n",
              "    }\n",
              "\n",
              "    [theme=dark] .colab-df-convert {\n",
              "      background-color: #3B4455;\n",
              "      fill: #D2E3FC;\n",
              "    }\n",
              "\n",
              "    [theme=dark] .colab-df-convert:hover {\n",
              "      background-color: #434B5C;\n",
              "      box-shadow: 0px 1px 3px 1px rgba(0, 0, 0, 0.15);\n",
              "      filter: drop-shadow(0px 1px 2px rgba(0, 0, 0, 0.3));\n",
              "      fill: #FFFFFF;\n",
              "    }\n",
              "  </style>\n",
              "\n",
              "    <script>\n",
              "      const buttonEl =\n",
              "        document.querySelector('#df-bd73ce1f-4bde-4783-8beb-b41339b4cecd button.colab-df-convert');\n",
              "      buttonEl.style.display =\n",
              "        google.colab.kernel.accessAllowed ? 'block' : 'none';\n",
              "\n",
              "      async function convertToInteractive(key) {\n",
              "        const element = document.querySelector('#df-bd73ce1f-4bde-4783-8beb-b41339b4cecd');\n",
              "        const dataTable =\n",
              "          await google.colab.kernel.invokeFunction('convertToInteractive',\n",
              "                                                    [key], {});\n",
              "        if (!dataTable) return;\n",
              "\n",
              "        const docLinkHtml = 'Like what you see? Visit the ' +\n",
              "          '<a target=\"_blank\" href=https://colab.research.google.com/notebooks/data_table.ipynb>data table notebook</a>'\n",
              "          + ' to learn more about interactive tables.';\n",
              "        element.innerHTML = '';\n",
              "        dataTable['output_type'] = 'display_data';\n",
              "        await google.colab.output.renderOutput(dataTable, element);\n",
              "        const docLink = document.createElement('div');\n",
              "        docLink.innerHTML = docLinkHtml;\n",
              "        element.appendChild(docLink);\n",
              "      }\n",
              "    </script>\n",
              "  </div>\n",
              "\n",
              "\n",
              "<div id=\"df-572384ab-2ce3-4c06-9e5f-58bbd99221c9\">\n",
              "  <button class=\"colab-df-quickchart\" onclick=\"quickchart('df-572384ab-2ce3-4c06-9e5f-58bbd99221c9')\"\n",
              "            title=\"Suggest charts\"\n",
              "            style=\"display:none;\">\n",
              "\n",
              "<svg xmlns=\"http://www.w3.org/2000/svg\" height=\"24px\"viewBox=\"0 0 24 24\"\n",
              "     width=\"24px\">\n",
              "    <g>\n",
              "        <path d=\"M19 3H5c-1.1 0-2 .9-2 2v14c0 1.1.9 2 2 2h14c1.1 0 2-.9 2-2V5c0-1.1-.9-2-2-2zM9 17H7v-7h2v7zm4 0h-2V7h2v10zm4 0h-2v-4h2v4z\"/>\n",
              "    </g>\n",
              "</svg>\n",
              "  </button>\n",
              "\n",
              "<style>\n",
              "  .colab-df-quickchart {\n",
              "      --bg-color: #E8F0FE;\n",
              "      --fill-color: #1967D2;\n",
              "      --hover-bg-color: #E2EBFA;\n",
              "      --hover-fill-color: #174EA6;\n",
              "      --disabled-fill-color: #AAA;\n",
              "      --disabled-bg-color: #DDD;\n",
              "  }\n",
              "\n",
              "  [theme=dark] .colab-df-quickchart {\n",
              "      --bg-color: #3B4455;\n",
              "      --fill-color: #D2E3FC;\n",
              "      --hover-bg-color: #434B5C;\n",
              "      --hover-fill-color: #FFFFFF;\n",
              "      --disabled-bg-color: #3B4455;\n",
              "      --disabled-fill-color: #666;\n",
              "  }\n",
              "\n",
              "  .colab-df-quickchart {\n",
              "    background-color: var(--bg-color);\n",
              "    border: none;\n",
              "    border-radius: 50%;\n",
              "    cursor: pointer;\n",
              "    display: none;\n",
              "    fill: var(--fill-color);\n",
              "    height: 32px;\n",
              "    padding: 0;\n",
              "    width: 32px;\n",
              "  }\n",
              "\n",
              "  .colab-df-quickchart:hover {\n",
              "    background-color: var(--hover-bg-color);\n",
              "    box-shadow: 0 1px 2px rgba(60, 64, 67, 0.3), 0 1px 3px 1px rgba(60, 64, 67, 0.15);\n",
              "    fill: var(--button-hover-fill-color);\n",
              "  }\n",
              "\n",
              "  .colab-df-quickchart-complete:disabled,\n",
              "  .colab-df-quickchart-complete:disabled:hover {\n",
              "    background-color: var(--disabled-bg-color);\n",
              "    fill: var(--disabled-fill-color);\n",
              "    box-shadow: none;\n",
              "  }\n",
              "\n",
              "  .colab-df-spinner {\n",
              "    border: 2px solid var(--fill-color);\n",
              "    border-color: transparent;\n",
              "    border-bottom-color: var(--fill-color);\n",
              "    animation:\n",
              "      spin 1s steps(1) infinite;\n",
              "  }\n",
              "\n",
              "  @keyframes spin {\n",
              "    0% {\n",
              "      border-color: transparent;\n",
              "      border-bottom-color: var(--fill-color);\n",
              "      border-left-color: var(--fill-color);\n",
              "    }\n",
              "    20% {\n",
              "      border-color: transparent;\n",
              "      border-left-color: var(--fill-color);\n",
              "      border-top-color: var(--fill-color);\n",
              "    }\n",
              "    30% {\n",
              "      border-color: transparent;\n",
              "      border-left-color: var(--fill-color);\n",
              "      border-top-color: var(--fill-color);\n",
              "      border-right-color: var(--fill-color);\n",
              "    }\n",
              "    40% {\n",
              "      border-color: transparent;\n",
              "      border-right-color: var(--fill-color);\n",
              "      border-top-color: var(--fill-color);\n",
              "    }\n",
              "    60% {\n",
              "      border-color: transparent;\n",
              "      border-right-color: var(--fill-color);\n",
              "    }\n",
              "    80% {\n",
              "      border-color: transparent;\n",
              "      border-right-color: var(--fill-color);\n",
              "      border-bottom-color: var(--fill-color);\n",
              "    }\n",
              "    90% {\n",
              "      border-color: transparent;\n",
              "      border-bottom-color: var(--fill-color);\n",
              "    }\n",
              "  }\n",
              "</style>\n",
              "\n",
              "  <script>\n",
              "    async function quickchart(key) {\n",
              "      const quickchartButtonEl =\n",
              "        document.querySelector('#' + key + ' button');\n",
              "      quickchartButtonEl.disabled = true;  // To prevent multiple clicks.\n",
              "      quickchartButtonEl.classList.add('colab-df-spinner');\n",
              "      try {\n",
              "        const charts = await google.colab.kernel.invokeFunction(\n",
              "            'suggestCharts', [key], {});\n",
              "      } catch (error) {\n",
              "        console.error('Error during call to suggestCharts:', error);\n",
              "      }\n",
              "      quickchartButtonEl.classList.remove('colab-df-spinner');\n",
              "      quickchartButtonEl.classList.add('colab-df-quickchart-complete');\n",
              "    }\n",
              "    (() => {\n",
              "      let quickchartButtonEl =\n",
              "        document.querySelector('#df-572384ab-2ce3-4c06-9e5f-58bbd99221c9 button');\n",
              "      quickchartButtonEl.style.display =\n",
              "        google.colab.kernel.accessAllowed ? 'block' : 'none';\n",
              "    })();\n",
              "  </script>\n",
              "</div>\n",
              "\n",
              "    </div>\n",
              "  </div>\n"
            ],
            "application/vnd.google.colaboratory.intrinsic+json": {
              "type": "dataframe",
              "variable_name": "data"
            }
          },
          "metadata": {},
          "execution_count": 41
        }
      ],
      "source": [
        "data = pd.read_csv(\"/content/creditcard.csv\")\n",
        "data.head()"
      ]
    },
    {
      "cell_type": "code",
      "source": [
        "data.Class.value_counts()"
      ],
      "metadata": {
        "colab": {
          "base_uri": "https://localhost:8080/"
        },
        "id": "EFgJtNizFtxd",
        "outputId": "f65f971e-1232-453e-f075-2ef218bb9c56"
      },
      "execution_count": null,
      "outputs": [
        {
          "output_type": "execute_result",
          "data": {
            "text/plain": [
              "Class\n",
              "0    284315\n",
              "1       492\n",
              "Name: count, dtype: int64"
            ]
          },
          "metadata": {},
          "execution_count": 42
        }
      ]
    },
    {
      "cell_type": "code",
      "source": [
        "var_list=data.columns[:-1]"
      ],
      "metadata": {
        "id": "LPXcsrppF1AS"
      },
      "execution_count": null,
      "outputs": []
    },
    {
      "cell_type": "code",
      "source": [
        "print(var_list)"
      ],
      "metadata": {
        "colab": {
          "base_uri": "https://localhost:8080/"
        },
        "id": "zBuJiMXSs6cr",
        "outputId": "f73f57e2-8c4c-4afe-e4e2-3aa879e219b8"
      },
      "execution_count": null,
      "outputs": [
        {
          "output_type": "stream",
          "name": "stdout",
          "text": [
            "Index(['Time', 'V1', 'V2', 'V3', 'V4', 'V5', 'V6', 'V7', 'V8', 'V9', 'V10',\n",
            "       'V11', 'V12', 'V13', 'V14', 'V15', 'V16', 'V17', 'V18', 'V19', 'V20',\n",
            "       'V21', 'V22', 'V23', 'V24', 'V25', 'V26', 'V27', 'V28', 'Amount'],\n",
            "      dtype='object')\n"
          ]
        }
      ]
    },
    {
      "cell_type": "markdown",
      "source": [
        "# data preparation"
      ],
      "metadata": {
        "id": "h6rRkGdQzQrh"
      }
    },
    {
      "cell_type": "code",
      "source": [
        "from sklearn.model_selection import train_test_split\n",
        "train,test=train_test_split(data,test_size=test_size,random_state=random_state)"
      ],
      "metadata": {
        "id": "pd336zopRz75"
      },
      "execution_count": null,
      "outputs": []
    },
    {
      "cell_type": "code",
      "source": [
        "print(f\"the shape of training dataset is {train.shape}\")\n",
        "print(f\"the shape of testing dataset is {test.shape}\")"
      ],
      "metadata": {
        "colab": {
          "base_uri": "https://localhost:8080/"
        },
        "id": "GatxKc7iSGpQ",
        "outputId": "422a5e7a-07f8-4bb3-dcbe-8478e379c2de"
      },
      "execution_count": null,
      "outputs": [
        {
          "output_type": "stream",
          "name": "stdout",
          "text": [
            "the shape of training dataset is (227845, 31)\n",
            "the shape of testing dataset is (56962, 31)\n"
          ]
        }
      ]
    },
    {
      "cell_type": "code",
      "source": [
        "X_train,y_train=train.iloc[:,:-1],train.iloc[:,-1]"
      ],
      "metadata": {
        "id": "qvrTKe6Q4-k8"
      },
      "execution_count": null,
      "outputs": []
    },
    {
      "cell_type": "code",
      "source": [
        "majority_class=train.Class.value_counts()[0]\n",
        "minority_class=train.Class.value_counts()[1]\n",
        "print(f\"the amount of majority class:{majority_class}\")\n",
        "print(f\"the amount of minority class:{minority_class}\")"
      ],
      "metadata": {
        "colab": {
          "base_uri": "https://localhost:8080/"
        },
        "id": "dMQjMUtZ8qV-",
        "outputId": "8a37453d-ebc6-4232-9b1e-36e596f6a23e"
      },
      "execution_count": null,
      "outputs": [
        {
          "output_type": "stream",
          "name": "stdout",
          "text": [
            "the amount of majority class:227473\n",
            "the amount of minority class:372\n"
          ]
        }
      ]
    },
    {
      "cell_type": "markdown",
      "source": [
        "# data normalization"
      ],
      "metadata": {
        "id": "TQyBl3g62OgW"
      }
    },
    {
      "cell_type": "code",
      "source": [
        "from sklearn.preprocessing import MinMaxScaler\n",
        "\n",
        "scaler=MinMaxScaler()\n",
        "X_train_sc= scaler.fit_transform(X_train)"
      ],
      "metadata": {
        "id": "ctS4EI_ZJDtS"
      },
      "execution_count": null,
      "outputs": []
    },
    {
      "cell_type": "markdown",
      "source": [
        "## data preparation for builing GANs"
      ],
      "metadata": {
        "id": "Xa5JwoHZ23wH"
      }
    },
    {
      "cell_type": "code",
      "source": [
        "original_data = pd.concat([pd.DataFrame(X_train_sc, columns=X_train.columns, index=X_train.index),pd.DataFrame(y_train, columns=[\"Class\"], index=y_train.index)], axis=1)"
      ],
      "metadata": {
        "id": "VxYnln8jPFOS"
      },
      "execution_count": null,
      "outputs": []
    },
    {
      "cell_type": "code",
      "source": [
        "original_data.shape"
      ],
      "metadata": {
        "colab": {
          "base_uri": "https://localhost:8080/"
        },
        "id": "tYoFtJLCUCHn",
        "outputId": "7c930573-2053-4d57-fc44-e1a0d62106cb"
      },
      "execution_count": null,
      "outputs": [
        {
          "output_type": "execute_result",
          "data": {
            "text/plain": [
              "(227845, 31)"
            ]
          },
          "metadata": {},
          "execution_count": 85
        }
      ]
    },
    {
      "cell_type": "code",
      "source": [
        "original_data.head()"
      ],
      "metadata": {
        "colab": {
          "base_uri": "https://localhost:8080/"
        },
        "id": "hnPR6JYeJkTF",
        "outputId": "4c37098a-07bc-44ca-dd33-5ca0c4063ce8"
      },
      "execution_count": null,
      "outputs": [
        {
          "output_type": "execute_result",
          "data": {
            "text/plain": [
              "            Time        V1        V2        V3        V4        V5        V6  \\\n",
              "147383  0.512095  0.943413  0.776312  0.863190  0.221024  0.766697  0.264568   \n",
              "65631   0.299076  0.963631  0.751812  0.847940  0.312634  0.758254  0.269756   \n",
              "240064  0.870486  0.988935  0.768283  0.848299  0.425208  0.761321  0.266732   \n",
              "208351  0.793335  0.945837  0.777154  0.847513  0.238199  0.764101  0.265074   \n",
              "103165  0.396598  0.977522  0.767186  0.862121  0.314769  0.758178  0.259192   \n",
              "\n",
              "              V7        V8        V9  ...       V21       V22       V23  \\\n",
              "147383  0.268266  0.784432  0.486253  ...  0.559201  0.495795  0.662926   \n",
              "65631   0.263482  0.789113  0.479524  ...  0.568040  0.518510  0.659819   \n",
              "240064  0.260739  0.787861  0.462406  ...  0.561794  0.512975  0.670354   \n",
              "208351  0.264497  0.782515  0.452518  ...  0.573204  0.491674  0.669803   \n",
              "103165  0.262088  0.785994  0.491495  ...  0.560869  0.514959  0.665920   \n",
              "\n",
              "             V24       V25       V26       V27       V28    Amount  Class  \n",
              "147383  0.307256  0.616975  0.330576  0.410420  0.313123  0.000432      0  \n",
              "65631   0.336957  0.641756  0.367824  0.416244  0.314993  0.016352      0  \n",
              "240064  0.378354  0.603752  0.395020  0.416985  0.312753  0.001017      0  \n",
              "208351  0.327391  0.559796  0.407574  0.419697  0.315687  0.001837      0  \n",
              "103165  0.480415  0.661053  0.355158  0.417883  0.313981  0.000389      0  \n",
              "\n",
              "[5 rows x 31 columns]"
            ],
            "text/html": [
              "\n",
              "  <div id=\"df-6e6dfcae-6053-467b-86c3-e9c92c428341\" class=\"colab-df-container\">\n",
              "    <div>\n",
              "<style scoped>\n",
              "    .dataframe tbody tr th:only-of-type {\n",
              "        vertical-align: middle;\n",
              "    }\n",
              "\n",
              "    .dataframe tbody tr th {\n",
              "        vertical-align: top;\n",
              "    }\n",
              "\n",
              "    .dataframe thead th {\n",
              "        text-align: right;\n",
              "    }\n",
              "</style>\n",
              "<table border=\"1\" class=\"dataframe\">\n",
              "  <thead>\n",
              "    <tr style=\"text-align: right;\">\n",
              "      <th></th>\n",
              "      <th>Time</th>\n",
              "      <th>V1</th>\n",
              "      <th>V2</th>\n",
              "      <th>V3</th>\n",
              "      <th>V4</th>\n",
              "      <th>V5</th>\n",
              "      <th>V6</th>\n",
              "      <th>V7</th>\n",
              "      <th>V8</th>\n",
              "      <th>V9</th>\n",
              "      <th>...</th>\n",
              "      <th>V21</th>\n",
              "      <th>V22</th>\n",
              "      <th>V23</th>\n",
              "      <th>V24</th>\n",
              "      <th>V25</th>\n",
              "      <th>V26</th>\n",
              "      <th>V27</th>\n",
              "      <th>V28</th>\n",
              "      <th>Amount</th>\n",
              "      <th>Class</th>\n",
              "    </tr>\n",
              "  </thead>\n",
              "  <tbody>\n",
              "    <tr>\n",
              "      <th>147383</th>\n",
              "      <td>0.512095</td>\n",
              "      <td>0.943413</td>\n",
              "      <td>0.776312</td>\n",
              "      <td>0.863190</td>\n",
              "      <td>0.221024</td>\n",
              "      <td>0.766697</td>\n",
              "      <td>0.264568</td>\n",
              "      <td>0.268266</td>\n",
              "      <td>0.784432</td>\n",
              "      <td>0.486253</td>\n",
              "      <td>...</td>\n",
              "      <td>0.559201</td>\n",
              "      <td>0.495795</td>\n",
              "      <td>0.662926</td>\n",
              "      <td>0.307256</td>\n",
              "      <td>0.616975</td>\n",
              "      <td>0.330576</td>\n",
              "      <td>0.410420</td>\n",
              "      <td>0.313123</td>\n",
              "      <td>0.000432</td>\n",
              "      <td>0</td>\n",
              "    </tr>\n",
              "    <tr>\n",
              "      <th>65631</th>\n",
              "      <td>0.299076</td>\n",
              "      <td>0.963631</td>\n",
              "      <td>0.751812</td>\n",
              "      <td>0.847940</td>\n",
              "      <td>0.312634</td>\n",
              "      <td>0.758254</td>\n",
              "      <td>0.269756</td>\n",
              "      <td>0.263482</td>\n",
              "      <td>0.789113</td>\n",
              "      <td>0.479524</td>\n",
              "      <td>...</td>\n",
              "      <td>0.568040</td>\n",
              "      <td>0.518510</td>\n",
              "      <td>0.659819</td>\n",
              "      <td>0.336957</td>\n",
              "      <td>0.641756</td>\n",
              "      <td>0.367824</td>\n",
              "      <td>0.416244</td>\n",
              "      <td>0.314993</td>\n",
              "      <td>0.016352</td>\n",
              "      <td>0</td>\n",
              "    </tr>\n",
              "    <tr>\n",
              "      <th>240064</th>\n",
              "      <td>0.870486</td>\n",
              "      <td>0.988935</td>\n",
              "      <td>0.768283</td>\n",
              "      <td>0.848299</td>\n",
              "      <td>0.425208</td>\n",
              "      <td>0.761321</td>\n",
              "      <td>0.266732</td>\n",
              "      <td>0.260739</td>\n",
              "      <td>0.787861</td>\n",
              "      <td>0.462406</td>\n",
              "      <td>...</td>\n",
              "      <td>0.561794</td>\n",
              "      <td>0.512975</td>\n",
              "      <td>0.670354</td>\n",
              "      <td>0.378354</td>\n",
              "      <td>0.603752</td>\n",
              "      <td>0.395020</td>\n",
              "      <td>0.416985</td>\n",
              "      <td>0.312753</td>\n",
              "      <td>0.001017</td>\n",
              "      <td>0</td>\n",
              "    </tr>\n",
              "    <tr>\n",
              "      <th>208351</th>\n",
              "      <td>0.793335</td>\n",
              "      <td>0.945837</td>\n",
              "      <td>0.777154</td>\n",
              "      <td>0.847513</td>\n",
              "      <td>0.238199</td>\n",
              "      <td>0.764101</td>\n",
              "      <td>0.265074</td>\n",
              "      <td>0.264497</td>\n",
              "      <td>0.782515</td>\n",
              "      <td>0.452518</td>\n",
              "      <td>...</td>\n",
              "      <td>0.573204</td>\n",
              "      <td>0.491674</td>\n",
              "      <td>0.669803</td>\n",
              "      <td>0.327391</td>\n",
              "      <td>0.559796</td>\n",
              "      <td>0.407574</td>\n",
              "      <td>0.419697</td>\n",
              "      <td>0.315687</td>\n",
              "      <td>0.001837</td>\n",
              "      <td>0</td>\n",
              "    </tr>\n",
              "    <tr>\n",
              "      <th>103165</th>\n",
              "      <td>0.396598</td>\n",
              "      <td>0.977522</td>\n",
              "      <td>0.767186</td>\n",
              "      <td>0.862121</td>\n",
              "      <td>0.314769</td>\n",
              "      <td>0.758178</td>\n",
              "      <td>0.259192</td>\n",
              "      <td>0.262088</td>\n",
              "      <td>0.785994</td>\n",
              "      <td>0.491495</td>\n",
              "      <td>...</td>\n",
              "      <td>0.560869</td>\n",
              "      <td>0.514959</td>\n",
              "      <td>0.665920</td>\n",
              "      <td>0.480415</td>\n",
              "      <td>0.661053</td>\n",
              "      <td>0.355158</td>\n",
              "      <td>0.417883</td>\n",
              "      <td>0.313981</td>\n",
              "      <td>0.000389</td>\n",
              "      <td>0</td>\n",
              "    </tr>\n",
              "  </tbody>\n",
              "</table>\n",
              "<p>5 rows × 31 columns</p>\n",
              "</div>\n",
              "    <div class=\"colab-df-buttons\">\n",
              "\n",
              "  <div class=\"colab-df-container\">\n",
              "    <button class=\"colab-df-convert\" onclick=\"convertToInteractive('df-6e6dfcae-6053-467b-86c3-e9c92c428341')\"\n",
              "            title=\"Convert this dataframe to an interactive table.\"\n",
              "            style=\"display:none;\">\n",
              "\n",
              "  <svg xmlns=\"http://www.w3.org/2000/svg\" height=\"24px\" viewBox=\"0 -960 960 960\">\n",
              "    <path d=\"M120-120v-720h720v720H120Zm60-500h600v-160H180v160Zm220 220h160v-160H400v160Zm0 220h160v-160H400v160ZM180-400h160v-160H180v160Zm440 0h160v-160H620v160ZM180-180h160v-160H180v160Zm440 0h160v-160H620v160Z\"/>\n",
              "  </svg>\n",
              "    </button>\n",
              "\n",
              "  <style>\n",
              "    .colab-df-container {\n",
              "      display:flex;\n",
              "      gap: 12px;\n",
              "    }\n",
              "\n",
              "    .colab-df-convert {\n",
              "      background-color: #E8F0FE;\n",
              "      border: none;\n",
              "      border-radius: 50%;\n",
              "      cursor: pointer;\n",
              "      display: none;\n",
              "      fill: #1967D2;\n",
              "      height: 32px;\n",
              "      padding: 0 0 0 0;\n",
              "      width: 32px;\n",
              "    }\n",
              "\n",
              "    .colab-df-convert:hover {\n",
              "      background-color: #E2EBFA;\n",
              "      box-shadow: 0px 1px 2px rgba(60, 64, 67, 0.3), 0px 1px 3px 1px rgba(60, 64, 67, 0.15);\n",
              "      fill: #174EA6;\n",
              "    }\n",
              "\n",
              "    .colab-df-buttons div {\n",
              "      margin-bottom: 4px;\n",
              "    }\n",
              "\n",
              "    [theme=dark] .colab-df-convert {\n",
              "      background-color: #3B4455;\n",
              "      fill: #D2E3FC;\n",
              "    }\n",
              "\n",
              "    [theme=dark] .colab-df-convert:hover {\n",
              "      background-color: #434B5C;\n",
              "      box-shadow: 0px 1px 3px 1px rgba(0, 0, 0, 0.15);\n",
              "      filter: drop-shadow(0px 1px 2px rgba(0, 0, 0, 0.3));\n",
              "      fill: #FFFFFF;\n",
              "    }\n",
              "  </style>\n",
              "\n",
              "    <script>\n",
              "      const buttonEl =\n",
              "        document.querySelector('#df-6e6dfcae-6053-467b-86c3-e9c92c428341 button.colab-df-convert');\n",
              "      buttonEl.style.display =\n",
              "        google.colab.kernel.accessAllowed ? 'block' : 'none';\n",
              "\n",
              "      async function convertToInteractive(key) {\n",
              "        const element = document.querySelector('#df-6e6dfcae-6053-467b-86c3-e9c92c428341');\n",
              "        const dataTable =\n",
              "          await google.colab.kernel.invokeFunction('convertToInteractive',\n",
              "                                                    [key], {});\n",
              "        if (!dataTable) return;\n",
              "\n",
              "        const docLinkHtml = 'Like what you see? Visit the ' +\n",
              "          '<a target=\"_blank\" href=https://colab.research.google.com/notebooks/data_table.ipynb>data table notebook</a>'\n",
              "          + ' to learn more about interactive tables.';\n",
              "        element.innerHTML = '';\n",
              "        dataTable['output_type'] = 'display_data';\n",
              "        await google.colab.output.renderOutput(dataTable, element);\n",
              "        const docLink = document.createElement('div');\n",
              "        docLink.innerHTML = docLinkHtml;\n",
              "        element.appendChild(docLink);\n",
              "      }\n",
              "    </script>\n",
              "  </div>\n",
              "\n",
              "\n",
              "<div id=\"df-248ae358-636b-4f55-a39b-20cbb2fcc87f\">\n",
              "  <button class=\"colab-df-quickchart\" onclick=\"quickchart('df-248ae358-636b-4f55-a39b-20cbb2fcc87f')\"\n",
              "            title=\"Suggest charts\"\n",
              "            style=\"display:none;\">\n",
              "\n",
              "<svg xmlns=\"http://www.w3.org/2000/svg\" height=\"24px\"viewBox=\"0 0 24 24\"\n",
              "     width=\"24px\">\n",
              "    <g>\n",
              "        <path d=\"M19 3H5c-1.1 0-2 .9-2 2v14c0 1.1.9 2 2 2h14c1.1 0 2-.9 2-2V5c0-1.1-.9-2-2-2zM9 17H7v-7h2v7zm4 0h-2V7h2v10zm4 0h-2v-4h2v4z\"/>\n",
              "    </g>\n",
              "</svg>\n",
              "  </button>\n",
              "\n",
              "<style>\n",
              "  .colab-df-quickchart {\n",
              "      --bg-color: #E8F0FE;\n",
              "      --fill-color: #1967D2;\n",
              "      --hover-bg-color: #E2EBFA;\n",
              "      --hover-fill-color: #174EA6;\n",
              "      --disabled-fill-color: #AAA;\n",
              "      --disabled-bg-color: #DDD;\n",
              "  }\n",
              "\n",
              "  [theme=dark] .colab-df-quickchart {\n",
              "      --bg-color: #3B4455;\n",
              "      --fill-color: #D2E3FC;\n",
              "      --hover-bg-color: #434B5C;\n",
              "      --hover-fill-color: #FFFFFF;\n",
              "      --disabled-bg-color: #3B4455;\n",
              "      --disabled-fill-color: #666;\n",
              "  }\n",
              "\n",
              "  .colab-df-quickchart {\n",
              "    background-color: var(--bg-color);\n",
              "    border: none;\n",
              "    border-radius: 50%;\n",
              "    cursor: pointer;\n",
              "    display: none;\n",
              "    fill: var(--fill-color);\n",
              "    height: 32px;\n",
              "    padding: 0;\n",
              "    width: 32px;\n",
              "  }\n",
              "\n",
              "  .colab-df-quickchart:hover {\n",
              "    background-color: var(--hover-bg-color);\n",
              "    box-shadow: 0 1px 2px rgba(60, 64, 67, 0.3), 0 1px 3px 1px rgba(60, 64, 67, 0.15);\n",
              "    fill: var(--button-hover-fill-color);\n",
              "  }\n",
              "\n",
              "  .colab-df-quickchart-complete:disabled,\n",
              "  .colab-df-quickchart-complete:disabled:hover {\n",
              "    background-color: var(--disabled-bg-color);\n",
              "    fill: var(--disabled-fill-color);\n",
              "    box-shadow: none;\n",
              "  }\n",
              "\n",
              "  .colab-df-spinner {\n",
              "    border: 2px solid var(--fill-color);\n",
              "    border-color: transparent;\n",
              "    border-bottom-color: var(--fill-color);\n",
              "    animation:\n",
              "      spin 1s steps(1) infinite;\n",
              "  }\n",
              "\n",
              "  @keyframes spin {\n",
              "    0% {\n",
              "      border-color: transparent;\n",
              "      border-bottom-color: var(--fill-color);\n",
              "      border-left-color: var(--fill-color);\n",
              "    }\n",
              "    20% {\n",
              "      border-color: transparent;\n",
              "      border-left-color: var(--fill-color);\n",
              "      border-top-color: var(--fill-color);\n",
              "    }\n",
              "    30% {\n",
              "      border-color: transparent;\n",
              "      border-left-color: var(--fill-color);\n",
              "      border-top-color: var(--fill-color);\n",
              "      border-right-color: var(--fill-color);\n",
              "    }\n",
              "    40% {\n",
              "      border-color: transparent;\n",
              "      border-right-color: var(--fill-color);\n",
              "      border-top-color: var(--fill-color);\n",
              "    }\n",
              "    60% {\n",
              "      border-color: transparent;\n",
              "      border-right-color: var(--fill-color);\n",
              "    }\n",
              "    80% {\n",
              "      border-color: transparent;\n",
              "      border-right-color: var(--fill-color);\n",
              "      border-bottom-color: var(--fill-color);\n",
              "    }\n",
              "    90% {\n",
              "      border-color: transparent;\n",
              "      border-bottom-color: var(--fill-color);\n",
              "    }\n",
              "  }\n",
              "</style>\n",
              "\n",
              "  <script>\n",
              "    async function quickchart(key) {\n",
              "      const quickchartButtonEl =\n",
              "        document.querySelector('#' + key + ' button');\n",
              "      quickchartButtonEl.disabled = true;  // To prevent multiple clicks.\n",
              "      quickchartButtonEl.classList.add('colab-df-spinner');\n",
              "      try {\n",
              "        const charts = await google.colab.kernel.invokeFunction(\n",
              "            'suggestCharts', [key], {});\n",
              "      } catch (error) {\n",
              "        console.error('Error during call to suggestCharts:', error);\n",
              "      }\n",
              "      quickchartButtonEl.classList.remove('colab-df-spinner');\n",
              "      quickchartButtonEl.classList.add('colab-df-quickchart-complete');\n",
              "    }\n",
              "    (() => {\n",
              "      let quickchartButtonEl =\n",
              "        document.querySelector('#df-248ae358-636b-4f55-a39b-20cbb2fcc87f button');\n",
              "      quickchartButtonEl.style.display =\n",
              "        google.colab.kernel.accessAllowed ? 'block' : 'none';\n",
              "    })();\n",
              "  </script>\n",
              "</div>\n",
              "\n",
              "    </div>\n",
              "  </div>\n"
            ],
            "application/vnd.google.colaboratory.intrinsic+json": {
              "type": "dataframe",
              "variable_name": "original_data"
            }
          },
          "metadata": {},
          "execution_count": 86
        }
      ]
    },
    {
      "cell_type": "code",
      "source": [
        "real_data=original_data[original_data[\"Class\"]==1].drop(\"Class\",axis=1)"
      ],
      "metadata": {
        "id": "0QHycVFgII3D"
      },
      "execution_count": null,
      "outputs": []
    },
    {
      "cell_type": "code",
      "source": [
        "real_data.shape"
      ],
      "metadata": {
        "colab": {
          "base_uri": "https://localhost:8080/"
        },
        "id": "UYxdnqPfJ0in",
        "outputId": "c6685730-fe35-429b-fac7-fb6bb3f104da"
      },
      "execution_count": null,
      "outputs": [
        {
          "output_type": "execute_result",
          "data": {
            "text/plain": [
              "(372, 30)"
            ]
          },
          "metadata": {},
          "execution_count": 88
        }
      ]
    },
    {
      "cell_type": "markdown",
      "source": [
        "# construct Vanilla GANs model"
      ],
      "metadata": {
        "id": "ool_gY7fClG6"
      }
    },
    {
      "cell_type": "markdown",
      "source": [
        "## build a GANs model"
      ],
      "metadata": {
        "id": "gAZSZs2aTw98"
      }
    },
    {
      "cell_type": "code",
      "source": [
        "n_epochs=100\n",
        "batch_size=32\n",
        "random_normal_dimensinos=100\n",
        "var_num=len(var_list)\n",
        "generator_num=int(sampling_strategy*majority_class)-minority_class"
      ],
      "metadata": {
        "id": "8wW8fnDmjVz3"
      },
      "execution_count": null,
      "outputs": []
    },
    {
      "cell_type": "code",
      "source": [
        "dataset = tf.data.Dataset.from_tensor_slices(real_data).shuffle(1000)\n",
        "dataset = dataset.batch(batch_size, drop_remainder=True).prefetch(1)"
      ],
      "metadata": {
        "id": "ESwkVGOrjFux"
      },
      "execution_count": null,
      "outputs": []
    },
    {
      "cell_type": "code",
      "source": [
        "from tensorflow.keras.layers import LeakyReLU\n",
        "from tensorflow.keras.layers import BatchNormalization\n",
        "from tensorflow.keras.optimizers import RMSprop\n",
        "from tensorflow.keras import losses\n",
        "\n",
        "def vanilla_gan(random_normal_dimnsions):\n",
        "\n",
        "#1.configure generator\n",
        "  generator=Sequential([\n",
        "    Dense(128, activation='selu', input_shape=[random_normal_dimensinos]),\n",
        "    Dropout(0.5),\n",
        "    BatchNormalization(),\n",
        "\n",
        "    Dense(256, activation='selu' ),\n",
        "    Dropout(0.5),\n",
        "    BatchNormalization(),\n",
        "\n",
        "    Dense(512, activation='selu'),\n",
        "    Dropout(0.5),\n",
        "    BatchNormalization(),\n",
        "\n",
        "    Dense(30, activation='sigmoid'),\n",
        "    ])\n",
        "\n",
        "# 2. configure discriminator\n",
        "\n",
        "  discriminator=Sequential([\n",
        "    Dense(128, activation=LeakyReLU(0.2), input_shape=(30,)),\n",
        "    Dropout(0.1),\n",
        "\n",
        "    Dense(64, activation=LeakyReLU(0.2)),\n",
        "    Dropout(0.1),\n",
        "\n",
        "    Dense(32, activation=LeakyReLU(0.2)),\n",
        "    Dropout(0.1),\n",
        "\n",
        "    Dense(1, activation='sigmoid')\n",
        "  ])\n",
        "\n",
        "  discriminator.compile(optimizer=RMSprop(learning_rate=0.0001),loss=losses.BinaryCrossentropy(),metrics=['accuracy'])\n",
        "  discriminator.trainable = False\n",
        "\n",
        "# 3. configure gan\n",
        "  gan=Sequential([\n",
        "    generator,\n",
        "    discriminator\n",
        "  ])\n",
        "\n",
        "  gan.compile(optimizer=RMSprop(learning_rate=0.0001),loss=losses.BinaryCrossentropy())\n",
        "\n",
        "  return gan\n",
        "\n",
        "def train_vanilla_gan(dataset,batch_size,n_epochs,random_normal_dimensinos):\n",
        "\n",
        "    gan=vanilla_gan(random_normal_dimensinos)\n",
        "    generator,discriminator=gan.layers\n",
        "\n",
        "    dloss=[]\n",
        "    gloss=[]\n",
        "\n",
        "    for epoch in range(n_epochs):\n",
        "\n",
        "    # Initialize variables to store average losses\n",
        "      generator_loss= 0\n",
        "      discriminator_loss= 0\n",
        "\n",
        "      for real in dataset:\n",
        "        # training phase one; training the discriminator\n",
        "        noise=tf.random.normal(shape=(batch_size,random_normal_dimensinos))\n",
        "\n",
        "        fake=generator(noise)\n",
        "        fake = tf.cast(fake, tf.float64)\n",
        "\n",
        "        mix_data=tf.concat([real,fake],axis=0)\n",
        "        discriminatr_labels=tf.concat([tf.ones(batch_size),tf.zeros(batch_size)],axis=0)\n",
        "\n",
        "        discriminator.trainable=True\n",
        "        discriminator.train_on_batch(mix_data,discriminatr_labels)\n",
        "\n",
        "        discriminator_accuracy=discriminator.metrics[0].result()\n",
        "\n",
        "        #print Discriminator Loss\n",
        "        discriminator_loss = losses.BinaryCrossentropy()(tf.ones_like(discriminator(real)), discriminator(real))\n",
        "        discriminator_loss += losses.BinaryCrossentropy()(tf.zeros_like(discriminator(fake)), discriminator(fake))\n",
        "\n",
        "        #training phase two: training the generator\n",
        "        noise=tf.random.normal(shape=(batch_size,random_normal_dimensinos))\n",
        "        generator_labels=tf.ones(batch_size)\n",
        "\n",
        "        discriminator.trainable=False\n",
        "        gan.train_on_batch(noise,generator_labels)\n",
        "        generator_accuracy=gan.metrics[0].result()\n",
        "\n",
        "        #print Generator Loss\n",
        "        generator_loss = losses.BinaryCrossentropy()(tf.ones_like(discriminator(fake)), discriminator(fake))\n",
        "\n",
        "\n",
        "      # Calculate average losses for the epoch\n",
        "      average_generator_loss = generator_loss/ len(dataset)\n",
        "      average_discriminator_loss = discriminator_loss / len(dataset)\n",
        "\n",
        "      # Print epoch summary with average losses\n",
        "      print(f\"Epoch: {epoch+1}, Discriminator Loss: {average_discriminator_loss:.4f}, Generator Loss: {average_generator_loss:.4f}\")\n",
        "      dloss.append(average_discriminator_loss)\n",
        "      gloss.append(average_generator_loss)\n",
        "\n",
        "    return generator,dloss,gloss\n",
        "\n",
        "vanilla_generator,dloss,gloss=train_vanilla_gan(dataset,batch_size,n_epochs,random_normal_dimensinos)\n"
      ],
      "metadata": {
        "id": "kJnJ5LfEIdRZ",
        "colab": {
          "base_uri": "https://localhost:8080/"
        },
        "outputId": "c0989b7a-4547-4cc4-a84e-d557fcab42e3"
      },
      "execution_count": null,
      "outputs": [
        {
          "output_type": "stream",
          "name": "stdout",
          "text": [
            "Epoch: 1, Discriminator Loss: 0.1229, Generator Loss: 0.0688\n",
            "Epoch: 2, Discriminator Loss: 0.1212, Generator Loss: 0.0684\n",
            "Epoch: 3, Discriminator Loss: 0.1199, Generator Loss: 0.0674\n",
            "Epoch: 4, Discriminator Loss: 0.1165, Generator Loss: 0.0692\n",
            "Epoch: 5, Discriminator Loss: 0.1138, Generator Loss: 0.0713\n",
            "Epoch: 6, Discriminator Loss: 0.1095, Generator Loss: 0.0748\n",
            "Epoch: 7, Discriminator Loss: 0.1060, Generator Loss: 0.0769\n",
            "Epoch: 8, Discriminator Loss: 0.1010, Generator Loss: 0.0801\n",
            "Epoch: 9, Discriminator Loss: 0.0989, Generator Loss: 0.0816\n",
            "Epoch: 10, Discriminator Loss: 0.0937, Generator Loss: 0.0858\n",
            "Epoch: 11, Discriminator Loss: 0.0910, Generator Loss: 0.0873\n",
            "Epoch: 12, Discriminator Loss: 0.0858, Generator Loss: 0.0913\n",
            "Epoch: 13, Discriminator Loss: 0.0838, Generator Loss: 0.0943\n",
            "Epoch: 14, Discriminator Loss: 0.0755, Generator Loss: 0.1028\n",
            "Epoch: 15, Discriminator Loss: 0.0692, Generator Loss: 0.1102\n",
            "Epoch: 16, Discriminator Loss: 0.0671, Generator Loss: 0.1121\n",
            "Epoch: 17, Discriminator Loss: 0.0663, Generator Loss: 0.1106\n",
            "Epoch: 18, Discriminator Loss: 0.0598, Generator Loss: 0.1201\n",
            "Epoch: 19, Discriminator Loss: 0.0560, Generator Loss: 0.1294\n",
            "Epoch: 20, Discriminator Loss: 0.0484, Generator Loss: 0.1421\n",
            "Epoch: 21, Discriminator Loss: 0.0497, Generator Loss: 0.1349\n",
            "Epoch: 22, Discriminator Loss: 0.0478, Generator Loss: 0.1433\n",
            "Epoch: 23, Discriminator Loss: 0.0516, Generator Loss: 0.1280\n",
            "Epoch: 24, Discriminator Loss: 0.0477, Generator Loss: 0.1518\n",
            "Epoch: 25, Discriminator Loss: 0.0444, Generator Loss: 0.1485\n",
            "Epoch: 26, Discriminator Loss: 0.0404, Generator Loss: 0.1718\n",
            "Epoch: 27, Discriminator Loss: 0.0311, Generator Loss: 0.1910\n",
            "Epoch: 28, Discriminator Loss: 0.0405, Generator Loss: 0.1773\n",
            "Epoch: 29, Discriminator Loss: 0.0409, Generator Loss: 0.1844\n",
            "Epoch: 30, Discriminator Loss: 0.0399, Generator Loss: 0.1705\n",
            "Epoch: 31, Discriminator Loss: 0.0312, Generator Loss: 0.2077\n",
            "Epoch: 32, Discriminator Loss: 0.0344, Generator Loss: 0.2137\n",
            "Epoch: 33, Discriminator Loss: 0.0391, Generator Loss: 0.1875\n",
            "Epoch: 34, Discriminator Loss: 0.0365, Generator Loss: 0.1894\n",
            "Epoch: 35, Discriminator Loss: 0.0408, Generator Loss: 0.1971\n",
            "Epoch: 36, Discriminator Loss: 0.0356, Generator Loss: 0.2083\n",
            "Epoch: 37, Discriminator Loss: 0.0399, Generator Loss: 0.2096\n",
            "Epoch: 38, Discriminator Loss: 0.0326, Generator Loss: 0.2033\n",
            "Epoch: 39, Discriminator Loss: 0.0334, Generator Loss: 0.2342\n",
            "Epoch: 40, Discriminator Loss: 0.0378, Generator Loss: 0.2199\n",
            "Epoch: 41, Discriminator Loss: 0.0404, Generator Loss: 0.2215\n",
            "Epoch: 42, Discriminator Loss: 0.0381, Generator Loss: 0.2261\n",
            "Epoch: 43, Discriminator Loss: 0.0522, Generator Loss: 0.1802\n",
            "Epoch: 44, Discriminator Loss: 0.0340, Generator Loss: 0.1981\n",
            "Epoch: 45, Discriminator Loss: 0.0411, Generator Loss: 0.1901\n",
            "Epoch: 46, Discriminator Loss: 0.0354, Generator Loss: 0.2043\n",
            "Epoch: 47, Discriminator Loss: 0.0494, Generator Loss: 0.1800\n",
            "Epoch: 48, Discriminator Loss: 0.0364, Generator Loss: 0.2150\n",
            "Epoch: 49, Discriminator Loss: 0.0434, Generator Loss: 0.1961\n",
            "Epoch: 50, Discriminator Loss: 0.0428, Generator Loss: 0.1975\n",
            "Epoch: 51, Discriminator Loss: 0.0467, Generator Loss: 0.2005\n",
            "Epoch: 52, Discriminator Loss: 0.0487, Generator Loss: 0.1976\n",
            "Epoch: 53, Discriminator Loss: 0.0477, Generator Loss: 0.1583\n",
            "Epoch: 54, Discriminator Loss: 0.0417, Generator Loss: 0.1728\n",
            "Epoch: 55, Discriminator Loss: 0.0582, Generator Loss: 0.1442\n",
            "Epoch: 56, Discriminator Loss: 0.0634, Generator Loss: 0.1591\n",
            "Epoch: 57, Discriminator Loss: 0.0575, Generator Loss: 0.1516\n",
            "Epoch: 58, Discriminator Loss: 0.0676, Generator Loss: 0.1339\n",
            "Epoch: 59, Discriminator Loss: 0.0559, Generator Loss: 0.1383\n",
            "Epoch: 60, Discriminator Loss: 0.0611, Generator Loss: 0.1235\n",
            "Epoch: 61, Discriminator Loss: 0.0657, Generator Loss: 0.1313\n",
            "Epoch: 62, Discriminator Loss: 0.0737, Generator Loss: 0.1301\n",
            "Epoch: 63, Discriminator Loss: 0.0892, Generator Loss: 0.1186\n",
            "Epoch: 64, Discriminator Loss: 0.0861, Generator Loss: 0.0926\n",
            "Epoch: 65, Discriminator Loss: 0.0805, Generator Loss: 0.0954\n",
            "Epoch: 66, Discriminator Loss: 0.0863, Generator Loss: 0.0837\n",
            "Epoch: 67, Discriminator Loss: 0.0886, Generator Loss: 0.0924\n",
            "Epoch: 68, Discriminator Loss: 0.0898, Generator Loss: 0.0934\n",
            "Epoch: 69, Discriminator Loss: 0.0924, Generator Loss: 0.0829\n",
            "Epoch: 70, Discriminator Loss: 0.0945, Generator Loss: 0.0832\n",
            "Epoch: 71, Discriminator Loss: 0.0884, Generator Loss: 0.0839\n",
            "Epoch: 72, Discriminator Loss: 0.1010, Generator Loss: 0.0820\n",
            "Epoch: 73, Discriminator Loss: 0.1023, Generator Loss: 0.0759\n",
            "Epoch: 74, Discriminator Loss: 0.0959, Generator Loss: 0.0847\n",
            "Epoch: 75, Discriminator Loss: 0.1082, Generator Loss: 0.0700\n",
            "Epoch: 76, Discriminator Loss: 0.0988, Generator Loss: 0.0772\n",
            "Epoch: 77, Discriminator Loss: 0.0967, Generator Loss: 0.0774\n",
            "Epoch: 78, Discriminator Loss: 0.0956, Generator Loss: 0.0795\n",
            "Epoch: 79, Discriminator Loss: 0.0959, Generator Loss: 0.0779\n",
            "Epoch: 80, Discriminator Loss: 0.1026, Generator Loss: 0.0783\n",
            "Epoch: 81, Discriminator Loss: 0.1025, Generator Loss: 0.0758\n",
            "Epoch: 82, Discriminator Loss: 0.0930, Generator Loss: 0.0815\n",
            "Epoch: 83, Discriminator Loss: 0.0944, Generator Loss: 0.0823\n",
            "Epoch: 84, Discriminator Loss: 0.0900, Generator Loss: 0.0862\n",
            "Epoch: 85, Discriminator Loss: 0.0925, Generator Loss: 0.0860\n",
            "Epoch: 86, Discriminator Loss: 0.0960, Generator Loss: 0.0769\n",
            "Epoch: 87, Discriminator Loss: 0.0992, Generator Loss: 0.0819\n",
            "Epoch: 88, Discriminator Loss: 0.1049, Generator Loss: 0.0698\n",
            "Epoch: 89, Discriminator Loss: 0.0941, Generator Loss: 0.0785\n",
            "Epoch: 90, Discriminator Loss: 0.0913, Generator Loss: 0.0817\n",
            "Epoch: 91, Discriminator Loss: 0.1027, Generator Loss: 0.0719\n",
            "Epoch: 92, Discriminator Loss: 0.0966, Generator Loss: 0.0747\n",
            "Epoch: 93, Discriminator Loss: 0.0979, Generator Loss: 0.0769\n",
            "Epoch: 94, Discriminator Loss: 0.0957, Generator Loss: 0.0846\n",
            "Epoch: 95, Discriminator Loss: 0.0910, Generator Loss: 0.0879\n",
            "Epoch: 96, Discriminator Loss: 0.0902, Generator Loss: 0.0866\n",
            "Epoch: 97, Discriminator Loss: 0.0967, Generator Loss: 0.0791\n",
            "Epoch: 98, Discriminator Loss: 0.0934, Generator Loss: 0.0799\n",
            "Epoch: 99, Discriminator Loss: 0.0939, Generator Loss: 0.0874\n",
            "Epoch: 100, Discriminator Loss: 0.0978, Generator Loss: 0.0760\n"
          ]
        }
      ]
    },
    {
      "cell_type": "code",
      "source": [
        "plt.plot(range(n_epochs),dloss,label=\"discriminator loss\")\n",
        "plt.plot(range(n_epochs),gloss,label=\"generator loss\")\n",
        "plt.legend()\n",
        "plt.xlabel(\"epochs\")\n",
        "plt.ylabel(\"loss\")\n",
        "plt.show()"
      ],
      "metadata": {
        "id": "ehm6js6SFcqz",
        "colab": {
          "base_uri": "https://localhost:8080/",
          "height": 449
        },
        "outputId": "b3a73f2a-f3ee-4c5f-ca25-8cf122a340d5"
      },
      "execution_count": null,
      "outputs": [
        {
          "output_type": "display_data",
          "data": {
            "text/plain": [
              "<Figure size 640x480 with 1 Axes>"
            ],
            "image/png": "[encoded data removed]"
          },
          "metadata": {}
        }
      ]
    },
    {
      "cell_type": "markdown",
      "source": [
        "## save the GAN model"
      ],
      "metadata": {
        "id": "U25dXFkHtp5j"
      }
    },
    {
      "cell_type": "code",
      "source": [
        "vanilla_generator.save('vanilla_generator_'+str(random_state)+'.h5')"
      ],
      "metadata": {
        "id": "LDR1BXNpFiYS",
        "colab": {
          "base_uri": "https://localhost:8080/"
        },
        "outputId": "2e6014ec-ca73-4eaf-eca4-cc7f6e3c8eef"
      },
      "execution_count": null,
      "outputs": [
        {
          "output_type": "stream",
          "name": "stderr",
          "text": [
            "WARNING:tensorflow:Compiled the loaded model, but the compiled metrics have yet to be built. `model.compile_metrics` will be empty until you train or evaluate the model.\n"
          ]
        }
      ]
    },
    {
      "cell_type": "markdown",
      "source": [
        "## generate Synthetic data"
      ],
      "metadata": {
        "id": "Wdvd9G3-xGpm"
      }
    },
    {
      "cell_type": "code",
      "source": [
        "# generate a batch of noisy input\n",
        "def sythetic_data(generator,num_dt,random_normal_dimensinos):\n",
        "  noise=tf.random.normal(shape=(num_dt,random_normal_dimensinos))\n",
        "  sythetic_data=generator(noise)\n",
        "  return sythetic_data\n",
        "\n",
        "vanilla_gan_data=sythetic_data(vanilla_generator,generator_num,random_normal_dimensinos)\n",
        "vgan_dt=pd.DataFrame(vanilla_gan_data.numpy(),columns=var_list)\n",
        "vgan_dt[\"Class\"]=np.ones(generator_num)\n",
        "\n",
        "vgan_train=pd.concat([original_data,vgan_dt],axis=0)\n",
        "#vgan_train.to_csv(\"vgan_sampling_\"+str(sampling_strategy)+\".csv\")"
      ],
      "metadata": {
        "id": "XyMBDsJexTAW",
        "colab": {
          "base_uri": "https://localhost:8080/",
          "height": 106
        },
        "outputId": "cee37234-8f8b-44b5-943c-6f38101a1fa3"
      },
      "execution_count": null,
      "outputs": [
        {
          "output_type": "error",
          "ename": "SyntaxError",
          "evalue": "incomplete input (<ipython-input-94-4ac86c797f5b>, line 2)",
          "traceback": [
            "\u001b[0;36m  File \u001b[0;32m\"<ipython-input-94-4ac86c797f5b>\"\u001b[0;36m, line \u001b[0;32m2\u001b[0m\n\u001b[0;31m    '''def sythetic_data(generator,num_dt,random_normal_dimensinos):\u001b[0m\n\u001b[0m    ^\u001b[0m\n\u001b[0;31mSyntaxError\u001b[0m\u001b[0;31m:\u001b[0m incomplete input\n"
          ]
        }
      ]
    }
  ],
  "metadata": {
    "colab": {
      "provenance": [],
      "collapsed_sections": [
        "0cEaZisacJjj",
        "h6rRkGdQzQrh"
      ]
    },
    "kernelspec": {
      "display_name": "Python 3 (ipykernel)",
      "language": "python",
      "name": "python3"
    },
    "language_info": {
      "codemirror_mode": {
        "name": "ipython",
        "version": 3
      },
      "file_extension": ".py",
      "mimetype": "text/x-python",
      "name": "python",
      "nbconvert_exporter": "python",
      "pygments_lexer": "ipython3",
      "version": "3.10.9"
    }
  },
  "nbformat": 4,
  "nbformat_minor": 0
}