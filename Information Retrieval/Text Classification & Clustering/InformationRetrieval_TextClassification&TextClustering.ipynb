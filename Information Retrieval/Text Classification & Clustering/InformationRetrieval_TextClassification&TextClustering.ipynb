{
  "cells": [
    {
      "cell_type": "markdown",
      "source": [
        "Author: Qing Zhao\n",
        "Student ID: 230161210"
      ],
      "metadata": {
        "id": "Xrhxkd98hQMi"
      }
    },
    {
      "cell_type": "code",
      "source": [],
      "metadata": {
        "id": "40jkIXPgyBTY"
      },
      "execution_count": null,
      "outputs": []
    },
    {
      "cell_type": "markdown",
      "source": [
        "# project summary:\n",
        "1.  **Data Description and Data Source:** The dataset comes from Kaggle (https://www.kaggle.com/datasets/tanishqdublish/text-classification-documentation), containing 2225 text data and five categories of documents (politics, sport, tech, entertainment, and business).\n",
        "2.  **Problem Formula:** Traditional machine learning methods and neural network models are used to solve text classification and text clustering tasks\n",
        "3.  **Applied Techniques:** LSTM, Multinomial Naive Bayes, K-Means, tokenizer, tfidfvector, countvector, embedding, PCA, various model evaluation metrics, and data visualization methods.\n",
        "4.  **Project Results:** In the text classification task, both the LSTM model and the Naive Bayes model perform well in the test dataset, achieving accuracy of 0.94 and 0.93, respectively, indicating good generalization ability. As for the clustering task, I use the K-means method for clustering, the Silhouette Coefficient and Calinski_Harabasz are 0.067 and 292.83, respectively. After using principal component analysis to reduce the dimension to two dimensions for data visualization, we can see that the clustering is effective."
      ],
      "metadata": {
        "id": "zng115w_hM58"
      }
    },
    {
      "cell_type": "markdown",
      "metadata": {
        "id": "pOdEtgiXa-VC"
      },
      "source": [
        "# Import dataset"
      ]
    },
    {
      "cell_type": "code",
      "execution_count": null,
      "metadata": {
        "id": "_ElG7F2ZFi-Y"
      },
      "outputs": [],
      "source": [
        "import numpy as np\n",
        "import pandas as pd\n",
        "import matplotlib.pyplot as plt\n",
        "import seaborn as sns\n",
        "import re"
      ]
    },
    {
      "cell_type": "markdown",
      "metadata": {
        "id": "1DBWS7puFzxE"
      },
      "source": [
        "# Data Exploration"
      ]
    },
    {
      "cell_type": "code",
      "execution_count": null,
      "metadata": {
        "id": "CwFl3pAOFdXO"
      },
      "outputs": [],
      "source": [
        "df=pd.read_csv(\"/content/df_file.csv\")"
      ]
    },
    {
      "cell_type": "code",
      "execution_count": null,
      "metadata": {
        "colab": {
          "base_uri": "https://localhost:8080/",
          "height": 206
        },
        "id": "l4rjMQQXGpVV",
        "outputId": "a7062832-13c1-4df0-9e63-8ccec4722904"
      },
      "outputs": [
        {
          "output_type": "execute_result",
          "data": {
            "text/plain": [
              "                                                Text  Label\n",
              "0  Budget to set scene for election\\n \\n Gordon B...      0\n",
              "1  Army chiefs in regiments decision\\n \\n Militar...      0\n",
              "2  Howard denies split over ID cards\\n \\n Michael...      0\n",
              "3  Observers to monitor UK election\\n \\n Minister...      0\n",
              "4  Kilroy names election seat target\\n \\n Ex-chat...      0"
            ],
            "text/html": [
              "\n",
              "  <div id=\"df-02c9b15f-2501-4f52-af6f-27b08dcaef5a\" class=\"colab-df-container\">\n",
              "    <div>\n",
              "<style scoped>\n",
              "    .dataframe tbody tr th:only-of-type {\n",
              "        vertical-align: middle;\n",
              "    }\n",
              "\n",
              "    .dataframe tbody tr th {\n",
              "        vertical-align: top;\n",
              "    }\n",
              "\n",
              "    .dataframe thead th {\n",
              "        text-align: right;\n",
              "    }\n",
              "</style>\n",
              "<table border=\"1\" class=\"dataframe\">\n",
              "  <thead>\n",
              "    <tr style=\"text-align: right;\">\n",
              "      <th></th>\n",
              "      <th>Text</th>\n",
              "      <th>Label</th>\n",
              "    </tr>\n",
              "  </thead>\n",
              "  <tbody>\n",
              "    <tr>\n",
              "      <th>0</th>\n",
              "      <td>Budget to set scene for election\\n \\n Gordon B...</td>\n",
              "      <td>0</td>\n",
              "    </tr>\n",
              "    <tr>\n",
              "      <th>1</th>\n",
              "      <td>Army chiefs in regiments decision\\n \\n Militar...</td>\n",
              "      <td>0</td>\n",
              "    </tr>\n",
              "    <tr>\n",
              "      <th>2</th>\n",
              "      <td>Howard denies split over ID cards\\n \\n Michael...</td>\n",
              "      <td>0</td>\n",
              "    </tr>\n",
              "    <tr>\n",
              "      <th>3</th>\n",
              "      <td>Observers to monitor UK election\\n \\n Minister...</td>\n",
              "      <td>0</td>\n",
              "    </tr>\n",
              "    <tr>\n",
              "      <th>4</th>\n",
              "      <td>Kilroy names election seat target\\n \\n Ex-chat...</td>\n",
              "      <td>0</td>\n",
              "    </tr>\n",
              "  </tbody>\n",
              "</table>\n",
              "</div>\n",
              "    <div class=\"colab-df-buttons\">\n",
              "\n",
              "  <div class=\"colab-df-container\">\n",
              "    <button class=\"colab-df-convert\" onclick=\"convertToInteractive('df-02c9b15f-2501-4f52-af6f-27b08dcaef5a')\"\n",
              "            title=\"Convert this dataframe to an interactive table.\"\n",
              "            style=\"display:none;\">\n",
              "\n",
              "  <svg xmlns=\"http://www.w3.org/2000/svg\" height=\"24px\" viewBox=\"0 -960 960 960\">\n",
              "    <path d=\"M120-120v-720h720v720H120Zm60-500h600v-160H180v160Zm220 220h160v-160H400v160Zm0 220h160v-160H400v160ZM180-400h160v-160H180v160Zm440 0h160v-160H620v160ZM180-180h160v-160H180v160Zm440 0h160v-160H620v160Z\"/>\n",
              "  </svg>\n",
              "    </button>\n",
              "\n",
              "  <style>\n",
              "    .colab-df-container {\n",
              "      display:flex;\n",
              "      gap: 12px;\n",
              "    }\n",
              "\n",
              "    .colab-df-convert {\n",
              "      background-color: #E8F0FE;\n",
              "      border: none;\n",
              "      border-radius: 50%;\n",
              "      cursor: pointer;\n",
              "      display: none;\n",
              "      fill: #1967D2;\n",
              "      height: 32px;\n",
              "      padding: 0 0 0 0;\n",
              "      width: 32px;\n",
              "    }\n",
              "\n",
              "    .colab-df-convert:hover {\n",
              "      background-color: #E2EBFA;\n",
              "      box-shadow: 0px 1px 2px rgba(60, 64, 67, 0.3), 0px 1px 3px 1px rgba(60, 64, 67, 0.15);\n",
              "      fill: #174EA6;\n",
              "    }\n",
              "\n",
              "    .colab-df-buttons div {\n",
              "      margin-bottom: 4px;\n",
              "    }\n",
              "\n",
              "    [theme=dark] .colab-df-convert {\n",
              "      background-color: #3B4455;\n",
              "      fill: #D2E3FC;\n",
              "    }\n",
              "\n",
              "    [theme=dark] .colab-df-convert:hover {\n",
              "      background-color: #434B5C;\n",
              "      box-shadow: 0px 1px 3px 1px rgba(0, 0, 0, 0.15);\n",
              "      filter: drop-shadow(0px 1px 2px rgba(0, 0, 0, 0.3));\n",
              "      fill: #FFFFFF;\n",
              "    }\n",
              "  </style>\n",
              "\n",
              "    <script>\n",
              "      const buttonEl =\n",
              "        document.querySelector('#df-02c9b15f-2501-4f52-af6f-27b08dcaef5a button.colab-df-convert');\n",
              "      buttonEl.style.display =\n",
              "        google.colab.kernel.accessAllowed ? 'block' : 'none';\n",
              "\n",
              "      async function convertToInteractive(key) {\n",
              "        const element = document.querySelector('#df-02c9b15f-2501-4f52-af6f-27b08dcaef5a');\n",
              "        const dataTable =\n",
              "          await google.colab.kernel.invokeFunction('convertToInteractive',\n",
              "                                                    [key], {});\n",
              "        if (!dataTable) return;\n",
              "\n",
              "        const docLinkHtml = 'Like what you see? Visit the ' +\n",
              "          '<a target=\"_blank\" href=https://colab.research.google.com/notebooks/data_table.ipynb>data table notebook</a>'\n",
              "          + ' to learn more about interactive tables.';\n",
              "        element.innerHTML = '';\n",
              "        dataTable['output_type'] = 'display_data';\n",
              "        await google.colab.output.renderOutput(dataTable, element);\n",
              "        const docLink = document.createElement('div');\n",
              "        docLink.innerHTML = docLinkHtml;\n",
              "        element.appendChild(docLink);\n",
              "      }\n",
              "    </script>\n",
              "  </div>\n",
              "\n",
              "\n",
              "<div id=\"df-d0a2bec0-0461-4f39-995f-9c5fb7bee891\">\n",
              "  <button class=\"colab-df-quickchart\" onclick=\"quickchart('df-d0a2bec0-0461-4f39-995f-9c5fb7bee891')\"\n",
              "            title=\"Suggest charts\"\n",
              "            style=\"display:none;\">\n",
              "\n",
              "<svg xmlns=\"http://www.w3.org/2000/svg\" height=\"24px\"viewBox=\"0 0 24 24\"\n",
              "     width=\"24px\">\n",
              "    <g>\n",
              "        <path d=\"M19 3H5c-1.1 0-2 .9-2 2v14c0 1.1.9 2 2 2h14c1.1 0 2-.9 2-2V5c0-1.1-.9-2-2-2zM9 17H7v-7h2v7zm4 0h-2V7h2v10zm4 0h-2v-4h2v4z\"/>\n",
              "    </g>\n",
              "</svg>\n",
              "  </button>\n",
              "\n",
              "<style>\n",
              "  .colab-df-quickchart {\n",
              "      --bg-color: #E8F0FE;\n",
              "      --fill-color: #1967D2;\n",
              "      --hover-bg-color: #E2EBFA;\n",
              "      --hover-fill-color: #174EA6;\n",
              "      --disabled-fill-color: #AAA;\n",
              "      --disabled-bg-color: #DDD;\n",
              "  }\n",
              "\n",
              "  [theme=dark] .colab-df-quickchart {\n",
              "      --bg-color: #3B4455;\n",
              "      --fill-color: #D2E3FC;\n",
              "      --hover-bg-color: #434B5C;\n",
              "      --hover-fill-color: #FFFFFF;\n",
              "      --disabled-bg-color: #3B4455;\n",
              "      --disabled-fill-color: #666;\n",
              "  }\n",
              "\n",
              "  .colab-df-quickchart {\n",
              "    background-color: var(--bg-color);\n",
              "    border: none;\n",
              "    border-radius: 50%;\n",
              "    cursor: pointer;\n",
              "    display: none;\n",
              "    fill: var(--fill-color);\n",
              "    height: 32px;\n",
              "    padding: 0;\n",
              "    width: 32px;\n",
              "  }\n",
              "\n",
              "  .colab-df-quickchart:hover {\n",
              "    background-color: var(--hover-bg-color);\n",
              "    box-shadow: 0 1px 2px rgba(60, 64, 67, 0.3), 0 1px 3px 1px rgba(60, 64, 67, 0.15);\n",
              "    fill: var(--button-hover-fill-color);\n",
              "  }\n",
              "\n",
              "  .colab-df-quickchart-complete:disabled,\n",
              "  .colab-df-quickchart-complete:disabled:hover {\n",
              "    background-color: var(--disabled-bg-color);\n",
              "    fill: var(--disabled-fill-color);\n",
              "    box-shadow: none;\n",
              "  }\n",
              "\n",
              "  .colab-df-spinner {\n",
              "    border: 2px solid var(--fill-color);\n",
              "    border-color: transparent;\n",
              "    border-bottom-color: var(--fill-color);\n",
              "    animation:\n",
              "      spin 1s steps(1) infinite;\n",
              "  }\n",
              "\n",
              "  @keyframes spin {\n",
              "    0% {\n",
              "      border-color: transparent;\n",
              "      border-bottom-color: var(--fill-color);\n",
              "      border-left-color: var(--fill-color);\n",
              "    }\n",
              "    20% {\n",
              "      border-color: transparent;\n",
              "      border-left-color: var(--fill-color);\n",
              "      border-top-color: var(--fill-color);\n",
              "    }\n",
              "    30% {\n",
              "      border-color: transparent;\n",
              "      border-left-color: var(--fill-color);\n",
              "      border-top-color: var(--fill-color);\n",
              "      border-right-color: var(--fill-color);\n",
              "    }\n",
              "    40% {\n",
              "      border-color: transparent;\n",
              "      border-right-color: var(--fill-color);\n",
              "      border-top-color: var(--fill-color);\n",
              "    }\n",
              "    60% {\n",
              "      border-color: transparent;\n",
              "      border-right-color: var(--fill-color);\n",
              "    }\n",
              "    80% {\n",
              "      border-color: transparent;\n",
              "      border-right-color: var(--fill-color);\n",
              "      border-bottom-color: var(--fill-color);\n",
              "    }\n",
              "    90% {\n",
              "      border-color: transparent;\n",
              "      border-bottom-color: var(--fill-color);\n",
              "    }\n",
              "  }\n",
              "</style>\n",
              "\n",
              "  <script>\n",
              "    async function quickchart(key) {\n",
              "      const quickchartButtonEl =\n",
              "        document.querySelector('#' + key + ' button');\n",
              "      quickchartButtonEl.disabled = true;  // To prevent multiple clicks.\n",
              "      quickchartButtonEl.classList.add('colab-df-spinner');\n",
              "      try {\n",
              "        const charts = await google.colab.kernel.invokeFunction(\n",
              "            'suggestCharts', [key], {});\n",
              "      } catch (error) {\n",
              "        console.error('Error during call to suggestCharts:', error);\n",
              "      }\n",
              "      quickchartButtonEl.classList.remove('colab-df-spinner');\n",
              "      quickchartButtonEl.classList.add('colab-df-quickchart-complete');\n",
              "    }\n",
              "    (() => {\n",
              "      let quickchartButtonEl =\n",
              "        document.querySelector('#df-d0a2bec0-0461-4f39-995f-9c5fb7bee891 button');\n",
              "      quickchartButtonEl.style.display =\n",
              "        google.colab.kernel.accessAllowed ? 'block' : 'none';\n",
              "    })();\n",
              "  </script>\n",
              "</div>\n",
              "\n",
              "    </div>\n",
              "  </div>\n"
            ],
            "application/vnd.google.colaboratory.intrinsic+json": {
              "type": "dataframe",
              "variable_name": "df",
              "summary": "{\n  \"name\": \"df\",\n  \"rows\": 2225,\n  \"fields\": [\n    {\n      \"column\": \"Text\",\n      \"properties\": {\n        \"dtype\": \"string\",\n        \"num_unique_values\": 2127,\n        \"samples\": [\n          \"Blair congratulates Bush on win\\n \\n Tony Blair has said he looks forward to continuing his strong relationship with George Bush and working with him during his second term as president.\\n \\n Mr Bush's re-election came at a crucial time for a world that was \\\"fractured, divided and uncertain\\\", Mr Blair said. It had to be brought together, he added, saying action was needed on poverty, the Middle East and the conditions on which terrorists prey. Mr Blair said states had to work with the US to fight global terrorism.\\n \\n But there was a need to recognise it would not be defeated by \\\"military might alone but also by demonstrating the strength of our common values\\\" he added. Solving the conflict in the Middle East was the world's single most \\\"pressing political challenge\\\" of the present day, Mr Blair warned. The prime minister also urged Europe and the US to \\\"build anew their alliance\\\".\\n \\n \\\"All of us in positions of leadership, not just President Bush, have a responsibility to rise to this challenge. It is urgent that we do so.\\\" Mr Blair also paid tribute to Democrat John Kerry's campaign, saying he had helped make the presidential election \\\"a true celebration of American democracy\\\". The election of the US president was significant for the world but particularly so for Britain because of its special relationship, he added. Earlier Tory leader Michael Howard sent Mr Bush his \\\"warmest congratulations\\\", saying: \\\"We look to the president to be a unifying force for those all over the world who share our determination to defend freedom.\\\" Liberal Democrat leader Charles Kennedy welcomed the fact there had been a quick conclusion to the election, unlike in 2000.\\n \\n Mr Bush's first task was to \\\"rebuild a sense of domestic purpose\\\" within the US, he said. Mr Kennedy said: \\\"Internationally, it is to be hoped that a second term will see a more sensitive approach to relations with long-standing allies, not least for the global efforts to combat terrorism.\\\" Lib Dem foreign affairs spokesman Menzies Campbell said a win by Mr Kerry would have given Mr Blair the chance of a fresh start, adding it was almost as if there was an \\\"umbilical cord\\\" between Mr Bush and the UK premier.\\n \\n \\\"Europeans must hope that his administration will be much more multilateral in character, and that he will act swiftly to rebuild the Atlantic partnership which is so vital to security. \\\"Iraq will remain an issue of potential division for some time to come.\\\" Even before the result became clear, Mr Blair was being urged to push for action on climate change at his first meeting with whichever candidate won.\\n \\n Liberal Democrat environment spokesman Norman Baker underlined the issue of global warming during a Commons debate on Anglo-American relations on Wednesday. Environment Secretary Margaret Beckett has said the US will act on global warming despite George Bush's refusal to sign up to the Kyoto protocol on carbon emissions. Public opinion would force change, she told BBC news. But Myron Ebell, an adviser on climate change to President Bush, has said there would be no change in the US stance and rejected the threat of climate change. He claimed the US was the only country with independent scientists.\\n\",\n          \"China Aviation seeks rescue deal\\n \\n Scandal-hit jet fuel supplier China Aviation Oil has offered to repay its creditors $220m (\\u00c2\\u00a3117m) of the $550m it lost on trading in oil futures.\\n \\n The firm said it hoped to pay $100m now and another $120m over eight years. With assets of $200m and liabilities totalling $648m, it needs creditors' backing for the offer to avoid going into bankruptcy. The trading scandal is the biggest to hit Singapore since the $1.2bn collapse of Barings Bank in 1995. Chen Jiulin, chief executive of China Aviation Oil (CAO), was arrested by at Changi Airport by Singapore police on 8 December. He was returning from China, where he had headed when CAO announced its trading debacle in late-November. The firm had been betting heavily on a fall in the price of oil during October, but prices rose sharply instead.\\n \\n Among the creditors whose backing CAO needs for its restructuring plan are banking giants such as Barclay's Capital and Sumitomo Mitsui, as well as South Korean firm SK Energy. Of the immediate payment, the firm - China's biggest jet fuel supplier - said it would be paying $30m out of its own resources. The rest would come from its parent company, China Aviation Oil Holding Company in Beijing. The holding company, owned by the Chinese government, holds most of CAO's Singapore-listed shares. It cut its holding from 75% to 60% on 20 October.\\n\",\n          \"Yukos heading back to US courts\\n \\n Russian oil and gas company Yukos is due in a US court on Thursday as it continues to fight for its survival.\\n \\n The firm is in the process of being broken up by Russian authorities in order to pay a $27bn (\\u00c2\\u00a314bn) tax bill. Yukos filed for bankruptcy in the US, hoping to use international business law to halt the forced sale of its key oil production unit, Yuganskneftegas. The unit was however sold for $9.4bn to state oil firm Rosneft but only after the state auction had been disrupted.\\n \\n Yukos lawyers now say the auction violated US bankruptcy law. The company and its main shareholders have vowed to go after any company that buys its assets, using all and every legal means. The company wants damages of $20bn, claiming Yuganskneftegas was sold at less than market value. Judge Letitia Clark will hear different motions, including one from Deutsche Bank to throw out the Chapter 11 bankruptcy filing. The German lender is one of six banks that were barred from providing financing to Gazprom, the Russian state-owned company that was expected to win the auction for Yuganskneftegas. Deutsche Bank, which is also an advisor to Gazprom, has called on the US court to overturn its decision to provide Yukos with bankruptcy protection.\\n \\n Lifting the injunction would remove the uncertainty that surrounds the court case and clarify Deutsche Bank's business position, analysts said.\\n \\n Analysts are not optimistic about Yukos' chances in court. Russian President Vladimir Putin and the country's legal authorities have repeatedly said that the US has no jurisdiction over Yukos and its legal wranglings. On top of that, the firm only has limited assets in the US. Yukos has won small victories, however, and is bullish about its chances in court. \\\"Do we have an ability to influence what happens? We think we do,\\\" said Mike Lake, a Yukos spokesman. \\\"The litigation risks are real,\\\" said Credit Suisse First Boston analyst Vadim Mitroshin The dispute with the Russian authorities is partly driven by President Putin's clampdown on the political ambitions of ex-Yukos boss Mikhail Khodorkovsky. Mr Khodorkovsky is in jail on charges of fraud and tax evasion.\\n\"\n        ],\n        \"semantic_type\": \"\",\n        \"description\": \"\"\n      }\n    },\n    {\n      \"column\": \"Label\",\n      \"properties\": {\n        \"dtype\": \"number\",\n        \"std\": 1,\n        \"min\": 0,\n        \"max\": 4,\n        \"num_unique_values\": 5,\n        \"samples\": [\n          1,\n          4,\n          2\n        ],\n        \"semantic_type\": \"\",\n        \"description\": \"\"\n      }\n    }\n  ]\n}"
            }
          },
          "metadata": {},
          "execution_count": 48
        }
      ],
      "source": [
        "df.head()"
      ]
    },
    {
      "cell_type": "code",
      "execution_count": null,
      "metadata": {
        "colab": {
          "base_uri": "https://localhost:8080/"
        },
        "id": "uZRYLGhEGrI8",
        "outputId": "70946e65-c727-4d96-849e-3aab482b61ee"
      },
      "outputs": [
        {
          "output_type": "execute_result",
          "data": {
            "text/plain": [
              "(2225, 2)"
            ]
          },
          "metadata": {},
          "execution_count": 49
        }
      ],
      "source": [
        "df.shape"
      ]
    },
    {
      "cell_type": "code",
      "execution_count": null,
      "metadata": {
        "colab": {
          "base_uri": "https://localhost:8080/"
        },
        "id": "l_L3boEUapPd",
        "outputId": "deffa622-9df5-4374-84c3-434240b2cade"
      },
      "outputs": [
        {
          "output_type": "stream",
          "name": "stdout",
          "text": [
            "Label\n",
            "1    0.229663\n",
            "4    0.229213\n",
            "0    0.187416\n",
            "2    0.180225\n",
            "3    0.173483\n",
            "Name: proportion, dtype: float64\n"
          ]
        }
      ],
      "source": [
        "# check how the distribution of classes\n",
        "counts=df['Label'].value_counts(True)\n",
        "print(counts)"
      ]
    },
    {
      "cell_type": "code",
      "execution_count": null,
      "metadata": {
        "id": "YGXqDAiFBwuX"
      },
      "outputs": [],
      "source": [
        "classes= {\n",
        "    0:'Politics',\n",
        "    1:'Sport',\n",
        "    2:'Technology',\n",
        "    3:'Entertainment',\n",
        "    4:'Business'\n",
        "}"
      ]
    },
    {
      "cell_type": "code",
      "execution_count": null,
      "metadata": {
        "colab": {
          "base_uri": "https://localhost:8080/",
          "height": 410
        },
        "id": "yqG2tpv25kn2",
        "outputId": "dc0cb654-57ed-4b66-e44a-7847bd73510a"
      },
      "outputs": [
        {
          "output_type": "display_data",
          "data": {
            "text/plain": [
              "<Figure size 600x400 with 1 Axes>"
            ],
            "image/png": "[encoded data removed]"
          },
          "metadata": {}
        }
      ],
      "source": [
        "# exploring the distribution of news categories\n",
        "\n",
        "from matplotlib import pyplot as plt\n",
        "x=[classes[i] for i in counts.index]\n",
        "y=counts.values\n",
        "plt.figure(figsize=(6,4))\n",
        "plt.bar(x,y)\n",
        "plt.xlabel(\"News Categories\")\n",
        "plt.ylabel(\"Count\")\n",
        "plt.title(\"Distribution of classes\")\n",
        "plt.show()"
      ]
    },
    {
      "cell_type": "markdown",
      "metadata": {
        "id": "uuPmlf3cHqOH"
      },
      "source": [
        "# Data Preprocessing"
      ]
    },
    {
      "cell_type": "code",
      "execution_count": null,
      "metadata": {
        "id": "eida1GrMG5Vb",
        "collapsed": true
      },
      "outputs": [],
      "source": [
        "# replace \"\\n\" with \" \" in the text\n",
        "df['Text'] = df['Text'].apply(lambda x:x.replace('\\n',''))"
      ]
    },
    {
      "cell_type": "code",
      "execution_count": null,
      "metadata": {
        "id": "3ADGwa-yZNzv"
      },
      "outputs": [],
      "source": [
        "def preprocessing_text(text):\n",
        "    text= text.lower()\n",
        "    text = text.split()\n",
        "    text = ' '.join(text)\n",
        "    text = re.sub(r'[0-9]+', '', text)\n",
        "    text = re.sub(r'[^\\w\\s]', '', text)\n",
        "    text= re.sub(r'\\s+', ' ', text)\n",
        "    return text"
      ]
    },
    {
      "cell_type": "code",
      "execution_count": null,
      "metadata": {
        "id": "d1RSbQo5I4lL"
      },
      "outputs": [],
      "source": [
        "df['Text'] = df['Text'].apply(lambda x:preprocessing_text(x))"
      ]
    },
    {
      "cell_type": "markdown",
      "metadata": {
        "id": "FYNT4WcGKxKH"
      },
      "source": [
        "# 1. Text Classification Task"
      ]
    },
    {
      "cell_type": "markdown",
      "metadata": {
        "id": "P0tFhU4IWOmF"
      },
      "source": [
        "### split training and text dataset"
      ]
    },
    {
      "cell_type": "code",
      "execution_count": null,
      "metadata": {
        "id": "ry5AlYucK2Au"
      },
      "outputs": [],
      "source": [
        "from sklearn.model_selection import train_test_split\n",
        "\n",
        "X=df['Text']\n",
        "y=df['Label']\n",
        "\n",
        "X_train, X_test, y_train, y_test = train_test_split(X,y,test_size=0.2,random_state=42)"
      ]
    },
    {
      "cell_type": "code",
      "execution_count": null,
      "metadata": {
        "id": "mrbZs7bpLqeD"
      },
      "outputs": [],
      "source": [
        "text_lengths = X_train.apply(lambda x: len(x.split()))"
      ]
    },
    {
      "cell_type": "code",
      "execution_count": null,
      "metadata": {
        "colab": {
          "base_uri": "https://localhost:8080/",
          "height": 335
        },
        "id": "4cw9SUtefGaN",
        "outputId": "d4a63461-81e5-45ed-e5dd-283ed40ef190"
      },
      "outputs": [
        {
          "output_type": "execute_result",
          "data": {
            "text/plain": [
              "count    1780.000000\n",
              "mean      378.166292\n",
              "std       224.067723\n",
              "min        88.000000\n",
              "25%       240.000000\n",
              "50%       330.000000\n",
              "75%       465.250000\n",
              "max      3400.000000\n",
              "Name: Text, dtype: float64"
            ],
            "text/html": [
              "<table border=\"1\" class=\"dataframe\">\n",
              "  <thead>\n",
              "    <tr style=\"text-align: right;\">\n",
              "      <th></th>\n",
              "      <th>Text</th>\n",
              "    </tr>\n",
              "  </thead>\n",
              "  <tbody>\n",
              "    <tr>\n",
              "      <th>count</th>\n",
              "      <td>1780.000000</td>\n",
              "    </tr>\n",
              "    <tr>\n",
              "      <th>mean</th>\n",
              "      <td>378.166292</td>\n",
              "    </tr>\n",
              "    <tr>\n",
              "      <th>std</th>\n",
              "      <td>224.067723</td>\n",
              "    </tr>\n",
              "    <tr>\n",
              "      <th>min</th>\n",
              "      <td>88.000000</td>\n",
              "    </tr>\n",
              "    <tr>\n",
              "      <th>25%</th>\n",
              "      <td>240.000000</td>\n",
              "    </tr>\n",
              "    <tr>\n",
              "      <th>50%</th>\n",
              "      <td>330.000000</td>\n",
              "    </tr>\n",
              "    <tr>\n",
              "      <th>75%</th>\n",
              "      <td>465.250000</td>\n",
              "    </tr>\n",
              "    <tr>\n",
              "      <th>max</th>\n",
              "      <td>3400.000000</td>\n",
              "    </tr>\n",
              "  </tbody>\n",
              "</table><br><label><b>dtype:</b> float64</label>"
            ]
          },
          "metadata": {},
          "execution_count": 60
        }
      ],
      "source": [
        "# check the lens of texts\n",
        "df=pd.Series(text_lengths)\n",
        "df.describe()"
      ]
    },
    {
      "cell_type": "markdown",
      "metadata": {
        "id": "lpYON3JMOC_t"
      },
      "source": [
        "## 1.1 method_LSTM"
      ]
    },
    {
      "cell_type": "markdown",
      "metadata": {
        "id": "gcnxbW1G6SH3"
      },
      "source": [
        "### define global  variate"
      ]
    },
    {
      "cell_type": "code",
      "execution_count": null,
      "metadata": {
        "id": "z4hU1SM_6RiW"
      },
      "outputs": [],
      "source": [
        "class Global_Var:\n",
        "  max_length=300\n",
        "  embedding_dim=16"
      ]
    },
    {
      "cell_type": "markdown",
      "metadata": {
        "id": "RGrWi47gcLGh"
      },
      "source": [
        "### tokenize the training and text dateset"
      ]
    },
    {
      "cell_type": "code",
      "execution_count": null,
      "metadata": {
        "id": "dN_zixTdNAZf"
      },
      "outputs": [],
      "source": [
        "X_train_copy=X_train.copy()"
      ]
    },
    {
      "cell_type": "code",
      "execution_count": null,
      "metadata": {
        "id": "YQeIMNJWa9Ju"
      },
      "outputs": [],
      "source": [
        "# tokenizer the texts\n",
        "\n",
        "from tensorflow.keras.preprocessing.text import Tokenizer\n",
        "from tensorflow.keras.preprocessing.sequence import pad_sequences\n",
        "\n",
        "max_length=300\n",
        "\n",
        "tokenizer_texts=Tokenizer(oov_token=\"<OOV>\")\n",
        "tokenizer_texts.fit_on_texts(X_train)\n",
        "train_texts=tokenizer_texts.texts_to_sequences(X_train)\n",
        "X_train_tokens=pad_sequences(train_texts,padding=\"post\",maxlen=Global_Var.max_length,truncating=\"post\")"
      ]
    },
    {
      "cell_type": "code",
      "execution_count": null,
      "metadata": {
        "colab": {
          "base_uri": "https://localhost:8080/"
        },
        "id": "zHv9LCUNdcAe",
        "outputId": "10ba5f91-c8c3-4f0b-9cc2-128e667c846b"
      },
      "outputs": [
        {
          "output_type": "stream",
          "name": "stdout",
          "text": [
            "numbers of words in word_index:28486\n"
          ]
        }
      ],
      "source": [
        "word_index=tokenizer_texts.word_index\n",
        "print(f\"numbers of words in word_index:{len(word_index)}\")"
      ]
    },
    {
      "cell_type": "code",
      "execution_count": null,
      "metadata": {
        "colab": {
          "base_uri": "https://localhost:8080/"
        },
        "collapsed": true,
        "id": "8qlUN09ZhzRd",
        "outputId": "25c4dc00-6f29-4672-e659-b3307fafac84"
      },
      "outputs": [
        {
          "output_type": "stream",
          "name": "stdout",
          "text": [
            "the original text:budget to set scene for election gordon brown will seek to put the economy at the centre of labours bid for a third term in power when he delivers his ninth budget at gmt he is expected to stress the importance of continued economic stability with low unemployment and interest rates the chancellor is expected to freeze petrol duty and raise the stamp duty threshold from â but the conservatives and lib dems insist voters face higher taxes and more meanstesting under labour treasury officials have said there will not be a preelection giveaway but mr brown is thought to have about âbn to spare increase in the stamp duty threshold from â a freeze on petrol duty an extension of tax credit scheme for poorer families possible help for pensioners the stamp duty threshold rise is intended to help first time buyers a likely theme of all three of the main parties general election manifestos ten years ago buyers had a much greater chance of avoiding stamp duty with close to half a million properties in england and wales alone selling for less than â since then average uk property prices have more than doubled while the starting threshold for stamp duty has not increased tax credits as a result the number of properties incurring stamp duty has rocketed as has the governments tax take the liberal democrats unveiled their own proposals to raise the stamp duty threshold to â in february the tories are also thought likely to propose increased thresholds with shadow chancellor oliver letwin branding stamp duty a classic labour stealth tax the tories say whatever the chancellor gives away will be clawed back in higher taxes if labour is returned to power shadow treasury chief secretary george osborne said everyone who looks at the british economy at the moment says there has been a sharp deterioration in the public finances that there is a black hole he said if labour is elected there will be a very substantial tax increase in the budget after the election of the order of around âbn but mr browns former advisor ed balls now a parliamentary hopeful said an examination of tory plans for the economy showed there would be a âbn difference in investment by the end of the next parliament between the two main parties he added i dont accept there is any need for any changes to the plans we have set out to meet our spending commitments for the lib dems david laws said the chancellor will no doubt tell us today how wonderfully the economy is doing he said but a lot of that is built on an increase in personal and consumer debt over the last few years that makes the economy quite vulnerable potentially if interest rates ever do have to go up in a significant way snp leader alex salmond said his party would introduce a â grant for first time buyers reduce corporation tax and introduce a citizens pension free from means testing plaid cymrus economics spokesman adam price said he wanted help to get people on the housing ladder and an increase in the minimum wage to â an hour\n",
            "the tokenized text:[170, 5540, 1147, 4, 46, 505, 780, 283, 173, 463, 170, 4656, 68, 1147, 4, 2, 1905, 659, 505, 780, 7, 1307, 11, 581, 825, 42, 1826, 64, 2, 283, 173, 4430, 71, 9614, 21, 1445, 5965, 22, 8544, 5, 376, 356, 64, 32, 170, 255, 7, 13419, 35, 42, 58, 1240, 17816, 12, 9614, 451, 1737, 1107, 117, 2958, 17817, 4657, 137, 13, 14, 78, 134, 35, 3162, 16, 528, 3, 548, 1147, 4, 2, 505, 780, 659, 452, 56, 2, 396, 4876, 549, 1120, 9615, 82, 30, 243, 29, 693, 9, 172, 3, 921, 21, 487, 1147, 22, 2, 67, 2, 46, 922, 9, 428, 11, 543, 166, 2, 46, 537, 4, 2, 659, 9, 27, 128, 3, 15, 448, 7, 2, 48, 263, 87, 461, 7, 94, 336, 221, 2, 76, 48, 211, 2338, 24, 7021, 33, 6420, 537, 4, 82, 30, 243, 29, 693, 37, 9, 12, 3, 15, 1225, 96, 111, 7, 1470, 1592, 5, 46, 687, 2, 826, 1042, 14, 448, 7, 2, 48, 5, 936, 105, 7, 2, 1261, 922, 169, 707, 44, 1135, 11, 2, 361, 2405, 91, 18, 17818, 5, 13420, 1699, 791, 24, 3289, 3, 92, 496, 486, 2, 4431, 1121, 17, 2639, 4877, 5966, 211, 127, 2567, 9, 1446, 8, 2, 540, 2046, 4, 2, 659, 37, 23, 15, 517, 486, 251, 1323, 390, 1148, 5, 2406, 25, 92, 496, 7, 2, 48, 24, 133, 272, 3, 414, 2, 558, 5, 850, 13, 11, 505, 780, 189, 755, 438, 7, 6, 184, 4, 2786, 518, 707, 749, 18, 2959, 8, 860, 255, 641, 3, 211, 39, 190, 7706, 659, 35, 24, 2, 76, 2, 558, 14, 1182, 22, 11204, 8545, 5, 340, 1860, 17, 9616, 660, 18, 1362, 13, 2287, 2, 48, 1738, 8, 106, 453, 5, 365, 11, 126, 3290, 300, 8, 86, 211, 5, 558, 17819, 7707, 5967, 2198, 5, 17820, 5541, 42, 384, 2, 2288, 4, 4658, 13, 9, 1120, 10, 2, 505, 780, 558, 23, 921, 1147, 7, 2, 83, 22, 2, 67, 2, 46, 922, 9, 428, 11, 543, 2, 211, 9, 43, 1700, 3, 313, 34, 66, 693, 105, 50, 18, 2, 826, 537, 156, 7, 7708, 26, 2, 179, 24, 128, 1108, 1627, 8, 2, 9617, 2013, 4, 9618, 5, 3, 3428, 4013, 5, 3067, 486, 860]\n",
            "the padded text:[  170  5540  1147     4    46   505   780   283   173   463   170  4656\n",
            "    68  1147     4     2  1905   659   505   780     7  1307    11   581\n",
            "   825    42  1826    64     2   283   173  4430    71  9614    21  1445\n",
            "  5965    22  8544     5   376   356    64    32   170   255     7 13419\n",
            "    35    42    58  1240 17816    12  9614   451  1737  1107   117  2958\n",
            " 17817  4657   137    13    14    78   134    35  3162    16   528     3\n",
            "   548  1147     4     2   505   780   659   452    56     2   396  4876\n",
            "   549  1120  9615    82    30   243    29   693     9   172     3   921\n",
            "    21   487  1147    22     2    67     2    46   922     9   428    11\n",
            "   543   166     2    46   537     4     2   659     9    27   128     3\n",
            "    15   448     7     2    48   263    87   461     7    94   336   221\n",
            "     2    76    48   211  2338    24  7021    33  6420   537     4    82\n",
            "    30   243    29   693    37     9    12     3    15  1225    96   111\n",
            "     7  1470  1592     5    46   687     2   826  1042    14   448     7\n",
            "     2    48     5   936   105     7     2  1261   922   169   707    44\n",
            "  1135    11     2   361  2405    91    18 17818     5 13420  1699   791\n",
            "    24  3289     3    92   496   486     2  4431  1121    17  2639  4877\n",
            "  5966   211   127  2567     9  1446     8     2   540  2046     4     2\n",
            "   659    37    23    15   517   486   251  1323   390  1148     5  2406\n",
            "    25    92   496     7     2    48    24   133   272     3   414     2\n",
            "   558     5   850    13    11   505   780   189   755   438     7     6\n",
            "   184     4  2786   518   707   749    18  2959     8   860   255   641\n",
            "     3   211    39   190  7706   659    35    24     2    76     2   558\n",
            "    14  1182    22 11204  8545     5   340  1860    17  9616   660    18\n",
            "  1362    13  2287     2    48  1738     8   106   453     5   365    11]\n"
          ]
        }
      ],
      "source": [
        "print(f\"the original text:{X_train[0]}\")\n",
        "print(f\"the tokenized text:{train_texts[0]}\")\n",
        "print(f\"the padded text:{X_train_tokens[0]}\")"
      ]
    },
    {
      "cell_type": "code",
      "execution_count": null,
      "metadata": {
        "colab": {
          "base_uri": "https://localhost:8080/"
        },
        "id": "veVqZ24ZQxIa",
        "outputId": "d7f232a1-c3e9-44b2-e1f8-499fb1b1417a"
      },
      "outputs": [
        {
          "output_type": "stream",
          "name": "stdout",
          "text": [
            "X_train shape:(1780, 300)\n",
            "y_test shape:(1780,)\n"
          ]
        }
      ],
      "source": [
        "print(f\"X_train shape:{X_train_tokens.shape}\\ny_test shape:{y_train.shape}\")"
      ]
    },
    {
      "cell_type": "code",
      "execution_count": null,
      "metadata": {
        "id": "nst8rVqSPC2D"
      },
      "outputs": [],
      "source": [
        "test_texts=tokenizer_texts.texts_to_sequences(X_test)\n",
        "X_test_tokens=pad_sequences(test_texts,padding=\"post\",maxlen=Global_Var.max_length,truncating=\"post\")"
      ]
    },
    {
      "cell_type": "code",
      "execution_count": null,
      "metadata": {
        "colab": {
          "base_uri": "https://localhost:8080/"
        },
        "id": "a2k8mf2vyB0F",
        "outputId": "9a981246-5adf-4e04-91b6-ba9ce4ff31b9"
      },
      "outputs": [
        {
          "output_type": "stream",
          "name": "stdout",
          "text": [
            "X_test shape:(445, 300)\n",
            "y_test shape:(445,)\n"
          ]
        }
      ],
      "source": [
        "print(f\"X_test shape:{X_test_tokens.shape}\\ny_test shape:{y_test.shape}\")"
      ]
    },
    {
      "cell_type": "markdown",
      "metadata": {
        "id": "rlPBIut0nL7d"
      },
      "source": [
        "### build a LSTM model"
      ]
    },
    {
      "cell_type": "code",
      "execution_count": null,
      "metadata": {
        "colab": {
          "base_uri": "https://localhost:8080/"
        },
        "id": "UDVZPAze-Qed",
        "outputId": "0d77501c-c8cb-4e0a-fe1e-55e0a273a109"
      },
      "outputs": [
        {
          "output_type": "stream",
          "name": "stdout",
          "text": [
            "vocal_size:28487\n"
          ]
        }
      ],
      "source": [
        "import tensorflow as tf\n",
        "from tensorflow.keras.models import Sequential\n",
        "from tensorflow.keras import layers\n",
        "\n",
        "vocal_size=len(word_index)+1\n",
        "print(f\"vocal_size:{vocal_size}\")"
      ]
    },
    {
      "cell_type": "code",
      "execution_count": null,
      "metadata": {
        "id": "WmphV1Ev-hfT"
      },
      "outputs": [],
      "source": [
        "#define a callback\n",
        "class mycallback(tf.keras.callbacks.Callback):\n",
        "  def on_epoch_end(self,epoch,logs={}):\n",
        "    if logs.get(\"accuracy\")>0.99:\n",
        "      print(\"\\nreached val_accuracy higher than 0.99,cancelling the process!\")\n",
        "      self.model.stop_training=True\n",
        "\n",
        "mycallback=mycallback()"
      ]
    },
    {
      "cell_type": "code",
      "execution_count": null,
      "metadata": {
        "id": "ViWkP5AznS9q"
      },
      "outputs": [],
      "source": [
        "# define a LSTM model\n",
        "\n",
        "def LSTM_model():\n",
        "  model=Sequential()\n",
        "  model.add(layers.Embedding(vocal_size,Global_Var.embedding_dim))\n",
        "  model.add(layers.Bidirectional(layers.LSTM(32)))\n",
        "\n",
        "  model.add(layers.Dense(128,activation=\"relu\"))\n",
        "  model.add(layers.Dropout(0.5))\n",
        "  model.add(layers.Dense(5,activation=\"softmax\"))\n",
        "\n",
        "  return model\n"
      ]
    },
    {
      "cell_type": "code",
      "execution_count": null,
      "metadata": {
        "id": "lNom6LF8pvgI"
      },
      "outputs": [],
      "source": [
        "LSTM_model=LSTM_model()\n",
        "LSTM_model.compile(loss=\"sparse_categorical_crossentropy\",optimizer=\"adam\",metrics=[\"accuracy\"])"
      ]
    },
    {
      "cell_type": "code",
      "execution_count": null,
      "metadata": {
        "colab": {
          "base_uri": "https://localhost:8080/"
        },
        "id": "uoDaScftqI5n",
        "outputId": "e56c3a02-dfde-403c-a557-12faaaa1a2cb"
      },
      "outputs": [
        {
          "output_type": "stream",
          "name": "stdout",
          "text": [
            "Epoch 1/15\n",
            "28/28 - 12s - 418ms/step - accuracy: 0.2438 - loss: 1.5885\n",
            "Epoch 2/15\n",
            "28/28 - 9s - 304ms/step - accuracy: 0.3871 - loss: 1.4887\n",
            "Epoch 3/15\n",
            "28/28 - 10s - 364ms/step - accuracy: 0.6034 - loss: 1.1061\n",
            "Epoch 4/15\n",
            "28/28 - 10s - 365ms/step - accuracy: 0.7461 - loss: 0.7148\n",
            "Epoch 5/15\n",
            "28/28 - 11s - 410ms/step - accuracy: 0.8708 - loss: 0.4514\n",
            "Epoch 6/15\n",
            "28/28 - 11s - 383ms/step - accuracy: 0.9281 - loss: 0.2554\n",
            "Epoch 7/15\n",
            "28/28 - 6s - 202ms/step - accuracy: 0.9545 - loss: 0.1695\n",
            "Epoch 8/15\n",
            "28/28 - 7s - 257ms/step - accuracy: 0.9764 - loss: 0.0963\n",
            "Epoch 9/15\n",
            "28/28 - 6s - 209ms/step - accuracy: 0.9854 - loss: 0.0547\n",
            "Epoch 10/15\n",
            "28/28 - 7s - 233ms/step - accuracy: 0.9539 - loss: 0.1532\n",
            "Epoch 11/15\n",
            "28/28 - 6s - 231ms/step - accuracy: 0.9893 - loss: 0.0652\n",
            "Epoch 12/15\n",
            "\n",
            "reached val_accuracy higher than 0.99,cancelling the process!\n",
            "28/28 - 11s - 401ms/step - accuracy: 0.9961 - loss: 0.0318\n"
          ]
        }
      ],
      "source": [
        "LSTM_history=LSTM_model.fit(X_train_tokens,y_train,epochs=15,batch_size=64,verbose=2,callbacks=[mycallback])"
      ]
    },
    {
      "cell_type": "code",
      "execution_count": null,
      "metadata": {
        "colab": {
          "base_uri": "https://localhost:8080/",
          "height": 305
        },
        "id": "mu0-0PLfBN-h",
        "outputId": "298764a9-6700-4322-8ede-61e0f5239524"
      },
      "outputs": [
        {
          "output_type": "display_data",
          "data": {
            "text/plain": [
              "\u001b[1mModel: \"sequential_1\"\u001b[0m\n"
            ],
            "text/html": [
              "<pre style=\"white-space:pre;overflow-x:auto;line-height:normal;font-family:Menlo,'DejaVu Sans Mono',consolas,'Courier New',monospace\"><span style=\"font-weight: bold\">Model: \"sequential_1\"</span>\n",
              "</pre>\n"
            ]
          },
          "metadata": {}
        },
        {
          "output_type": "display_data",
          "data": {
            "text/plain": [
              "┏━━━━━━━━━━━━━━━━━━━━━━━━━━━━━━━━━━━━━━┳━━━━━━━━━━━━━━━━━━━━━━━━━━━━━┳━━━━━━━━━━━━━━━━━┓\n",
              "┃\u001b[1m \u001b[0m\u001b[1mLayer (type)                        \u001b[0m\u001b[1m \u001b[0m┃\u001b[1m \u001b[0m\u001b[1mOutput Shape               \u001b[0m\u001b[1m \u001b[0m┃\u001b[1m \u001b[0m\u001b[1m        Param #\u001b[0m\u001b[1m \u001b[0m┃\n",
              "┡━━━━━━━━━━━━━━━━━━━━━━━━━━━━━━━━━━━━━━╇━━━━━━━━━━━━━━━━━━━━━━━━━━━━━╇━━━━━━━━━━━━━━━━━┩\n",
              "│ embedding_1 (\u001b[38;5;33mEmbedding\u001b[0m)              │ (\u001b[38;5;45mNone\u001b[0m, \u001b[38;5;34m300\u001b[0m, \u001b[38;5;34m16\u001b[0m)             │         \u001b[38;5;34m455,792\u001b[0m │\n",
              "├──────────────────────────────────────┼─────────────────────────────┼─────────────────┤\n",
              "│ bidirectional_1 (\u001b[38;5;33mBidirectional\u001b[0m)      │ (\u001b[38;5;45mNone\u001b[0m, \u001b[38;5;34m64\u001b[0m)                  │          \u001b[38;5;34m12,544\u001b[0m │\n",
              "├──────────────────────────────────────┼─────────────────────────────┼─────────────────┤\n",
              "│ dense_2 (\u001b[38;5;33mDense\u001b[0m)                      │ (\u001b[38;5;45mNone\u001b[0m, \u001b[38;5;34m128\u001b[0m)                 │           \u001b[38;5;34m8,320\u001b[0m │\n",
              "├──────────────────────────────────────┼─────────────────────────────┼─────────────────┤\n",
              "│ dropout_1 (\u001b[38;5;33mDropout\u001b[0m)                  │ (\u001b[38;5;45mNone\u001b[0m, \u001b[38;5;34m128\u001b[0m)                 │               \u001b[38;5;34m0\u001b[0m │\n",
              "├──────────────────────────────────────┼─────────────────────────────┼─────────────────┤\n",
              "│ dense_3 (\u001b[38;5;33mDense\u001b[0m)                      │ (\u001b[38;5;45mNone\u001b[0m, \u001b[38;5;34m5\u001b[0m)                   │             \u001b[38;5;34m645\u001b[0m │\n",
              "└──────────────────────────────────────┴─────────────────────────────┴─────────────────┘\n"
            ],
            "text/html": [
              "<pre style=\"white-space:pre;overflow-x:auto;line-height:normal;font-family:Menlo,'DejaVu Sans Mono',consolas,'Courier New',monospace\">┏━━━━━━━━━━━━━━━━━━━━━━━━━━━━━━━━━━━━━━┳━━━━━━━━━━━━━━━━━━━━━━━━━━━━━┳━━━━━━━━━━━━━━━━━┓\n",
              "┃<span style=\"font-weight: bold\"> Layer (type)                         </span>┃<span style=\"font-weight: bold\"> Output Shape                </span>┃<span style=\"font-weight: bold\">         Param # </span>┃\n",
              "┡━━━━━━━━━━━━━━━━━━━━━━━━━━━━━━━━━━━━━━╇━━━━━━━━━━━━━━━━━━━━━━━━━━━━━╇━━━━━━━━━━━━━━━━━┩\n",
              "│ embedding_1 (<span style=\"color: #0087ff; text-decoration-color: #0087ff\">Embedding</span>)              │ (<span style=\"color: #00d7ff; text-decoration-color: #00d7ff\">None</span>, <span style=\"color: #00af00; text-decoration-color: #00af00\">300</span>, <span style=\"color: #00af00; text-decoration-color: #00af00\">16</span>)             │         <span style=\"color: #00af00; text-decoration-color: #00af00\">455,792</span> │\n",
              "├──────────────────────────────────────┼─────────────────────────────┼─────────────────┤\n",
              "│ bidirectional_1 (<span style=\"color: #0087ff; text-decoration-color: #0087ff\">Bidirectional</span>)      │ (<span style=\"color: #00d7ff; text-decoration-color: #00d7ff\">None</span>, <span style=\"color: #00af00; text-decoration-color: #00af00\">64</span>)                  │          <span style=\"color: #00af00; text-decoration-color: #00af00\">12,544</span> │\n",
              "├──────────────────────────────────────┼─────────────────────────────┼─────────────────┤\n",
              "│ dense_2 (<span style=\"color: #0087ff; text-decoration-color: #0087ff\">Dense</span>)                      │ (<span style=\"color: #00d7ff; text-decoration-color: #00d7ff\">None</span>, <span style=\"color: #00af00; text-decoration-color: #00af00\">128</span>)                 │           <span style=\"color: #00af00; text-decoration-color: #00af00\">8,320</span> │\n",
              "├──────────────────────────────────────┼─────────────────────────────┼─────────────────┤\n",
              "│ dropout_1 (<span style=\"color: #0087ff; text-decoration-color: #0087ff\">Dropout</span>)                  │ (<span style=\"color: #00d7ff; text-decoration-color: #00d7ff\">None</span>, <span style=\"color: #00af00; text-decoration-color: #00af00\">128</span>)                 │               <span style=\"color: #00af00; text-decoration-color: #00af00\">0</span> │\n",
              "├──────────────────────────────────────┼─────────────────────────────┼─────────────────┤\n",
              "│ dense_3 (<span style=\"color: #0087ff; text-decoration-color: #0087ff\">Dense</span>)                      │ (<span style=\"color: #00d7ff; text-decoration-color: #00d7ff\">None</span>, <span style=\"color: #00af00; text-decoration-color: #00af00\">5</span>)                   │             <span style=\"color: #00af00; text-decoration-color: #00af00\">645</span> │\n",
              "└──────────────────────────────────────┴─────────────────────────────┴─────────────────┘\n",
              "</pre>\n"
            ]
          },
          "metadata": {}
        },
        {
          "output_type": "display_data",
          "data": {
            "text/plain": [
              "\u001b[1m Total params: \u001b[0m\u001b[38;5;34m1,431,905\u001b[0m (5.46 MB)\n"
            ],
            "text/html": [
              "<pre style=\"white-space:pre;overflow-x:auto;line-height:normal;font-family:Menlo,'DejaVu Sans Mono',consolas,'Courier New',monospace\"><span style=\"font-weight: bold\"> Total params: </span><span style=\"color: #00af00; text-decoration-color: #00af00\">1,431,905</span> (5.46 MB)\n",
              "</pre>\n"
            ]
          },
          "metadata": {}
        },
        {
          "output_type": "display_data",
          "data": {
            "text/plain": [
              "\u001b[1m Trainable params: \u001b[0m\u001b[38;5;34m477,301\u001b[0m (1.82 MB)\n"
            ],
            "text/html": [
              "<pre style=\"white-space:pre;overflow-x:auto;line-height:normal;font-family:Menlo,'DejaVu Sans Mono',consolas,'Courier New',monospace\"><span style=\"font-weight: bold\"> Trainable params: </span><span style=\"color: #00af00; text-decoration-color: #00af00\">477,301</span> (1.82 MB)\n",
              "</pre>\n"
            ]
          },
          "metadata": {}
        },
        {
          "output_type": "display_data",
          "data": {
            "text/plain": [
              "\u001b[1m Non-trainable params: \u001b[0m\u001b[38;5;34m0\u001b[0m (0.00 B)\n"
            ],
            "text/html": [
              "<pre style=\"white-space:pre;overflow-x:auto;line-height:normal;font-family:Menlo,'DejaVu Sans Mono',consolas,'Courier New',monospace\"><span style=\"font-weight: bold\"> Non-trainable params: </span><span style=\"color: #00af00; text-decoration-color: #00af00\">0</span> (0.00 B)\n",
              "</pre>\n"
            ]
          },
          "metadata": {}
        },
        {
          "output_type": "display_data",
          "data": {
            "text/plain": [
              "\u001b[1m Optimizer params: \u001b[0m\u001b[38;5;34m954,604\u001b[0m (3.64 MB)\n"
            ],
            "text/html": [
              "<pre style=\"white-space:pre;overflow-x:auto;line-height:normal;font-family:Menlo,'DejaVu Sans Mono',consolas,'Courier New',monospace\"><span style=\"font-weight: bold\"> Optimizer params: </span><span style=\"color: #00af00; text-decoration-color: #00af00\">954,604</span> (3.64 MB)\n",
              "</pre>\n"
            ]
          },
          "metadata": {}
        }
      ],
      "source": [
        "LSTM_model.summary()"
      ]
    },
    {
      "cell_type": "code",
      "execution_count": null,
      "metadata": {
        "colab": {
          "base_uri": "https://localhost:8080/",
          "height": 388
        },
        "id": "GhNEhUvEtwNC",
        "outputId": "95e52a2b-08e8-4196-f33a-b457e3e1e619"
      },
      "outputs": [
        {
          "output_type": "display_data",
          "data": {
            "text/plain": [
              "<Figure size 600x400 with 1 Axes>"
            ],
            "image/png": "[encoded data removed]"
          },
          "metadata": {}
        }
      ],
      "source": [
        "import matplotlib.pyplot as plt\n",
        "\n",
        "epochs=range(1,len(LSTM_history.history[\"loss\"])+1)\n",
        "\n",
        "plt.figure(figsize=(6,4))\n",
        "plt.plot(epochs,LSTM_history.history[\"loss\"])\n",
        "plt.plot(epochs,LSTM_history.history[\"accuracy\"])\n",
        "plt.xlabel(\"Epochs\")\n",
        "#plt.ylabel([\"loss\",\"accuracy\"])\n",
        "plt.legend([\"loss\",\"accuracy\"])\n",
        "plt.show()"
      ]
    },
    {
      "cell_type": "markdown",
      "metadata": {
        "id": "uLpQ9mktucbQ"
      },
      "source": [
        "### prediction and evaluation"
      ]
    },
    {
      "cell_type": "code",
      "execution_count": null,
      "metadata": {
        "colab": {
          "base_uri": "https://localhost:8080/",
          "height": 750
        },
        "id": "desTK4KYuh0c",
        "outputId": "86570d82-93be-43ce-e8d2-b53f6afa233b"
      },
      "outputs": [
        {
          "output_type": "stream",
          "name": "stdout",
          "text": [
            "\u001b[1m14/14\u001b[0m \u001b[32m━━━━━━━━━━━━━━━━━━━━\u001b[0m\u001b[37m\u001b[0m \u001b[1m1s\u001b[0m 65ms/step\n",
            "accuracy:0.9393258426966292\n",
            "\n",
            "classification_report:\n",
            "              precision    recall  f1-score   support\n",
            "\n",
            "           0       0.96      0.89      0.93        92\n",
            "           1       1.00      0.97      0.98        98\n",
            "           2       0.81      0.96      0.88        77\n",
            "           3       0.96      0.95      0.95        76\n",
            "           4       0.96      0.93      0.95       102\n",
            "\n",
            "    accuracy                           0.94       445\n",
            "   macro avg       0.94      0.94      0.94       445\n",
            "weighted avg       0.94      0.94      0.94       445\n",
            "\n"
          ]
        },
        {
          "output_type": "display_data",
          "data": {
            "text/plain": [
              "<Figure size 640x480 with 2 Axes>"
            ],
            "image/png": "[encoded data removed]"
          },
          "metadata": {}
        }
      ],
      "source": [
        "from sklearn.metrics import confusion_matrix,accuracy_score,classification_report\n",
        "import seaborn as sns\n",
        "import numpy as np\n",
        "\n",
        "y_pred=LSTM_model.predict(X_test_tokens)\n",
        "y_pred=np.argmax(y_pred,axis=1)\n",
        "\n",
        "acc=accuracy_score(y_test,y_pred)\n",
        "print(f\"accuracy:{acc}\\n\")\n",
        "print(f\"classification_report:\\n{classification_report(y_test,y_pred)}\")\n",
        "\n",
        "cm=confusion_matrix(y_test,y_pred)\n",
        "sns.heatmap(cm,annot=True,fmt=\"d\",cmap=\"Blues\")\n",
        "plt.title(\"Confusion Matrix\")\n",
        "plt.xlabel(\"Predicted\")\n",
        "plt.ylabel(\"Actual\")\n",
        "plt.show()\n"
      ]
    },
    {
      "cell_type": "markdown",
      "metadata": {
        "id": "CEEyvMtCYGLG"
      },
      "source": [
        "## 1.2 method_ Multinomial Naive Bayes"
      ]
    },
    {
      "cell_type": "code",
      "execution_count": null,
      "metadata": {
        "id": "iZBnGxNcYatL"
      },
      "outputs": [],
      "source": [
        "from sklearn.feature_extraction.text import TfidfVectorizer"
      ]
    },
    {
      "cell_type": "markdown",
      "metadata": {
        "id": "c-ARVg_EBwud"
      },
      "source": [
        "### TF-IDF Vectorizer"
      ]
    },
    {
      "cell_type": "code",
      "execution_count": null,
      "metadata": {
        "id": "TR8kN8skY4Yl"
      },
      "outputs": [],
      "source": [
        "tfidf = TfidfVectorizer()\n",
        "\n",
        "X_train_tfidfVector = tfidf.fit_transform(X_train)\n",
        "X_test_tfidfVector = tfidf.transform(X_test)"
      ]
    },
    {
      "cell_type": "code",
      "execution_count": null,
      "metadata": {
        "id": "GPtZl0l-Zvw0",
        "colab": {
          "base_uri": "https://localhost:8080/"
        },
        "outputId": "6e366fed-dc28-40f0-b054-d7985d4968bf"
      },
      "outputs": [
        {
          "output_type": "execute_result",
          "data": {
            "text/plain": [
              "<1x28459 sparse matrix of type '<class 'numpy.float64'>'\n",
              "\twith 209 stored elements in Compressed Sparse Row format>"
            ]
          },
          "metadata": {},
          "execution_count": 91
        }
      ],
      "source": [
        "X_train_tfidfVector[0]"
      ]
    },
    {
      "cell_type": "markdown",
      "metadata": {
        "id": "pLvAGU7qBwue"
      },
      "source": [
        "### build a MultinomialNB model"
      ]
    },
    {
      "cell_type": "code",
      "execution_count": null,
      "metadata": {
        "id": "8FWHfdEUZ7TE",
        "colab": {
          "base_uri": "https://localhost:8080/",
          "height": 74
        },
        "outputId": "4c7b5567-2541-491a-88b0-afd98385c156"
      },
      "outputs": [
        {
          "output_type": "execute_result",
          "data": {
            "text/plain": [
              "MultinomialNB()"
            ],
            "text/html": [
              "<style>#sk-container-id-1 {color: black;}#sk-container-id-1 pre{padding: 0;}#sk-container-id-1 div.sk-toggleable {background-color: white;}#sk-container-id-1 label.sk-toggleable__label {cursor: pointer;display: block;width: 100%;margin-bottom: 0;padding: 0.3em;box-sizing: border-box;text-align: center;}#sk-container-id-1 label.sk-toggleable__label-arrow:before {content: \"▸\";float: left;margin-right: 0.25em;color: #696969;}#sk-container-id-1 label.sk-toggleable__label-arrow:hover:before {color: black;}#sk-container-id-1 div.sk-estimator:hover label.sk-toggleable__label-arrow:before {color: black;}#sk-container-id-1 div.sk-toggleable__content {max-height: 0;max-width: 0;overflow: hidden;text-align: left;background-color: #f0f8ff;}#sk-container-id-1 div.sk-toggleable__content pre {margin: 0.2em;color: black;border-radius: 0.25em;background-color: #f0f8ff;}#sk-container-id-1 input.sk-toggleable__control:checked~div.sk-toggleable__content {max-height: 200px;max-width: 100%;overflow: auto;}#sk-container-id-1 input.sk-toggleable__control:checked~label.sk-toggleable__label-arrow:before {content: \"▾\";}#sk-container-id-1 div.sk-estimator input.sk-toggleable__control:checked~label.sk-toggleable__label {background-color: #d4ebff;}#sk-container-id-1 div.sk-label input.sk-toggleable__control:checked~label.sk-toggleable__label {background-color: #d4ebff;}#sk-container-id-1 input.sk-hidden--visually {border: 0;clip: rect(1px 1px 1px 1px);clip: rect(1px, 1px, 1px, 1px);height: 1px;margin: -1px;overflow: hidden;padding: 0;position: absolute;width: 1px;}#sk-container-id-1 div.sk-estimator {font-family: monospace;background-color: #f0f8ff;border: 1px dotted black;border-radius: 0.25em;box-sizing: border-box;margin-bottom: 0.5em;}#sk-container-id-1 div.sk-estimator:hover {background-color: #d4ebff;}#sk-container-id-1 div.sk-parallel-item::after {content: \"\";width: 100%;border-bottom: 1px solid gray;flex-grow: 1;}#sk-container-id-1 div.sk-label:hover label.sk-toggleable__label {background-color: #d4ebff;}#sk-container-id-1 div.sk-serial::before {content: \"\";position: absolute;border-left: 1px solid gray;box-sizing: border-box;top: 0;bottom: 0;left: 50%;z-index: 0;}#sk-container-id-1 div.sk-serial {display: flex;flex-direction: column;align-items: center;background-color: white;padding-right: 0.2em;padding-left: 0.2em;position: relative;}#sk-container-id-1 div.sk-item {position: relative;z-index: 1;}#sk-container-id-1 div.sk-parallel {display: flex;align-items: stretch;justify-content: center;background-color: white;position: relative;}#sk-container-id-1 div.sk-item::before, #sk-container-id-1 div.sk-parallel-item::before {content: \"\";position: absolute;border-left: 1px solid gray;box-sizing: border-box;top: 0;bottom: 0;left: 50%;z-index: -1;}#sk-container-id-1 div.sk-parallel-item {display: flex;flex-direction: column;z-index: 1;position: relative;background-color: white;}#sk-container-id-1 div.sk-parallel-item:first-child::after {align-self: flex-end;width: 50%;}#sk-container-id-1 div.sk-parallel-item:last-child::after {align-self: flex-start;width: 50%;}#sk-container-id-1 div.sk-parallel-item:only-child::after {width: 0;}#sk-container-id-1 div.sk-dashed-wrapped {border: 1px dashed gray;margin: 0 0.4em 0.5em 0.4em;box-sizing: border-box;padding-bottom: 0.4em;background-color: white;}#sk-container-id-1 div.sk-label label {font-family: monospace;font-weight: bold;display: inline-block;line-height: 1.2em;}#sk-container-id-1 div.sk-label-container {text-align: center;}#sk-container-id-1 div.sk-container {/* jupyter's `normalize.less` sets `[hidden] { display: none; }` but bootstrap.min.css set `[hidden] { display: none !important; }` so we also need the `!important` here to be able to override the default hidden behavior on the sphinx rendered scikit-learn.org. See: https://github.com/scikit-learn/scikit-learn/issues/21755 */display: inline-block !important;position: relative;}#sk-container-id-1 div.sk-text-repr-fallback {display: none;}</style><div id=\"sk-container-id-1\" class=\"sk-top-container\"><div class=\"sk-text-repr-fallback\"><pre>MultinomialNB()</pre><b>In a Jupyter environment, please rerun this cell to show the HTML representation or trust the notebook. <br />On GitHub, the HTML representation is unable to render, please try loading this page with nbviewer.org.</b></div><div class=\"sk-container\" hidden><div class=\"sk-item\"><div class=\"sk-estimator sk-toggleable\"><input class=\"sk-toggleable__control sk-hidden--visually\" id=\"sk-estimator-id-1\" type=\"checkbox\" checked><label for=\"sk-estimator-id-1\" class=\"sk-toggleable__label sk-toggleable__label-arrow\">MultinomialNB</label><div class=\"sk-toggleable__content\"><pre>MultinomialNB()</pre></div></div></div></div></div>"
            ]
          },
          "metadata": {},
          "execution_count": 92
        }
      ],
      "source": [
        "from sklearn.naive_bayes import MultinomialNB\n",
        "\n",
        "MultinomialNB_model = MultinomialNB()\n",
        "MultinomialNB_model.fit(X_train_tfidfVector, y_train)"
      ]
    },
    {
      "cell_type": "code",
      "execution_count": null,
      "metadata": {
        "colab": {
          "base_uri": "https://localhost:8080/"
        },
        "id": "3wf2DAfcBwue",
        "outputId": "e790a9e2-a827-4156-e10f-8592e86e1497"
      },
      "outputs": [
        {
          "output_type": "stream",
          "name": "stdout",
          "text": [
            "the accuracy of training:0.9837078651685394\n",
            "\n"
          ]
        }
      ],
      "source": [
        "pred=MultinomialNB_model.predict(X_train_tfidfVector)\n",
        "acc=accuracy_score(y_train,pred)\n",
        "print(f\"the accuracy of training:{acc}\\n\")"
      ]
    },
    {
      "cell_type": "markdown",
      "metadata": {
        "id": "Ni-pvuVqBwue"
      },
      "source": [
        "### prediction and evaluation"
      ]
    },
    {
      "cell_type": "code",
      "execution_count": null,
      "metadata": {
        "colab": {
          "base_uri": "https://localhost:8080/",
          "height": 732
        },
        "id": "lZip7HATBwue",
        "outputId": "1c496e43-2727-45f6-dfbb-7550578f1455"
      },
      "outputs": [
        {
          "output_type": "stream",
          "name": "stdout",
          "text": [
            "accuracy:0.9348314606741573\n",
            "\n",
            "classification_report:\n",
            "              precision    recall  f1-score   support\n",
            "\n",
            "           0       0.93      0.92      0.93        92\n",
            "           1       0.92      1.00      0.96        98\n",
            "           2       0.95      0.92      0.93        77\n",
            "           3       0.97      0.84      0.90        76\n",
            "           4       0.92      0.96      0.94       102\n",
            "\n",
            "    accuracy                           0.93       445\n",
            "   macro avg       0.94      0.93      0.93       445\n",
            "weighted avg       0.94      0.93      0.93       445\n",
            "\n"
          ]
        },
        {
          "output_type": "display_data",
          "data": {
            "text/plain": [
              "<Figure size 640x480 with 2 Axes>"
            ],
            "image/png": "[encoded data removed]"
          },
          "metadata": {}
        }
      ],
      "source": [
        "from sklearn.metrics import confusion_matrix,accuracy_score,classification_report\n",
        "import seaborn as sns\n",
        "import numpy as np\n",
        "\n",
        "y_pred=MultinomialNB_model.predict(X_test_tfidfVector)\n",
        "\n",
        "acc=accuracy_score(y_test,y_pred)\n",
        "print(f\"accuracy:{acc}\\n\")\n",
        "print(f\"classification_report:\\n{classification_report(y_test,y_pred)}\")\n",
        "\n",
        "cm=confusion_matrix(y_test,y_pred)\n",
        "sns.heatmap(cm,annot=True,fmt=\"d\",cmap=\"Reds\")\n",
        "plt.title(\"Confusion Matrix\")\n",
        "plt.xlabel(\"Predicted\")\n",
        "plt.ylabel(\"Actual\")\n",
        "plt.show()\n",
        "\n"
      ]
    },
    {
      "cell_type": "markdown",
      "metadata": {
        "id": "Kyk1oERhBwuf"
      },
      "source": [
        "# 2. Text Clustering Task"
      ]
    },
    {
      "cell_type": "markdown",
      "source": [
        "## build a K-means model"
      ],
      "metadata": {
        "id": "6cfrVUz4HyVo"
      }
    },
    {
      "cell_type": "code",
      "execution_count": null,
      "metadata": {
        "id": "rVdwub4eBwuf"
      },
      "outputs": [],
      "source": [
        "from sklearn.feature_extraction.text import CountVectorizer"
      ]
    },
    {
      "cell_type": "code",
      "execution_count": null,
      "metadata": {
        "id": "_4okOsDsBwuf"
      },
      "outputs": [],
      "source": [
        "X_countvector= CountVectorizer().fit_transform(X).toarray()"
      ]
    },
    {
      "cell_type": "code",
      "execution_count": null,
      "metadata": {
        "colab": {
          "base_uri": "https://localhost:8080/"
        },
        "id": "YvwtkGMaBwuf",
        "outputId": "62e2d322-0fd8-4f68-b390-7481eabe5240"
      },
      "outputs": [
        {
          "output_type": "stream",
          "name": "stderr",
          "text": [
            "/usr/local/lib/python3.10/dist-packages/sklearn/cluster/_kmeans.py:1416: FutureWarning: The default value of `n_init` will change from 10 to 'auto' in 1.4. Set the value of `n_init` explicitly to suppress the warning\n",
            "  super()._check_params_vs_input(X, default_n_init=10)\n"
          ]
        },
        {
          "output_type": "stream",
          "name": "stdout",
          "text": [
            "Cluster labels: [0 0 0 ... 4 4 4]\n",
            "Cluster centers:\n",
            " [[ 2.20750552e-03  1.51788304e-17  1.98675497e-02 ...  2.31788079e-01\n",
            "   7.58941521e-18  2.81892565e-18]\n",
            " [ 1.30104261e-18  8.92857143e-03  3.57142857e-02 ...  2.14285714e-01\n",
            "   1.78571429e-02  1.30104261e-18]\n",
            " [ 3.03576608e-18  4.48933782e-03  4.48933782e-03 ...  3.32210999e-01\n",
            "   1.12233446e-03  3.03576608e-18]\n",
            " [ 0.00000000e+00 -4.33680869e-19  0.00000000e+00 ...  2.85714286e-01\n",
            "  -2.16840434e-19  0.00000000e+00]\n",
            " [ 2.98155597e-18  1.31233596e-03  1.31233596e-03 ...  2.13910761e-01\n",
            "   5.63785130e-18  1.31233596e-03]]\n"
          ]
        }
      ],
      "source": [
        "from sklearn.cluster import KMeans\n",
        "\n",
        "Kmeans_model= KMeans(n_clusters=5, random_state=2024)\n",
        "Kmeans_model.fit(X_countvector)\n",
        "\n",
        "\n",
        "# Predict the cluster labels for each data point\n",
        "labels=Kmeans_model.predict(X_countvector)\n",
        "\n",
        "# Get the cluster centers\n",
        "centroids = Kmeans_model.cluster_centers_\n",
        "\n",
        "# Print the cluster labels and centroids\n",
        "print(\"Cluster labels:\", labels)\n",
        "print(\"Cluster centers:\\n\", centroids)"
      ]
    },
    {
      "cell_type": "markdown",
      "source": [
        "## visulize clustering results"
      ],
      "metadata": {
        "id": "E9inC4P3NouU"
      }
    },
    {
      "cell_type": "code",
      "source": [
        "from sklearn.decomposition import PCA\n",
        "# Reduce dimensionality using PCA\n",
        "pca = PCA(n_components=2)\n",
        "X_reduced = pca.fit_transform(X_countvector)\n",
        "\n",
        "# Visualize clusters\n",
        "plt.scatter(X_reduced[:, 0], X_reduced[:, 1], c=Kmeans_model.labels_, cmap='viridis')\n",
        "plt.scatter(Kmeans_model.cluster_centers_[:, 0], Kmeans_model.cluster_centers_[:, 1], marker='x', s=100, linewidths=3, color='r')\n",
        "plt.show()"
      ],
      "metadata": {
        "colab": {
          "base_uri": "https://localhost:8080/",
          "height": 430
        },
        "id": "38MGIdtaNJli",
        "outputId": "8bc02d46-8017-4fee-e485-7c427519378d"
      },
      "execution_count": null,
      "outputs": [
        {
          "output_type": "display_data",
          "data": {
            "text/plain": [
              "<Figure size 640x480 with 1 Axes>"
            ],
            "image/png": "[encoded data removed]"
          },
          "metadata": {}
        }
      ]
    },
    {
      "cell_type": "markdown",
      "source": [
        "## evaluation"
      ],
      "metadata": {
        "id": "cAlmBPm4HpGN"
      }
    },
    {
      "cell_type": "markdown",
      "source": [
        "#### **Silhouette Coefficient:** Measures how similar a data point is to its own cluster compared to other clusters. A higher silhouette coefficient indicates better-defined clusters."
      ],
      "metadata": {
        "id": "KZFfAUPgJEm3"
      }
    },
    {
      "cell_type": "code",
      "execution_count": null,
      "metadata": {
        "colab": {
          "base_uri": "https://localhost:8080/"
        },
        "id": "eKZ89GJrBwug",
        "outputId": "a6c74435-3b94-4c15-ae06-485fe1bf8f18"
      },
      "outputs": [
        {
          "output_type": "stream",
          "name": "stdout",
          "text": [
            "Silhouette coefficient: 0.06665647939919095\n"
          ]
        }
      ],
      "source": [
        "from sklearn.metrics import silhouette_score\n",
        "\n",
        "# Calculate silhouette score\n",
        "silhouette_avg = silhouette_score(X_countvector, labels)\n",
        "print(\"Silhouette coefficient:\", silhouette_avg)"
      ]
    },
    {
      "cell_type": "markdown",
      "source": [
        "#### **Calinski_Harabasz:**Compares the ratio of the sum of between-clusters dispersion and within-cluster dispersion"
      ],
      "metadata": {
        "id": "G-uAZ9B-KmFG"
      }
    },
    {
      "cell_type": "code",
      "execution_count": null,
      "metadata": {
        "colab": {
          "base_uri": "https://localhost:8080/"
        },
        "id": "GxWNtN72Bwug",
        "outputId": "80c3a9a4-1455-4b8c-e7c7-6be4e3e11d69"
      },
      "outputs": [
        {
          "output_type": "stream",
          "name": "stdout",
          "text": [
            "Calinski-Harabasz Index: 292.8275786162426\n"
          ]
        }
      ],
      "source": [
        "from sklearn.metrics import calinski_harabasz_score\n",
        "# Calculate calinski_harabasz\n",
        "calinski_harabasz = calinski_harabasz_score(X_countvector, labels)\n",
        "print(\"Calinski-Harabasz Index:\", calinski_harabasz)"
      ]
    },
    {
      "cell_type": "markdown",
      "source": [
        "#### **Within-Cluster Sum of Squares (WCSS)**: Measures the compactness of clusters. A lower WCSS indicates better clustering."
      ],
      "metadata": {
        "id": "CBo9ykrSMfXY"
      }
    },
    {
      "cell_type": "code",
      "source": [
        "def calculate_wcss(X, labels):\n",
        "  n_clusters = len(np.unique(labels))\n",
        "  wcss = 0\n",
        "\n",
        "  for i in range(n_clusters):\n",
        "    cluster_points = X[labels == i]\n",
        "    centroid = np.mean(cluster_points, axis=0)\n",
        "    wcss += np.sum((cluster_points - centroid) ** 2)\n",
        "\n",
        "  return wcss\n",
        "\n",
        "# calculate wcss_value\n",
        "wcss_value = calculate_wcss(X_countvector, labels)\n",
        "print(\"Within-Cluster Sum of Squares (WCSS):\", wcss_value)"
      ],
      "metadata": {
        "colab": {
          "base_uri": "https://localhost:8080/"
        },
        "id": "QJsk8mVYMLuZ",
        "outputId": "cbaeb1c6-f222-4e2d-e565-e69177b32db4"
      },
      "execution_count": null,
      "outputs": [
        {
          "output_type": "stream",
          "name": "stdout",
          "text": [
            "Within-Cluster Sum of Squares (WCSS): 1675420.5438154559\n"
          ]
        }
      ]
    }
  ],
  "metadata": {
    "colab": {
      "collapsed_sections": [
        "uuPmlf3cHqOH"
      ],
      "provenance": []
    },
    "kernelspec": {
      "display_name": "Python 3 (ipykernel)",
      "language": "python",
      "name": "python3"
    },
    "language_info": {
      "codemirror_mode": {
        "name": "ipython",
        "version": 3
      },
      "file_extension": ".py",
      "mimetype": "text/x-python",
      "name": "python",
      "nbconvert_exporter": "python",
      "pygments_lexer": "ipython3",
      "version": "3.10.9"
    }
  },
  "nbformat": 4,
  "nbformat_minor": 0
}