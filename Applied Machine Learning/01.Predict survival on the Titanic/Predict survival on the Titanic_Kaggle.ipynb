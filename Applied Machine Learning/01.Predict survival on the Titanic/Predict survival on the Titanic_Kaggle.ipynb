{
 "cells": [
  {
   "cell_type": "code",
   "execution_count": 1,
   "id": "f1a36e3b",
   "metadata": {},
   "outputs": [],
   "source": [
    "import numpy as np\n",
    "import pandas as pd"
   ]
  },
  {
   "cell_type": "markdown",
   "id": "77c84999",
   "metadata": {},
   "source": [
    "# 1. Download data"
   ]
  },
  {
   "cell_type": "code",
   "execution_count": 2,
   "id": "1a51121b",
   "metadata": {},
   "outputs": [],
   "source": [
    "train=pd.read_csv(\"D:/python_study/Assignment1/train.csv\")"
   ]
  },
  {
   "cell_type": "markdown",
   "id": "02d0fffb",
   "metadata": {},
   "source": [
    "# 2. Data exploration"
   ]
  },
  {
   "cell_type": "markdown",
   "id": "e9dc6dc8",
   "metadata": {},
   "source": [
    "## 2.1 data structure description"
   ]
  },
  {
   "cell_type": "code",
   "execution_count": 3,
   "id": "a07d0a66",
   "metadata": {},
   "outputs": [
    {
     "data": {
      "text/plain": [
       "(891, 12)"
      ]
     },
     "execution_count": 3,
     "metadata": {},
     "output_type": "execute_result"
    }
   ],
   "source": [
    "train.shape"
   ]
  },
  {
   "cell_type": "code",
   "execution_count": 4,
   "id": "e8bacc0e",
   "metadata": {},
   "outputs": [
    {
     "data": {
      "text/html": [
       "<div>\n",
       "<style scoped>\n",
       "    .dataframe tbody tr th:only-of-type {\n",
       "        vertical-align: middle;\n",
       "    }\n",
       "\n",
       "    .dataframe tbody tr th {\n",
       "        vertical-align: top;\n",
       "    }\n",
       "\n",
       "    .dataframe thead th {\n",
       "        text-align: right;\n",
       "    }\n",
       "</style>\n",
       "<table border=\"1\" class=\"dataframe\">\n",
       "  <thead>\n",
       "    <tr style=\"text-align: right;\">\n",
       "      <th></th>\n",
       "      <th>PassengerId</th>\n",
       "      <th>Survived</th>\n",
       "      <th>Pclass</th>\n",
       "      <th>Name</th>\n",
       "      <th>Sex</th>\n",
       "      <th>Age</th>\n",
       "      <th>SibSp</th>\n",
       "      <th>Parch</th>\n",
       "      <th>Ticket</th>\n",
       "      <th>Fare</th>\n",
       "      <th>Cabin</th>\n",
       "      <th>Embarked</th>\n",
       "    </tr>\n",
       "  </thead>\n",
       "  <tbody>\n",
       "    <tr>\n",
       "      <th>0</th>\n",
       "      <td>1</td>\n",
       "      <td>0</td>\n",
       "      <td>3</td>\n",
       "      <td>Braund, Mr. Owen Harris</td>\n",
       "      <td>male</td>\n",
       "      <td>22.0</td>\n",
       "      <td>1</td>\n",
       "      <td>0</td>\n",
       "      <td>A/5 21171</td>\n",
       "      <td>7.2500</td>\n",
       "      <td>NaN</td>\n",
       "      <td>S</td>\n",
       "    </tr>\n",
       "    <tr>\n",
       "      <th>1</th>\n",
       "      <td>2</td>\n",
       "      <td>1</td>\n",
       "      <td>1</td>\n",
       "      <td>Cumings, Mrs. John Bradley (Florence Briggs Th...</td>\n",
       "      <td>female</td>\n",
       "      <td>38.0</td>\n",
       "      <td>1</td>\n",
       "      <td>0</td>\n",
       "      <td>PC 17599</td>\n",
       "      <td>71.2833</td>\n",
       "      <td>C85</td>\n",
       "      <td>C</td>\n",
       "    </tr>\n",
       "    <tr>\n",
       "      <th>2</th>\n",
       "      <td>3</td>\n",
       "      <td>1</td>\n",
       "      <td>3</td>\n",
       "      <td>Heikkinen, Miss. Laina</td>\n",
       "      <td>female</td>\n",
       "      <td>26.0</td>\n",
       "      <td>0</td>\n",
       "      <td>0</td>\n",
       "      <td>STON/O2. 3101282</td>\n",
       "      <td>7.9250</td>\n",
       "      <td>NaN</td>\n",
       "      <td>S</td>\n",
       "    </tr>\n",
       "    <tr>\n",
       "      <th>3</th>\n",
       "      <td>4</td>\n",
       "      <td>1</td>\n",
       "      <td>1</td>\n",
       "      <td>Futrelle, Mrs. Jacques Heath (Lily May Peel)</td>\n",
       "      <td>female</td>\n",
       "      <td>35.0</td>\n",
       "      <td>1</td>\n",
       "      <td>0</td>\n",
       "      <td>113803</td>\n",
       "      <td>53.1000</td>\n",
       "      <td>C123</td>\n",
       "      <td>S</td>\n",
       "    </tr>\n",
       "    <tr>\n",
       "      <th>4</th>\n",
       "      <td>5</td>\n",
       "      <td>0</td>\n",
       "      <td>3</td>\n",
       "      <td>Allen, Mr. William Henry</td>\n",
       "      <td>male</td>\n",
       "      <td>35.0</td>\n",
       "      <td>0</td>\n",
       "      <td>0</td>\n",
       "      <td>373450</td>\n",
       "      <td>8.0500</td>\n",
       "      <td>NaN</td>\n",
       "      <td>S</td>\n",
       "    </tr>\n",
       "  </tbody>\n",
       "</table>\n",
       "</div>"
      ],
      "text/plain": [
       "   PassengerId  Survived  Pclass  \\\n",
       "0            1         0       3   \n",
       "1            2         1       1   \n",
       "2            3         1       3   \n",
       "3            4         1       1   \n",
       "4            5         0       3   \n",
       "\n",
       "                                                Name     Sex   Age  SibSp  \\\n",
       "0                            Braund, Mr. Owen Harris    male  22.0      1   \n",
       "1  Cumings, Mrs. John Bradley (Florence Briggs Th...  female  38.0      1   \n",
       "2                             Heikkinen, Miss. Laina  female  26.0      0   \n",
       "3       Futrelle, Mrs. Jacques Heath (Lily May Peel)  female  35.0      1   \n",
       "4                           Allen, Mr. William Henry    male  35.0      0   \n",
       "\n",
       "   Parch            Ticket     Fare Cabin Embarked  \n",
       "0      0         A/5 21171   7.2500   NaN        S  \n",
       "1      0          PC 17599  71.2833   C85        C  \n",
       "2      0  STON/O2. 3101282   7.9250   NaN        S  \n",
       "3      0            113803  53.1000  C123        S  \n",
       "4      0            373450   8.0500   NaN        S  "
      ]
     },
     "execution_count": 4,
     "metadata": {},
     "output_type": "execute_result"
    }
   ],
   "source": [
    "train.head()"
   ]
  },
  {
   "cell_type": "code",
   "execution_count": 5,
   "id": "198de7ef",
   "metadata": {},
   "outputs": [
    {
     "name": "stdout",
     "output_type": "stream",
     "text": [
      "<class 'pandas.core.frame.DataFrame'>\n",
      "RangeIndex: 891 entries, 0 to 890\n",
      "Data columns (total 12 columns):\n",
      " #   Column       Non-Null Count  Dtype  \n",
      "---  ------       --------------  -----  \n",
      " 0   PassengerId  891 non-null    int64  \n",
      " 1   Survived     891 non-null    int64  \n",
      " 2   Pclass       891 non-null    int64  \n",
      " 3   Name         891 non-null    object \n",
      " 4   Sex          891 non-null    object \n",
      " 5   Age          714 non-null    float64\n",
      " 6   SibSp        891 non-null    int64  \n",
      " 7   Parch        891 non-null    int64  \n",
      " 8   Ticket       891 non-null    object \n",
      " 9   Fare         891 non-null    float64\n",
      " 10  Cabin        204 non-null    object \n",
      " 11  Embarked     889 non-null    object \n",
      "dtypes: float64(2), int64(5), object(5)\n",
      "memory usage: 83.7+ KB\n"
     ]
    }
   ],
   "source": [
    "# Age,Cabin,and Embarked have missing values\n",
    "train.info()"
   ]
  },
  {
   "cell_type": "code",
   "execution_count": 6,
   "id": "0e4ace52",
   "metadata": {
    "scrolled": true
   },
   "outputs": [
    {
     "data": {
      "text/html": [
       "<div>\n",
       "<style scoped>\n",
       "    .dataframe tbody tr th:only-of-type {\n",
       "        vertical-align: middle;\n",
       "    }\n",
       "\n",
       "    .dataframe tbody tr th {\n",
       "        vertical-align: top;\n",
       "    }\n",
       "\n",
       "    .dataframe thead th {\n",
       "        text-align: right;\n",
       "    }\n",
       "</style>\n",
       "<table border=\"1\" class=\"dataframe\">\n",
       "  <thead>\n",
       "    <tr style=\"text-align: right;\">\n",
       "      <th></th>\n",
       "      <th>PassengerId</th>\n",
       "      <th>Survived</th>\n",
       "      <th>Pclass</th>\n",
       "      <th>Age</th>\n",
       "      <th>SibSp</th>\n",
       "      <th>Parch</th>\n",
       "      <th>Fare</th>\n",
       "    </tr>\n",
       "  </thead>\n",
       "  <tbody>\n",
       "    <tr>\n",
       "      <th>count</th>\n",
       "      <td>891.000000</td>\n",
       "      <td>891.000000</td>\n",
       "      <td>891.000000</td>\n",
       "      <td>714.000000</td>\n",
       "      <td>891.000000</td>\n",
       "      <td>891.000000</td>\n",
       "      <td>891.000000</td>\n",
       "    </tr>\n",
       "    <tr>\n",
       "      <th>mean</th>\n",
       "      <td>446.000000</td>\n",
       "      <td>0.383838</td>\n",
       "      <td>2.308642</td>\n",
       "      <td>29.699118</td>\n",
       "      <td>0.523008</td>\n",
       "      <td>0.381594</td>\n",
       "      <td>32.204208</td>\n",
       "    </tr>\n",
       "    <tr>\n",
       "      <th>std</th>\n",
       "      <td>257.353842</td>\n",
       "      <td>0.486592</td>\n",
       "      <td>0.836071</td>\n",
       "      <td>14.526497</td>\n",
       "      <td>1.102743</td>\n",
       "      <td>0.806057</td>\n",
       "      <td>49.693429</td>\n",
       "    </tr>\n",
       "    <tr>\n",
       "      <th>min</th>\n",
       "      <td>1.000000</td>\n",
       "      <td>0.000000</td>\n",
       "      <td>1.000000</td>\n",
       "      <td>0.420000</td>\n",
       "      <td>0.000000</td>\n",
       "      <td>0.000000</td>\n",
       "      <td>0.000000</td>\n",
       "    </tr>\n",
       "    <tr>\n",
       "      <th>25%</th>\n",
       "      <td>223.500000</td>\n",
       "      <td>0.000000</td>\n",
       "      <td>2.000000</td>\n",
       "      <td>20.125000</td>\n",
       "      <td>0.000000</td>\n",
       "      <td>0.000000</td>\n",
       "      <td>7.910400</td>\n",
       "    </tr>\n",
       "    <tr>\n",
       "      <th>50%</th>\n",
       "      <td>446.000000</td>\n",
       "      <td>0.000000</td>\n",
       "      <td>3.000000</td>\n",
       "      <td>28.000000</td>\n",
       "      <td>0.000000</td>\n",
       "      <td>0.000000</td>\n",
       "      <td>14.454200</td>\n",
       "    </tr>\n",
       "    <tr>\n",
       "      <th>75%</th>\n",
       "      <td>668.500000</td>\n",
       "      <td>1.000000</td>\n",
       "      <td>3.000000</td>\n",
       "      <td>38.000000</td>\n",
       "      <td>1.000000</td>\n",
       "      <td>0.000000</td>\n",
       "      <td>31.000000</td>\n",
       "    </tr>\n",
       "    <tr>\n",
       "      <th>max</th>\n",
       "      <td>891.000000</td>\n",
       "      <td>1.000000</td>\n",
       "      <td>3.000000</td>\n",
       "      <td>80.000000</td>\n",
       "      <td>8.000000</td>\n",
       "      <td>6.000000</td>\n",
       "      <td>512.329200</td>\n",
       "    </tr>\n",
       "  </tbody>\n",
       "</table>\n",
       "</div>"
      ],
      "text/plain": [
       "       PassengerId    Survived      Pclass         Age       SibSp  \\\n",
       "count   891.000000  891.000000  891.000000  714.000000  891.000000   \n",
       "mean    446.000000    0.383838    2.308642   29.699118    0.523008   \n",
       "std     257.353842    0.486592    0.836071   14.526497    1.102743   \n",
       "min       1.000000    0.000000    1.000000    0.420000    0.000000   \n",
       "25%     223.500000    0.000000    2.000000   20.125000    0.000000   \n",
       "50%     446.000000    0.000000    3.000000   28.000000    0.000000   \n",
       "75%     668.500000    1.000000    3.000000   38.000000    1.000000   \n",
       "max     891.000000    1.000000    3.000000   80.000000    8.000000   \n",
       "\n",
       "            Parch        Fare  \n",
       "count  891.000000  891.000000  \n",
       "mean     0.381594   32.204208  \n",
       "std      0.806057   49.693429  \n",
       "min      0.000000    0.000000  \n",
       "25%      0.000000    7.910400  \n",
       "50%      0.000000   14.454200  \n",
       "75%      0.000000   31.000000  \n",
       "max      6.000000  512.329200  "
      ]
     },
     "execution_count": 6,
     "metadata": {},
     "output_type": "execute_result"
    }
   ],
   "source": [
    "train.describe()"
   ]
  },
  {
   "cell_type": "code",
   "execution_count": 7,
   "id": "bd911798",
   "metadata": {},
   "outputs": [
    {
     "data": {
      "text/plain": [
       "0    549\n",
       "1    342\n",
       "Name: Survived, dtype: int64"
      ]
     },
     "execution_count": 7,
     "metadata": {},
     "output_type": "execute_result"
    }
   ],
   "source": [
    "train.Survived.value_counts()"
   ]
  },
  {
   "cell_type": "code",
   "execution_count": 8,
   "id": "43d2aa5f",
   "metadata": {},
   "outputs": [
    {
     "data": {
      "image/png": "[encoded data removed]",
      "text/plain": [
       "<Figure size 2000x1500 with 9 Axes>"
      ]
     },
     "metadata": {},
     "output_type": "display_data"
    }
   ],
   "source": [
    "%matplotlib inline\n",
    "import matplotlib.pyplot as plt\n",
    "train.hist(bins=50, figsize=(20,15))\n",
    "#save_fig(\"attribute_histogram_plots\")\n",
    "plt.show()"
   ]
  },
  {
   "cell_type": "code",
   "execution_count": 9,
   "id": "eca0c0ab",
   "metadata": {},
   "outputs": [
    {
     "data": {
      "text/plain": [
       "male      0.647587\n",
       "female    0.352413\n",
       "Name: Sex, dtype: float64"
      ]
     },
     "execution_count": 9,
     "metadata": {},
     "output_type": "execute_result"
    }
   ],
   "source": [
    "train.Sex.value_counts(normalize=True,dropna=False)"
   ]
  },
  {
   "cell_type": "code",
   "execution_count": 10,
   "id": "acc20c6f",
   "metadata": {},
   "outputs": [
    {
     "data": {
      "text/plain": [
       "NaN            0.771044\n",
       "C23 C25 C27    0.004489\n",
       "G6             0.004489\n",
       "B96 B98        0.004489\n",
       "C22 C26        0.003367\n",
       "                 ...   \n",
       "E34            0.001122\n",
       "C7             0.001122\n",
       "C54            0.001122\n",
       "E36            0.001122\n",
       "C148           0.001122\n",
       "Name: Cabin, Length: 148, dtype: float64"
      ]
     },
     "execution_count": 10,
     "metadata": {},
     "output_type": "execute_result"
    }
   ],
   "source": [
    "train.Cabin.value_counts(normalize=True,dropna=False)"
   ]
  },
  {
   "cell_type": "code",
   "execution_count": 11,
   "id": "84256901",
   "metadata": {},
   "outputs": [
    {
     "data": {
      "text/plain": [
       "S      0.722783\n",
       "C      0.188552\n",
       "Q      0.086420\n",
       "NaN    0.002245\n",
       "Name: Embarked, dtype: float64"
      ]
     },
     "execution_count": 11,
     "metadata": {},
     "output_type": "execute_result"
    }
   ],
   "source": [
    "train.Embarked.value_counts(normalize=True,dropna=False)"
   ]
  },
  {
   "cell_type": "markdown",
   "id": "ddb4cfb6",
   "metadata": {},
   "source": [
    "## 2.2  Data visualization"
   ]
  },
  {
   "cell_type": "code",
   "execution_count": 12,
   "id": "66fe3bec",
   "metadata": {},
   "outputs": [
    {
     "data": {
      "text/plain": [
       "<Axes: xlabel='Age', ylabel='Fare'>"
      ]
     },
     "execution_count": 12,
     "metadata": {},
     "output_type": "execute_result"
    },
    {
     "data": {
      "image/png": "[encoded data removed]",
      "text/plain": [
       "<Figure size 640x480 with 1 Axes>"
      ]
     },
     "metadata": {},
     "output_type": "display_data"
    }
   ],
   "source": [
    "train.plot(kind=\"scatter\", x=\"Age\", y=\"Fare\", alpha=0.4)"
   ]
  },
  {
   "cell_type": "code",
   "execution_count": 13,
   "id": "aa6e7c08",
   "metadata": {},
   "outputs": [
    {
     "data": {
      "text/plain": [
       "<Axes: xlabel='Age', ylabel='Parch'>"
      ]
     },
     "execution_count": 13,
     "metadata": {},
     "output_type": "execute_result"
    },
    {
     "data": {
      "image/png": "[encoded data removed]",
      "text/plain": [
       "<Figure size 640x480 with 1 Axes>"
      ]
     },
     "metadata": {},
     "output_type": "display_data"
    }
   ],
   "source": [
    "train.plot(kind=\"scatter\", x=\"Age\", y=\"Parch\",alpha=0.4,color=\"green\")"
   ]
  },
  {
   "cell_type": "code",
   "execution_count": 14,
   "id": "7c33e701",
   "metadata": {},
   "outputs": [
    {
     "data": {
      "text/plain": [
       "<Axes: xlabel='Age', ylabel='SibSp'>"
      ]
     },
     "execution_count": 14,
     "metadata": {},
     "output_type": "execute_result"
    },
    {
     "data": {
      "image/png": "[encoded data removed]",
      "text/plain": [
       "<Figure size 640x480 with 1 Axes>"
      ]
     },
     "metadata": {},
     "output_type": "display_data"
    }
   ],
   "source": [
    "train.plot(kind=\"scatter\", x=\"Age\", y=\"SibSp\",alpha=0.4,color=\"brown\")"
   ]
  },
  {
   "cell_type": "code",
   "execution_count": 15,
   "id": "59a41fbc",
   "metadata": {},
   "outputs": [
    {
     "data": {
      "text/plain": [
       "<Axes: xlabel='Age', ylabel='Survived'>"
      ]
     },
     "execution_count": 15,
     "metadata": {},
     "output_type": "execute_result"
    },
    {
     "data": {
      "image/png": "[encoded data removed]",
      "text/plain": [
       "<Figure size 640x480 with 1 Axes>"
      ]
     },
     "metadata": {},
     "output_type": "display_data"
    }
   ],
   "source": [
    "train.plot(kind=\"scatter\", x=\"Age\", y=\"Survived\",alpha=0.3)"
   ]
  },
  {
   "cell_type": "code",
   "execution_count": 16,
   "id": "48c0bd1c",
   "metadata": {},
   "outputs": [
    {
     "data": {
      "text/plain": [
       "<Axes: xlabel='Pclass', ylabel='SibSp'>"
      ]
     },
     "execution_count": 16,
     "metadata": {},
     "output_type": "execute_result"
    },
    {
     "data": {
      "image/png": "[encoded data removed]",
      "text/plain": [
       "<Figure size 640x480 with 1 Axes>"
      ]
     },
     "metadata": {},
     "output_type": "display_data"
    }
   ],
   "source": [
    "train.plot(kind=\"scatter\", x=\"Pclass\", y=\"SibSp\",alpha=0.3)"
   ]
  },
  {
   "cell_type": "code",
   "execution_count": 17,
   "id": "66c790df",
   "metadata": {},
   "outputs": [
    {
     "data": {
      "text/plain": [
       "<Axes: xlabel='Pclass', ylabel='Fare'>"
      ]
     },
     "execution_count": 17,
     "metadata": {},
     "output_type": "execute_result"
    },
    {
     "data": {
      "image/png": "[encoded data removed]",
      "text/plain": [
       "<Figure size 640x480 with 1 Axes>"
      ]
     },
     "metadata": {},
     "output_type": "display_data"
    }
   ],
   "source": [
    "train.plot(kind=\"scatter\", x=\"Pclass\", y=\"Fare\",alpha=0.3)"
   ]
  },
  {
   "cell_type": "markdown",
   "id": "2b82756b",
   "metadata": {},
   "source": [
    "## 2.3 feature correlation analysis"
   ]
  },
  {
   "cell_type": "code",
   "execution_count": 18,
   "id": "dc39f37b",
   "metadata": {},
   "outputs": [
    {
     "data": {
      "text/plain": [
       "Index(['PassengerId', 'Survived', 'Pclass', 'Name', 'Sex', 'Age', 'SibSp',\n",
       "       'Parch', 'Ticket', 'Fare', 'Cabin', 'Embarked'],\n",
       "      dtype='object')"
      ]
     },
     "execution_count": 18,
     "metadata": {},
     "output_type": "execute_result"
    }
   ],
   "source": [
    "train.columns"
   ]
  },
  {
   "cell_type": "code",
   "execution_count": 19,
   "id": "289ca6ee",
   "metadata": {},
   "outputs": [],
   "source": [
    "features_unique=[\"Name\",\"PassengerId\",\"Ticket\"]\n",
    "features_cat=['Sex','Cabin','Embarked']\n",
    "features_num=['Pclass', 'Age', 'SibSp', 'Parch', 'Fare']"
   ]
  },
  {
   "cell_type": "code",
   "execution_count": 20,
   "id": "9476e17c",
   "metadata": {},
   "outputs": [
    {
     "data": {
      "text/html": [
       "<div>\n",
       "<style scoped>\n",
       "    .dataframe tbody tr th:only-of-type {\n",
       "        vertical-align: middle;\n",
       "    }\n",
       "\n",
       "    .dataframe tbody tr th {\n",
       "        vertical-align: top;\n",
       "    }\n",
       "\n",
       "    .dataframe thead th {\n",
       "        text-align: right;\n",
       "    }\n",
       "</style>\n",
       "<table border=\"1\" class=\"dataframe\">\n",
       "  <thead>\n",
       "    <tr style=\"text-align: right;\">\n",
       "      <th></th>\n",
       "      <th>Pclass</th>\n",
       "      <th>Age</th>\n",
       "      <th>SibSp</th>\n",
       "      <th>Parch</th>\n",
       "      <th>Fare</th>\n",
       "    </tr>\n",
       "  </thead>\n",
       "  <tbody>\n",
       "    <tr>\n",
       "      <th>Pclass</th>\n",
       "      <td>1.000000</td>\n",
       "      <td>-0.369226</td>\n",
       "      <td>0.083081</td>\n",
       "      <td>0.018443</td>\n",
       "      <td>-0.549500</td>\n",
       "    </tr>\n",
       "    <tr>\n",
       "      <th>Age</th>\n",
       "      <td>-0.369226</td>\n",
       "      <td>1.000000</td>\n",
       "      <td>-0.308247</td>\n",
       "      <td>-0.189119</td>\n",
       "      <td>0.096067</td>\n",
       "    </tr>\n",
       "    <tr>\n",
       "      <th>SibSp</th>\n",
       "      <td>0.083081</td>\n",
       "      <td>-0.308247</td>\n",
       "      <td>1.000000</td>\n",
       "      <td>0.414838</td>\n",
       "      <td>0.159651</td>\n",
       "    </tr>\n",
       "    <tr>\n",
       "      <th>Parch</th>\n",
       "      <td>0.018443</td>\n",
       "      <td>-0.189119</td>\n",
       "      <td>0.414838</td>\n",
       "      <td>1.000000</td>\n",
       "      <td>0.216225</td>\n",
       "    </tr>\n",
       "    <tr>\n",
       "      <th>Fare</th>\n",
       "      <td>-0.549500</td>\n",
       "      <td>0.096067</td>\n",
       "      <td>0.159651</td>\n",
       "      <td>0.216225</td>\n",
       "      <td>1.000000</td>\n",
       "    </tr>\n",
       "  </tbody>\n",
       "</table>\n",
       "</div>"
      ],
      "text/plain": [
       "          Pclass       Age     SibSp     Parch      Fare\n",
       "Pclass  1.000000 -0.369226  0.083081  0.018443 -0.549500\n",
       "Age    -0.369226  1.000000 -0.308247 -0.189119  0.096067\n",
       "SibSp   0.083081 -0.308247  1.000000  0.414838  0.159651\n",
       "Parch   0.018443 -0.189119  0.414838  1.000000  0.216225\n",
       "Fare   -0.549500  0.096067  0.159651  0.216225  1.000000"
      ]
     },
     "execution_count": 20,
     "metadata": {},
     "output_type": "execute_result"
    }
   ],
   "source": [
    "#corelation coefficient matrix\n",
    "corr = train[features_num].corr()  \n",
    "corr"
   ]
  },
  {
   "cell_type": "markdown",
   "id": "124cc952",
   "metadata": {},
   "source": [
    "# 3. Data preparation"
   ]
  },
  {
   "cell_type": "code",
   "execution_count": 21,
   "id": "ba2bfa04",
   "metadata": {},
   "outputs": [],
   "source": [
    "Y=train[\"Survived\"].copy()"
   ]
  },
  {
   "cell_type": "code",
   "execution_count": 22,
   "id": "fe3d3083",
   "metadata": {},
   "outputs": [],
   "source": [
    "X=train.drop(\"Survived\",axis=1)"
   ]
  },
  {
   "cell_type": "markdown",
   "id": "f0be4f0f",
   "metadata": {},
   "source": [
    "## 3.1 removing features with unique values"
   ]
  },
  {
   "cell_type": "code",
   "execution_count": 23,
   "id": "cb88ac06",
   "metadata": {},
   "outputs": [],
   "source": [
    "X.drop(features_unique,axis=1,inplace=True)"
   ]
  },
  {
   "cell_type": "markdown",
   "id": "7f857b4c",
   "metadata": {},
   "source": [
    "## 3.2 removing features with high missing value"
   ]
  },
  {
   "cell_type": "code",
   "execution_count": 24,
   "id": "40248553",
   "metadata": {},
   "outputs": [],
   "source": [
    "X.drop(\"Cabin\", axis=1,inplace=True) "
   ]
  },
  {
   "cell_type": "code",
   "execution_count": 25,
   "id": "d19defcd",
   "metadata": {
    "scrolled": true
   },
   "outputs": [
    {
     "data": {
      "text/plain": [
       "Index(['Pclass', 'Sex', 'Age', 'SibSp', 'Parch', 'Fare', 'Embarked'], dtype='object')"
      ]
     },
     "execution_count": 25,
     "metadata": {},
     "output_type": "execute_result"
    }
   ],
   "source": [
    "X.columns"
   ]
  },
  {
   "cell_type": "markdown",
   "id": "e0bed72b",
   "metadata": {},
   "source": [
    "## 3.3 filling Missing value& Standardization&Dummy variables"
   ]
  },
  {
   "cell_type": "raw",
   "id": "a7f6c393",
   "metadata": {},
   "source": [
    "# 数值型缺失值处理————中位数填充\n",
    "#X[\"Age\"].fillna(X[\"Age\"].median(), inplace=True)"
   ]
  },
  {
   "cell_type": "raw",
   "id": "c894b40b",
   "metadata": {},
   "source": [
    "# 字符型缺失值处理————众数填充\n",
    "#X['Embarked'].fillna(X['Embarked'].mode(), inplace=True)"
   ]
  },
  {
   "cell_type": "code",
   "execution_count": 26,
   "id": "f4eaac64",
   "metadata": {},
   "outputs": [],
   "source": [
    "X_num = X.drop(['Embarked','Sex'], axis=1)\n",
    "X_cat = X.loc[:,['Embarked','Sex']]\n",
    "\n",
    "from sklearn.impute import SimpleImputer\n",
    "from sklearn.preprocessing import StandardScaler\n",
    "from sklearn.preprocessing import OneHotEncoder\n",
    "from sklearn.pipeline import Pipeline\n",
    "from sklearn.compose import ColumnTransformer\n",
    "\n",
    "num_pipeline = Pipeline([\n",
    "        ('imputer_median',SimpleImputer(strategy=\"median\")),\n",
    "        ('std_scaler', StandardScaler()),\n",
    "    ])\n",
    "\n",
    "cat_pineline=Pipeline([\n",
    "        ('imputer_mode',SimpleImputer(strategy=\"most_frequent\")),\n",
    "        ('OneHotEncoder',OneHotEncoder())\n",
    "    \n",
    "    ])\n",
    "\n",
    "num_attribs = list(X_num)\n",
    "cat_attribs = list(X_cat)\n",
    "\n",
    "full_pipeline = ColumnTransformer([\n",
    "        (\"num\", num_pipeline, num_attribs),\n",
    "        (\"cat\",cat_pineline, cat_attribs),\n",
    "    ])\n",
    "\n",
    "X_prepared = full_pipeline.fit_transform(X)"
   ]
  },
  {
   "cell_type": "code",
   "execution_count": 27,
   "id": "1303b41c",
   "metadata": {},
   "outputs": [
    {
     "data": {
      "text/plain": [
       "array([[ 0.82737724, -0.56573646,  0.43279337, ...,  1.        ,\n",
       "         0.        ,  1.        ],\n",
       "       [-1.56610693,  0.66386103,  0.43279337, ...,  0.        ,\n",
       "         1.        ,  0.        ],\n",
       "       [ 0.82737724, -0.25833709, -0.4745452 , ...,  1.        ,\n",
       "         1.        ,  0.        ],\n",
       "       ...,\n",
       "       [ 0.82737724, -0.1046374 ,  0.43279337, ...,  1.        ,\n",
       "         1.        ,  0.        ],\n",
       "       [-1.56610693, -0.25833709, -0.4745452 , ...,  0.        ,\n",
       "         0.        ,  1.        ],\n",
       "       [ 0.82737724,  0.20276197, -0.4745452 , ...,  0.        ,\n",
       "         0.        ,  1.        ]])"
      ]
     },
     "execution_count": 27,
     "metadata": {},
     "output_type": "execute_result"
    }
   ],
   "source": [
    "X_prepared"
   ]
  },
  {
   "cell_type": "markdown",
   "id": "b15fc0d9",
   "metadata": {},
   "source": [
    "## 3.4 test dataset preparation"
   ]
  },
  {
   "cell_type": "code",
   "execution_count": 28,
   "id": "c1c0437d",
   "metadata": {},
   "outputs": [
    {
     "name": "stdout",
     "output_type": "stream",
     "text": [
      "<class 'pandas.core.frame.DataFrame'>\n",
      "RangeIndex: 418 entries, 0 to 417\n",
      "Data columns (total 11 columns):\n",
      " #   Column       Non-Null Count  Dtype  \n",
      "---  ------       --------------  -----  \n",
      " 0   PassengerId  418 non-null    int64  \n",
      " 1   Pclass       418 non-null    int64  \n",
      " 2   Name         418 non-null    object \n",
      " 3   Sex          418 non-null    object \n",
      " 4   Age          332 non-null    float64\n",
      " 5   SibSp        418 non-null    int64  \n",
      " 6   Parch        418 non-null    int64  \n",
      " 7   Ticket       418 non-null    object \n",
      " 8   Fare         417 non-null    float64\n",
      " 9   Cabin        91 non-null     object \n",
      " 10  Embarked     418 non-null    object \n",
      "dtypes: float64(2), int64(4), object(5)\n",
      "memory usage: 36.0+ KB\n"
     ]
    }
   ],
   "source": [
    "test=pd.read_csv(\"D:/python_study/Assignment1/test.csv\")\n",
    "test.info()"
   ]
  },
  {
   "cell_type": "code",
   "execution_count": 29,
   "id": "be553bbb",
   "metadata": {
    "scrolled": true
   },
   "outputs": [
    {
     "data": {
      "text/html": [
       "<div>\n",
       "<style scoped>\n",
       "    .dataframe tbody tr th:only-of-type {\n",
       "        vertical-align: middle;\n",
       "    }\n",
       "\n",
       "    .dataframe tbody tr th {\n",
       "        vertical-align: top;\n",
       "    }\n",
       "\n",
       "    .dataframe thead th {\n",
       "        text-align: right;\n",
       "    }\n",
       "</style>\n",
       "<table border=\"1\" class=\"dataframe\">\n",
       "  <thead>\n",
       "    <tr style=\"text-align: right;\">\n",
       "      <th></th>\n",
       "      <th>Pclass</th>\n",
       "      <th>Sex</th>\n",
       "      <th>Age</th>\n",
       "      <th>SibSp</th>\n",
       "      <th>Parch</th>\n",
       "      <th>Fare</th>\n",
       "      <th>Embarked</th>\n",
       "    </tr>\n",
       "  </thead>\n",
       "  <tbody>\n",
       "    <tr>\n",
       "      <th>0</th>\n",
       "      <td>3</td>\n",
       "      <td>male</td>\n",
       "      <td>34.5</td>\n",
       "      <td>0</td>\n",
       "      <td>0</td>\n",
       "      <td>7.8292</td>\n",
       "      <td>Q</td>\n",
       "    </tr>\n",
       "    <tr>\n",
       "      <th>1</th>\n",
       "      <td>3</td>\n",
       "      <td>female</td>\n",
       "      <td>47.0</td>\n",
       "      <td>1</td>\n",
       "      <td>0</td>\n",
       "      <td>7.0000</td>\n",
       "      <td>S</td>\n",
       "    </tr>\n",
       "    <tr>\n",
       "      <th>2</th>\n",
       "      <td>2</td>\n",
       "      <td>male</td>\n",
       "      <td>62.0</td>\n",
       "      <td>0</td>\n",
       "      <td>0</td>\n",
       "      <td>9.6875</td>\n",
       "      <td>Q</td>\n",
       "    </tr>\n",
       "    <tr>\n",
       "      <th>3</th>\n",
       "      <td>3</td>\n",
       "      <td>male</td>\n",
       "      <td>27.0</td>\n",
       "      <td>0</td>\n",
       "      <td>0</td>\n",
       "      <td>8.6625</td>\n",
       "      <td>S</td>\n",
       "    </tr>\n",
       "    <tr>\n",
       "      <th>4</th>\n",
       "      <td>3</td>\n",
       "      <td>female</td>\n",
       "      <td>22.0</td>\n",
       "      <td>1</td>\n",
       "      <td>1</td>\n",
       "      <td>12.2875</td>\n",
       "      <td>S</td>\n",
       "    </tr>\n",
       "  </tbody>\n",
       "</table>\n",
       "</div>"
      ],
      "text/plain": [
       "   Pclass     Sex   Age  SibSp  Parch     Fare Embarked\n",
       "0       3    male  34.5      0      0   7.8292        Q\n",
       "1       3  female  47.0      1      0   7.0000        S\n",
       "2       2    male  62.0      0      0   9.6875        Q\n",
       "3       3    male  27.0      0      0   8.6625        S\n",
       "4       3  female  22.0      1      1  12.2875        S"
      ]
     },
     "execution_count": 29,
     "metadata": {},
     "output_type": "execute_result"
    }
   ],
   "source": [
    "X_test=test.drop([\"Cabin\",\"Name\",\"PassengerId\",\"Ticket\"],axis=1)\n",
    "X_test.head()"
   ]
  },
  {
   "cell_type": "code",
   "execution_count": 30,
   "id": "a3b7042a",
   "metadata": {},
   "outputs": [],
   "source": [
    "X_test_prepared = full_pipeline.transform(X_test)"
   ]
  },
  {
   "cell_type": "markdown",
   "id": "0f062b6e",
   "metadata": {},
   "source": [
    "# 4. Training Model"
   ]
  },
  {
   "cell_type": "markdown",
   "id": "6ceed933",
   "metadata": {},
   "source": [
    "## 4.1 Naive_Bays"
   ]
  },
  {
   "cell_type": "code",
   "execution_count": 31,
   "id": "df237058",
   "metadata": {},
   "outputs": [],
   "source": [
    "# naive_bayes\n",
    "from sklearn.naive_bayes import GaussianNB\n",
    "\n",
    "gnb=GaussianNB()\n",
    "\n",
    "Classifier=gnb.fit(X_prepared, Y)\n",
    "Y_predictions =Classifier.predict(X_prepared)"
   ]
  },
  {
   "cell_type": "code",
   "execution_count": 32,
   "id": "9c691dde",
   "metadata": {},
   "outputs": [
    {
     "name": "stdout",
     "output_type": "stream",
     "text": [
      " Accuracy：0.79  AUC：0.78   Precision：0.72\n"
     ]
    }
   ],
   "source": [
    "#计算评估指标\n",
    "from sklearn.metrics import roc_curve,auc,accuracy_score,precision_score\n",
    "from sklearn.model_selection import cross_val_score\n",
    "\n",
    "def display_metrics(Y,Y_predictions,Classifier):\n",
    "    false_positive_rate, recall, thresholds = roc_curve(Y,Y_predictions)\n",
    "    roc_auc = auc(false_positive_rate, recall)\n",
    "    accuracy=accuracy_score(Y,Y_predictions)\n",
    "    precision=precision_score(Y,Y_predictions)\n",
    "    print(f\" Accuracy：{accuracy:.2f}  AUC：{roc_auc:.2f}   Precision：{precision:.2f}\")\n",
    "\n",
    "#     scores = cross_val_score(Classifier,X_prepared,Y,\n",
    "#                                 scoring=\"accuracy\", cv=10) \n",
    "#    print(f\" Mean_accuracy:{scores.mean():.2f}\\n accuracy:{scores:}\")\n",
    "#    print(f\"Standard deviation:{scores.std():.2f}\")\n",
    "\n",
    "display_metrics(Y,Y_predictions,Classifier)"
   ]
  },
  {
   "cell_type": "code",
   "execution_count": 33,
   "id": "168daa7d",
   "metadata": {},
   "outputs": [],
   "source": [
    "# test 预测\n",
    "def pickup_model(Classifier,test_set):\n",
    "    predictions = Classifier.predict(test_set)\n",
    "    return predictions"
   ]
  },
  {
   "cell_type": "code",
   "execution_count": 34,
   "id": "45a4c57a",
   "metadata": {},
   "outputs": [],
   "source": [
    "np_predictions=pickup_model(Classifier,X_test_prepared)\n",
    "test_prediction= pd.concat([test[\"PassengerId\"],pd.DataFrame(np_predictions,columns=[\"Survived\"])],axis= 1)"
   ]
  },
  {
   "cell_type": "code",
   "execution_count": 35,
   "id": "9a53013d",
   "metadata": {},
   "outputs": [
    {
     "data": {
      "text/plain": [
       "0    239\n",
       "1    179\n",
       "Name: Survived, dtype: int64"
      ]
     },
     "execution_count": 35,
     "metadata": {},
     "output_type": "execute_result"
    }
   ],
   "source": [
    "test_prediction.head()\n",
    "test_prediction[\"Survived\"].value_counts()"
   ]
  },
  {
   "cell_type": "code",
   "execution_count": 36,
   "id": "efb0f618",
   "metadata": {},
   "outputs": [],
   "source": [
    "test_prediction.to_csv(\"D:/python_study/Assignment1/submission_GaussianNB.csv\",index=False)"
   ]
  },
  {
   "cell_type": "markdown",
   "id": "9c310649",
   "metadata": {},
   "source": [
    "## 4.2 DecisionTree"
   ]
  },
  {
   "cell_type": "code",
   "execution_count": 37,
   "id": "c9570643",
   "metadata": {},
   "outputs": [
    {
     "name": "stdout",
     "output_type": "stream",
     "text": [
      " Accuracy：0.83  AUC：0.80   Precision：0.87\n"
     ]
    }
   ],
   "source": [
    "\n",
    "from sklearn.tree import DecisionTreeClassifier\n",
    "\n",
    "tree_clf = DecisionTreeClassifier(criterion=\"gini\",\n",
    "                                  max_depth=5,\n",
    "                                  min_samples_leaf=10,\n",
    "                                  random_state=28)\n",
    "\n",
    "Classifier=tree_clf.fit(X_prepared, Y)\n",
    "Y_predictions =Classifier.predict(X_prepared)\n",
    "display_metrics(Y,Y_predictions,Classifier)\n",
    "\n",
    "np_predictions=pickup_model(Classifier,X_test_prepared)\n",
    "test_prediction= pd.concat([test[\"PassengerId\"],pd.DataFrame(np_predictions,columns=[\"Survived\"])],axis= 1)\n",
    "test_prediction.to_csv(\"D:/python_study/Assignment1/submission_DecisionTree.csv\",index=False)"
   ]
  },
  {
   "cell_type": "markdown",
   "id": "6815f3b4",
   "metadata": {},
   "source": [
    "## 4.3 Neural_NetWork Perceptron"
   ]
  },
  {
   "cell_type": "code",
   "execution_count": 38,
   "id": "85e71a93",
   "metadata": {},
   "outputs": [
    {
     "name": "stdout",
     "output_type": "stream",
     "text": [
      " Accuracy：0.85  AUC：0.82   Precision：0.86\n"
     ]
    }
   ],
   "source": [
    "# neural_network Perceptron\n",
    "from sklearn.neural_network import MLPClassifier\n",
    "\n",
    "nnk_clf = MLPClassifier(solver='adam',\n",
    "                        alpha=1,\n",
    "                        max_iter=1000,\n",
    "                        random_state=42)\n",
    "\n",
    "Classifier=nnk_clf.fit(X_prepared, Y)\n",
    "Y_predictions =Classifier.predict(X_prepared)\n",
    "display_metrics(Y,Y_predictions,Classifier)\n",
    "\n",
    "np_predictions=pickup_model(Classifier,X_test_prepared)\n",
    "test_prediction= pd.concat([test[\"PassengerId\"],pd.DataFrame(np_predictions,columns=[\"Survived\"])],axis= 1)\n",
    "test_prediction.to_csv(\"D:/python_study/Assignment1/submission_NetWorkPerception_adam.csv\",index=False)"
   ]
  },
  {
   "cell_type": "markdown",
   "id": "8d9ef503",
   "metadata": {},
   "source": [
    "## 4.4 LogisticRegression"
   ]
  },
  {
   "cell_type": "code",
   "execution_count": 39,
   "id": "9b119446",
   "metadata": {},
   "outputs": [
    {
     "name": "stdout",
     "output_type": "stream",
     "text": [
      " Accuracy：0.80  AUC：0.78   Precision：0.76\n"
     ]
    }
   ],
   "source": [
    "# LogisticRegression\n",
    "\n",
    "from sklearn.linear_model import LogisticRegression\n",
    "\n",
    "lg_reg=LogisticRegression()\n",
    "\n",
    "Classifier=lg_reg.fit(X_prepared, Y)\n",
    "Y_predictions =Classifier.predict(X_prepared)\n",
    "display_metrics(Y,Y_predictions,Classifier)\n",
    "\n",
    "np_predictions=pickup_model(Classifier,X_test_prepared)\n",
    "test_prediction= pd.concat([test[\"PassengerId\"],pd.DataFrame(np_predictions,columns=[\"Survived\"])],axis= 1)\n",
    "test_prediction.to_csv(\"D:/python_study/Assignment1/submission_LG_Regression.csv\",index=False)"
   ]
  },
  {
   "cell_type": "markdown",
   "id": "037cf988",
   "metadata": {},
   "source": [
    "## 4.5 RandomForest"
   ]
  },
  {
   "cell_type": "code",
   "execution_count": 40,
   "id": "1379c083",
   "metadata": {},
   "outputs": [
    {
     "name": "stdout",
     "output_type": "stream",
     "text": [
      " Accuracy：0.84  AUC：0.81   Precision：0.85\n"
     ]
    }
   ],
   "source": [
    "# RandomForestClassifier\n",
    "\n",
    "from sklearn.ensemble import RandomForestClassifier\n",
    "\n",
    "forest_clf = RandomForestClassifier(n_estimators=10,\n",
    "                                    max_depth=4,\n",
    "                                    max_features=3,\n",
    "                                    #min_samples_split=10,\n",
    "                                    #min_samples_leaf=5,\n",
    "                                    random_state=42)\n",
    "\n",
    "Classifier=forest_clf.fit(X_prepared, Y)\n",
    "Y_predictions =Classifier.predict(X_prepared)\n",
    "display_metrics(Y,Y_predictions,Classifier)\n",
    "\n",
    "np_predictions=pickup_model(Classifier,X_test_prepared)\n",
    "test_prediction= pd.concat([test[\"PassengerId\"],pd.DataFrame(np_predictions,columns=[\"Survived\"])],axis= 1)\n",
    "test_prediction.to_csv(\"D:/python_study/Assignment1/submission_RandomForest.csv\",index=False)"
   ]
  },
  {
   "cell_type": "markdown",
   "id": "10a1e8d1",
   "metadata": {},
   "source": [
    "# 5.Fine Tune NewWork Perception (the best predictions in test dataset)"
   ]
  },
  {
   "cell_type": "markdown",
   "id": "c4d68659",
   "metadata": {},
   "source": [
    "## 5.1 Ajusting hyperparameter: solver='lbfgs'"
   ]
  },
  {
   "cell_type": "code",
   "execution_count": 41,
   "id": "a5dcb4d2",
   "metadata": {},
   "outputs": [
    {
     "name": "stdout",
     "output_type": "stream",
     "text": [
      " Accuracy：0.87  AUC：0.85   Precision：0.90\n"
     ]
    }
   ],
   "source": [
    "from sklearn.neural_network import MLPClassifier\n",
    "\n",
    "nnk_clf = MLPClassifier(solver='lbfgs',\n",
    "                        alpha=1,\n",
    "                        max_iter=5000,\n",
    "                        random_state=42)\n",
    "\n",
    "Classifier=nnk_clf.fit(X_prepared, Y)\n",
    "Y_predictions =Classifier.predict(X_prepared)\n",
    "display_metrics(Y,Y_predictions,Classifier)\n",
    "\n",
    "np_predictions=pickup_model(Classifier,X_test_prepared)\n",
    "test_prediction= pd.concat([test[\"PassengerId\"],pd.DataFrame(np_predictions,columns=[\"Survived\"])],axis= 1)\n",
    "test_prediction.to_csv(\"D:/python_study/Assignment1/submission_NetWorkPerception_lbfgs.csv\",index=False)"
   ]
  },
  {
   "cell_type": "markdown",
   "id": "139b3c2f",
   "metadata": {},
   "source": [
    "## 5.2 Ajusting hyperparameter: solver='sgd'"
   ]
  },
  {
   "cell_type": "code",
   "execution_count": 42,
   "id": "078133ba",
   "metadata": {},
   "outputs": [
    {
     "name": "stdout",
     "output_type": "stream",
     "text": [
      " Accuracy：0.85  AUC：0.82   Precision：0.88\n"
     ]
    }
   ],
   "source": [
    "from sklearn.neural_network import MLPClassifier\n",
    "\n",
    "nnk_clf = MLPClassifier(solver='sgd',\n",
    "                        learning_rate_init=0.05,\n",
    "                        alpha=1,\n",
    "                        max_iter=1000,\n",
    "                        random_state=42)\n",
    "\n",
    "Classifier=nnk_clf.fit(X_prepared, Y)\n",
    "Y_predictions =Classifier.predict(X_prepared)\n",
    "display_metrics(Y,Y_predictions,Classifier)\n",
    "\n",
    "np_predictions=pickup_model(Classifier,X_test_prepared)\n",
    "test_prediction= pd.concat([test[\"PassengerId\"],pd.DataFrame(np_predictions,columns=[\"Survived\"])],axis= 1)\n",
    "test_prediction.to_csv(\"D:/python_study/Assignment1/submission_NetWorkPerception_sgd.csv\",index=False)"
   ]
  },
  {
   "cell_type": "markdown",
   "id": "6c3a4810",
   "metadata": {},
   "source": [
    "## 5.3 Ajusting hyperparameter: alpha=0.002"
   ]
  },
  {
   "cell_type": "code",
   "execution_count": 43,
   "id": "ac5bf32f",
   "metadata": {},
   "outputs": [
    {
     "name": "stdout",
     "output_type": "stream",
     "text": [
      " Accuracy：0.87  AUC：0.84   Precision：0.89\n"
     ]
    }
   ],
   "source": [
    "from sklearn.neural_network import MLPClassifier\n",
    "\n",
    "nnk_clf = MLPClassifier(solver='adam',\n",
    "                        alpha=0.002,\n",
    "                        max_iter=1000,\n",
    "                        random_state=42)\n",
    "\n",
    "Classifier=nnk_clf.fit(X_prepared, Y)\n",
    "Y_predictions =Classifier.predict(X_prepared)\n",
    "display_metrics(Y,Y_predictions,Classifier)\n",
    "\n",
    "np_predictions=pickup_model(Classifier,X_test_prepared)\n",
    "test_prediction= pd.concat([test[\"PassengerId\"],pd.DataFrame(np_predictions,columns=[\"Survived\"])],axis= 1)\n",
    "test_prediction.to_csv(\"D:/python_study/Assignment1/submission_NetWorkPerception_adam_alpha.csv\",index=False)"
   ]
  },
  {
   "cell_type": "markdown",
   "id": "4e09af97",
   "metadata": {},
   "source": [
    "## 5.4 GridSearch the optimal hyperparameters for NetWorkPerception"
   ]
  },
  {
   "cell_type": "code",
   "execution_count": 44,
   "id": "43008286",
   "metadata": {},
   "outputs": [
    {
     "data": {
      "text/html": [
       "<style>#sk-container-id-1 {color: black;background-color: white;}#sk-container-id-1 pre{padding: 0;}#sk-container-id-1 div.sk-toggleable {background-color: white;}#sk-container-id-1 label.sk-toggleable__label {cursor: pointer;display: block;width: 100%;margin-bottom: 0;padding: 0.3em;box-sizing: border-box;text-align: center;}#sk-container-id-1 label.sk-toggleable__label-arrow:before {content: \"▸\";float: left;margin-right: 0.25em;color: #696969;}#sk-container-id-1 label.sk-toggleable__label-arrow:hover:before {color: black;}#sk-container-id-1 div.sk-estimator:hover label.sk-toggleable__label-arrow:before {color: black;}#sk-container-id-1 div.sk-toggleable__content {max-height: 0;max-width: 0;overflow: hidden;text-align: left;background-color: #f0f8ff;}#sk-container-id-1 div.sk-toggleable__content pre {margin: 0.2em;color: black;border-radius: 0.25em;background-color: #f0f8ff;}#sk-container-id-1 input.sk-toggleable__control:checked~div.sk-toggleable__content {max-height: 200px;max-width: 100%;overflow: auto;}#sk-container-id-1 input.sk-toggleable__control:checked~label.sk-toggleable__label-arrow:before {content: \"▾\";}#sk-container-id-1 div.sk-estimator input.sk-toggleable__control:checked~label.sk-toggleable__label {background-color: #d4ebff;}#sk-container-id-1 div.sk-label input.sk-toggleable__control:checked~label.sk-toggleable__label {background-color: #d4ebff;}#sk-container-id-1 input.sk-hidden--visually {border: 0;clip: rect(1px 1px 1px 1px);clip: rect(1px, 1px, 1px, 1px);height: 1px;margin: -1px;overflow: hidden;padding: 0;position: absolute;width: 1px;}#sk-container-id-1 div.sk-estimator {font-family: monospace;background-color: #f0f8ff;border: 1px dotted black;border-radius: 0.25em;box-sizing: border-box;margin-bottom: 0.5em;}#sk-container-id-1 div.sk-estimator:hover {background-color: #d4ebff;}#sk-container-id-1 div.sk-parallel-item::after {content: \"\";width: 100%;border-bottom: 1px solid gray;flex-grow: 1;}#sk-container-id-1 div.sk-label:hover label.sk-toggleable__label {background-color: #d4ebff;}#sk-container-id-1 div.sk-serial::before {content: \"\";position: absolute;border-left: 1px solid gray;box-sizing: border-box;top: 0;bottom: 0;left: 50%;z-index: 0;}#sk-container-id-1 div.sk-serial {display: flex;flex-direction: column;align-items: center;background-color: white;padding-right: 0.2em;padding-left: 0.2em;position: relative;}#sk-container-id-1 div.sk-item {position: relative;z-index: 1;}#sk-container-id-1 div.sk-parallel {display: flex;align-items: stretch;justify-content: center;background-color: white;position: relative;}#sk-container-id-1 div.sk-item::before, #sk-container-id-1 div.sk-parallel-item::before {content: \"\";position: absolute;border-left: 1px solid gray;box-sizing: border-box;top: 0;bottom: 0;left: 50%;z-index: -1;}#sk-container-id-1 div.sk-parallel-item {display: flex;flex-direction: column;z-index: 1;position: relative;background-color: white;}#sk-container-id-1 div.sk-parallel-item:first-child::after {align-self: flex-end;width: 50%;}#sk-container-id-1 div.sk-parallel-item:last-child::after {align-self: flex-start;width: 50%;}#sk-container-id-1 div.sk-parallel-item:only-child::after {width: 0;}#sk-container-id-1 div.sk-dashed-wrapped {border: 1px dashed gray;margin: 0 0.4em 0.5em 0.4em;box-sizing: border-box;padding-bottom: 0.4em;background-color: white;}#sk-container-id-1 div.sk-label label {font-family: monospace;font-weight: bold;display: inline-block;line-height: 1.2em;}#sk-container-id-1 div.sk-label-container {text-align: center;}#sk-container-id-1 div.sk-container {/* jupyter's `normalize.less` sets `[hidden] { display: none; }` but bootstrap.min.css set `[hidden] { display: none !important; }` so we also need the `!important` here to be able to override the default hidden behavior on the sphinx rendered scikit-learn.org. See: https://github.com/scikit-learn/scikit-learn/issues/21755 */display: inline-block !important;position: relative;}#sk-container-id-1 div.sk-text-repr-fallback {display: none;}</style><div id=\"sk-container-id-1\" class=\"sk-top-container\"><div class=\"sk-text-repr-fallback\"><pre>GridSearchCV(cv=5, estimator=MLPClassifier(max_iter=1000, random_state=42),\n",
       "             param_grid=[{&#x27;alpha&#x27;: [0.3, 0.5, 1],\n",
       "                          &#x27;learning_rate_init&#x27;: [0.001, 0.005, 0.01]}],\n",
       "             return_train_score=True, scoring=&#x27;accuracy&#x27;)</pre><b>In a Jupyter environment, please rerun this cell to show the HTML representation or trust the notebook. <br />On GitHub, the HTML representation is unable to render, please try loading this page with nbviewer.org.</b></div><div class=\"sk-container\" hidden><div class=\"sk-item sk-dashed-wrapped\"><div class=\"sk-label-container\"><div class=\"sk-label sk-toggleable\"><input class=\"sk-toggleable__control sk-hidden--visually\" id=\"sk-estimator-id-1\" type=\"checkbox\" ><label for=\"sk-estimator-id-1\" class=\"sk-toggleable__label sk-toggleable__label-arrow\">GridSearchCV</label><div class=\"sk-toggleable__content\"><pre>GridSearchCV(cv=5, estimator=MLPClassifier(max_iter=1000, random_state=42),\n",
       "             param_grid=[{&#x27;alpha&#x27;: [0.3, 0.5, 1],\n",
       "                          &#x27;learning_rate_init&#x27;: [0.001, 0.005, 0.01]}],\n",
       "             return_train_score=True, scoring=&#x27;accuracy&#x27;)</pre></div></div></div><div class=\"sk-parallel\"><div class=\"sk-parallel-item\"><div class=\"sk-item\"><div class=\"sk-label-container\"><div class=\"sk-label sk-toggleable\"><input class=\"sk-toggleable__control sk-hidden--visually\" id=\"sk-estimator-id-2\" type=\"checkbox\" ><label for=\"sk-estimator-id-2\" class=\"sk-toggleable__label sk-toggleable__label-arrow\">estimator: MLPClassifier</label><div class=\"sk-toggleable__content\"><pre>MLPClassifier(max_iter=1000, random_state=42)</pre></div></div></div><div class=\"sk-serial\"><div class=\"sk-item\"><div class=\"sk-estimator sk-toggleable\"><input class=\"sk-toggleable__control sk-hidden--visually\" id=\"sk-estimator-id-3\" type=\"checkbox\" ><label for=\"sk-estimator-id-3\" class=\"sk-toggleable__label sk-toggleable__label-arrow\">MLPClassifier</label><div class=\"sk-toggleable__content\"><pre>MLPClassifier(max_iter=1000, random_state=42)</pre></div></div></div></div></div></div></div></div></div></div>"
      ],
      "text/plain": [
       "GridSearchCV(cv=5, estimator=MLPClassifier(max_iter=1000, random_state=42),\n",
       "             param_grid=[{'alpha': [0.3, 0.5, 1],\n",
       "                          'learning_rate_init': [0.001, 0.005, 0.01]}],\n",
       "             return_train_score=True, scoring='accuracy')"
      ]
     },
     "execution_count": 44,
     "metadata": {},
     "output_type": "execute_result"
    }
   ],
   "source": [
    "from sklearn.model_selection import GridSearchCV\n",
    "\n",
    "param_grid = [\n",
    "    # try 27 (3*3*3) combinations of hyperparameters\n",
    "    { 'learning_rate_init':[0.001,0.005,0.01],'alpha':[0.3,0.5,1]}\n",
    "  ]\n",
    "\n",
    "Classifier = MLPClassifier(solver='adam',max_iter=1000,random_state=42)\n",
    "\n",
    "grid_search = GridSearchCV(Classifier, param_grid, cv=5,\n",
    "                           scoring='accuracy', return_train_score=True)\n",
    "grid_search.fit(X_prepared,Y)"
   ]
  },
  {
   "cell_type": "code",
   "execution_count": 45,
   "id": "1ff78741",
   "metadata": {},
   "outputs": [
    {
     "data": {
      "text/plain": [
       "{'alpha': 0.3, 'learning_rate_init': 0.001}"
      ]
     },
     "execution_count": 45,
     "metadata": {},
     "output_type": "execute_result"
    }
   ],
   "source": [
    "grid_search.best_params_"
   ]
  },
  {
   "cell_type": "code",
   "execution_count": 46,
   "id": "016a77f9",
   "metadata": {},
   "outputs": [
    {
     "name": "stdout",
     "output_type": "stream",
     "text": [
      "0.8260749482141737 {'alpha': 0.3, 'learning_rate_init': 0.001}\n",
      "0.8103571652752496 {'alpha': 0.3, 'learning_rate_init': 0.005}\n",
      "0.8204255853367648 {'alpha': 0.3, 'learning_rate_init': 0.01}\n",
      "0.8226853304877283 {'alpha': 0.5, 'learning_rate_init': 0.001}\n",
      "0.8249262444291006 {'alpha': 0.5, 'learning_rate_init': 0.005}\n",
      "0.8249262444291006 {'alpha': 0.5, 'learning_rate_init': 0.01}\n",
      "0.815956311593748 {'alpha': 1, 'learning_rate_init': 0.001}\n",
      "0.8193019898311468 {'alpha': 1, 'learning_rate_init': 0.005}\n",
      "0.8103634423451134 {'alpha': 1, 'learning_rate_init': 0.01}\n"
     ]
    }
   ],
   "source": [
    "cvres = grid_search.cv_results_\n",
    "for accuracy, params in zip(cvres[\"mean_test_score\"], cvres[\"params\"]):\n",
    "    print(accuracy, params)"
   ]
  },
  {
   "cell_type": "code",
   "execution_count": 47,
   "id": "0bad8213",
   "metadata": {},
   "outputs": [
    {
     "name": "stdout",
     "output_type": "stream",
     "text": [
      " Accuracy：0.85  AUC：0.82   Precision：0.89\n"
     ]
    }
   ],
   "source": [
    "Classifier = grid_search.best_estimator_\n",
    "Y_predictions =Classifier.predict(X_prepared)\n",
    "display_metrics(Y,Y_predictions,Classifier)"
   ]
  },
  {
   "cell_type": "code",
   "execution_count": 48,
   "id": "8fdb7f93",
   "metadata": {},
   "outputs": [],
   "source": [
    "np_predictions=pickup_model(Classifier,X_test_prepared)\n",
    "test_prediction= pd.concat([test[\"PassengerId\"],pd.DataFrame(np_predictions,columns=[\"Survived\"])],axis= 1)\n",
    "test_prediction.to_csv(\"D:/python_study/Assignment1/submission_FineTuneNNK.csv\",index=False)"
   ]
  }
 ],
 "metadata": {
  "kernelspec": {
   "display_name": "Python 3 (ipykernel)",
   "language": "python",
   "name": "python3"
  },
  "language_info": {
   "codemirror_mode": {
    "name": "ipython",
    "version": 3
   },
   "file_extension": ".py",
   "mimetype": "text/x-python",
   "name": "python",
   "nbconvert_exporter": "python",
   "pygments_lexer": "ipython3",
   "version": "3.10.9"
  }
 },
 "nbformat": 4,
 "nbformat_minor": 5
}
